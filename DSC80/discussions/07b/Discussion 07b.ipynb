{
 "cells": [
  {
   "cell_type": "markdown",
   "metadata": {},
   "source": [
    "# Discussion 7b\n",
    "\n",
    "### Due Friday May 15, 11:59:59PM"
   ]
  },
  {
   "cell_type": "markdown",
   "metadata": {},
   "source": [
    "---\n",
    "\n",
    "## Regex and Text Data"
   ]
  },
  {
   "cell_type": "code",
   "execution_count": 5,
   "metadata": {},
   "outputs": [],
   "source": [
    "# import libraries\n",
    "import pandas as pd\n",
    "import numpy as np\n",
    "import os\n",
    "import re"
   ]
  },
  {
   "cell_type": "markdown",
   "metadata": {},
   "source": [
    "## Useful links\n",
    "\n",
    "https://pythex.org/\n",
    "\n",
    "https://www.debuggex.com/cheatsheet/regex/python\n"
   ]
  },
  {
   "cell_type": "markdown",
   "metadata": {},
   "source": [
    "### **Q1**: Identify duplicate words in a sentence\n",
    "\n",
    "Given an input sentence, provide a list of words that are duplicated. If there is no duplication return an empty list"
   ]
  },
  {
   "cell_type": "code",
   "execution_count": 6,
   "metadata": {},
   "outputs": [],
   "source": [
    "def duplicate_words(s):\n",
    "    '''Provide a list of all words that are duplicates in an input sentence.\n",
    "    Assume that the sentences are lower case.'''\n",
    "    return ..."
   ]
  },
  {
   "cell_type": "code",
   "execution_count": 7,
   "metadata": {},
   "outputs": [],
   "source": [
    "s = 'let us plan for a horror movie movie this weekend weekend'\n",
    "s = 'I like surfing'"
   ]
  },
  {
   "cell_type": "code",
   "execution_count": null,
   "metadata": {},
   "outputs": [],
   "source": []
  },
  {
   "cell_type": "markdown",
   "metadata": {},
   "source": [
    "### **Q2:** Extract laptop specifications\n",
    "The below image provides details on column names and the extract patterns. Given a df with product description - Return df with added columns of processor (i3, i5), generation (9th Gen, 10th Gen), storage (512 GB SSD, 1 TB HDD), display_in_inch (15.6 inch, 14 inch). \n",
    "\n",
    "If there is no specific information present, keep a null (NaN) value.\n",
    "\n",
    "<img src='laptop_specs.png'>"
   ]
  },
  {
   "cell_type": "code",
   "execution_count": 11,
   "metadata": {},
   "outputs": [],
   "source": [
    "def laptop_details(df):\n",
    "    '''Given a df with product description - Return df with added columns of \n",
    "    processor (i3, i5), generation (9th Gen, 10th Gen), \n",
    "    storage (512 GB SSD, 1 TB HDD), display_in_inch (15.6 inch, 14 inch)'''\n",
    "    return ..."
   ]
  },
  {
   "cell_type": "code",
   "execution_count": 16,
   "metadata": {},
   "outputs": [
    {
     "data": {
      "text/html": [
       "<div>\n",
       "<style scoped>\n",
       "    .dataframe tbody tr th:only-of-type {\n",
       "        vertical-align: middle;\n",
       "    }\n",
       "\n",
       "    .dataframe tbody tr th {\n",
       "        vertical-align: top;\n",
       "    }\n",
       "\n",
       "    .dataframe thead th {\n",
       "        text-align: right;\n",
       "    }\n",
       "</style>\n",
       "<table border=\"1\" class=\"dataframe\">\n",
       "  <thead>\n",
       "    <tr style=\"text-align: right;\">\n",
       "      <th></th>\n",
       "      <th>laptop_description</th>\n",
       "    </tr>\n",
       "  </thead>\n",
       "  <tbody>\n",
       "    <tr>\n",
       "      <th>0</th>\n",
       "      <td>Intel Core i5 Processor (9th Gen), 8 GB DDR4 R...</td>\n",
       "    </tr>\n",
       "    <tr>\n",
       "      <th>1</th>\n",
       "      <td>Intel Core i3 Processor (2nd   Gen), 8 GB DDR4...</td>\n",
       "    </tr>\n",
       "    <tr>\n",
       "      <th>2</th>\n",
       "      <td>Intel Core i5 Processor (  10th Gen), 64 bit W...</td>\n",
       "    </tr>\n",
       "    <tr>\n",
       "      <th>3</th>\n",
       "      <td>Intel Core i5 Processor (10th Gen ), 256 GB SS...</td>\n",
       "    </tr>\n",
       "    <tr>\n",
       "      <th>4</th>\n",
       "      <td>Intel Core i3 Processor, 4 GB DDR4 RAM, 64 bit...</td>\n",
       "    </tr>\n",
       "  </tbody>\n",
       "</table>\n",
       "</div>"
      ],
      "text/plain": [
       "                                  laptop_description\n",
       "0  Intel Core i5 Processor (9th Gen), 8 GB DDR4 R...\n",
       "1  Intel Core i3 Processor (2nd   Gen), 8 GB DDR4...\n",
       "2  Intel Core i5 Processor (  10th Gen), 64 bit W...\n",
       "3  Intel Core i5 Processor (10th Gen ), 256 GB SS...\n",
       "4  Intel Core i3 Processor, 4 GB DDR4 RAM, 64 bit..."
      ]
     },
     "execution_count": 16,
     "metadata": {},
     "output_type": "execute_result"
    }
   ],
   "source": [
    "df = pd.read_csv('data/laptop_details.csv')\n",
    "df.head()"
   ]
  },
  {
   "cell_type": "code",
   "execution_count": null,
   "metadata": {},
   "outputs": [],
   "source": []
  },
  {
   "cell_type": "code",
   "execution_count": null,
   "metadata": {},
   "outputs": [],
   "source": []
  },
  {
   "cell_type": "markdown",
   "metadata": {},
   "source": [
    "### **Q3**: Corpus IDF\n",
    "\n",
    "Given an text corpus (in a Series), return a dictionary with keys as word and values as IDF values. Perform the following cleaning operations initially - Convert text to lower case, Remove all non-alpha-numeric characters.\n",
    "\n",
    "Note: It is always good to replace unnecessary characters with space and perform strip operation, rather than replacing with an empty string."
   ]
  },
  {
   "cell_type": "code",
   "execution_count": 13,
   "metadata": {},
   "outputs": [],
   "source": [
    "def corpus_idf(corpus):\n",
    "    '''Given a text corpus as Series, return a dictionary with keys as words and values as IDF values'''\n",
    "    \n",
    "    return ..."
   ]
  },
  {
   "cell_type": "code",
   "execution_count": 14,
   "metadata": {},
   "outputs": [
    {
     "data": {
      "text/plain": [
       "0      Not much to write about here, but it does exac...\n",
       "1      The product does exactly as it should and is q...\n",
       "2      The primary job of this device is to block the...\n",
       "3      Nice windscreen protects my MXL mic and preven...\n",
       "4      This pop filter is great. It looks and perform...\n",
       "                             ...                        \n",
       "195    Good all around mike. If you are looking for a...\n",
       "196    Seriously?  The Shure SM57 sets the standard, ...\n",
       "197    If it's good enough to track Tom Petty's vox o...\n",
       "198    There's a reason every mic cabinet has at leas...\n",
       "199    I use this to mic snare drums and sometimes gu...\n",
       "Name: reviewText, Length: 200, dtype: object"
      ]
     },
     "execution_count": 14,
     "metadata": {},
     "output_type": "execute_result"
    }
   ],
   "source": [
    "df = pd.read_csv('data/musical_instruments_reviews.csv')\n",
    "df.head()\n",
    "corpus = df['reviewText']\n",
    "corpus"
   ]
  },
  {
   "cell_type": "code",
   "execution_count": null,
   "metadata": {},
   "outputs": [],
   "source": []
  },
  {
   "cell_type": "code",
   "execution_count": null,
   "metadata": {},
   "outputs": [],
   "source": []
  }
 ],
 "metadata": {
  "kernelspec": {
   "display_name": "Python 3",
   "language": "python",
   "name": "python3"
  },
  "language_info": {
   "codemirror_mode": {
    "name": "ipython",
    "version": 3
   },
   "file_extension": ".py",
   "mimetype": "text/x-python",
   "name": "python",
   "nbconvert_exporter": "python",
   "pygments_lexer": "ipython3",
   "version": "3.8.8"
  }
 },
 "nbformat": 4,
 "nbformat_minor": 2
}
