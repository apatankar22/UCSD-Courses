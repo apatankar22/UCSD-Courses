{
 "cells": [
  {
   "cell_type": "code",
   "execution_count": null,
   "id": "qualified-issue",
   "metadata": {},
   "outputs": [],
   "source": [
    "# import libraries\n",
    "import os\n",
    "import numpy as np\n",
    "import pandas as pd"
   ]
  },
  {
   "cell_type": "code",
   "execution_count": null,
   "id": "smoking-yeast",
   "metadata": {},
   "outputs": [],
   "source": [
    "import requests\n",
    "import time\n",
    "from bs4 import BeautifulSoup\n",
    "import re"
   ]
  },
  {
   "cell_type": "markdown",
   "id": "peripheral-wrong",
   "metadata": {},
   "source": [
    "### Q1: Get the urls of the website pages"
   ]
  },
  {
   "cell_type": "code",
   "execution_count": null,
   "id": "international-bermuda",
   "metadata": {},
   "outputs": [],
   "source": [
    "def url_list():\n",
    "    return [f'http://books.toscrape.com/catalogue/page-{idx}.html' for idx in range(1,51)]"
   ]
  },
  {
   "cell_type": "code",
   "execution_count": null,
   "id": "willing-quebec",
   "metadata": {},
   "outputs": [],
   "source": [
    "url = 'http://books.toscrape.com/catalogue/page-1.html'"
   ]
  },
  {
   "cell_type": "code",
   "execution_count": null,
   "id": "effective-omaha",
   "metadata": {},
   "outputs": [],
   "source": [
    "url_list()"
   ]
  },
  {
   "cell_type": "markdown",
   "id": "committed-patent",
   "metadata": {},
   "source": [
    "### Q2: Collect all the HTTP responses in a list"
   ]
  },
  {
   "cell_type": "code",
   "execution_count": null,
   "id": "prerequisite-birmingham",
   "metadata": {},
   "outputs": [],
   "source": [
    "def parse_url(url):\n",
    "    ..."
   ]
  },
  {
   "cell_type": "code",
   "execution_count": null,
   "id": "sapphire-sterling",
   "metadata": {},
   "outputs": [],
   "source": [
    "book_request = requests.get(url)\n",
    "book_request.text\n",
    "soup = BeautifulSoup(book_request.text)\n",
    "soup"
   ]
  },
  {
   "cell_type": "markdown",
   "id": "composed-craps",
   "metadata": {},
   "source": [
    "### Q3: Get Book URLs"
   ]
  },
  {
   "cell_type": "code",
   "execution_count": null,
   "id": "competent-oxygen",
   "metadata": {},
   "outputs": [],
   "source": [
    "def get_book_url(resp_list):\n",
    "    ..."
   ]
  },
  {
   "cell_type": "code",
   "execution_count": null,
   "id": "patent-philadelphia",
   "metadata": {},
   "outputs": [],
   "source": [
    "articles = soup.find_all('article', {\"class\": \"product_pod\"})\n",
    "book_links = [art.find('a').get('href') for art in articles]\n",
    "book_links"
   ]
  },
  {
   "cell_type": "markdown",
   "id": "alternative-hayes",
   "metadata": {},
   "source": [
    "### Q4: Parse Book information from book URLs"
   ]
  },
  {
   "cell_type": "code",
   "execution_count": null,
   "id": "laden-minute",
   "metadata": {},
   "outputs": [],
   "source": [
    "def book_url_parser(book_url):\n",
    "    \n",
    "    book_soup = BeautifulSoup(requests.get('http://books.toscrape.com/catalogue/' + book_url).text)\n",
    "    \n",
    "    name = book_soup.find('article', {'class':'product_page'}).h1.text\n",
    "    price = float(book_soup.find('p', {'class':'price_color'}).text[2:])\n",
    "    rating = book_soup.find('p', class_ = re.compile('star-rating')).get('class')[1]\n",
    "    \n",
    "    book_info = [name, price, rating]\n",
    "    \n",
    "    return book_info"
   ]
  },
  {
   "cell_type": "code",
   "execution_count": null,
   "id": "classical-glory",
   "metadata": {},
   "outputs": [],
   "source": [
    "books_data = []\n",
    "\n",
    "for url in url_list()[:5]:\n",
    "    \n",
    "    # Parsing on the first 5 pages\n",
    "    # print(url)\n",
    "    book_request = requests.get(url)\n",
    "    soup = BeautifulSoup(book_request.text)\n",
    "    \n",
    "    articles = soup.find_all('article', {\"class\": \"product_pod\"})\n",
    "    book_links = [art.find('a').get('href') for art in articles]\n",
    "    \n",
    "    for book_link in book_links:\n",
    "        books_data.append(book_url_parser(book_link))\n",
    "    \n",
    "    print('Parsed page: ', url)"
   ]
  },
  {
   "cell_type": "code",
   "execution_count": null,
   "id": "liberal-community",
   "metadata": {},
   "outputs": [],
   "source": [
    "books_df = pd.DataFrame(books_data, columns=['name', 'price', 'rating'])\n",
    "books_df"
   ]
  },
  {
   "cell_type": "code",
   "execution_count": null,
   "metadata": {},
   "outputs": [],
   "source": []
  }
 ],
 "metadata": {
  "kernelspec": {
   "name": "python388jvsc74a57bd0df2fcf59be9fbd45271ea761b9b41c88e1a3f9cd31f2aa47fe7a130cfca3253f",
   "display_name": "Python 3.8.8 64-bit ('dsc80': conda)"
  },
  "language_info": {
   "codemirror_mode": {
    "name": "ipython",
    "version": 3
   },
   "file_extension": ".py",
   "mimetype": "text/x-python",
   "name": "python",
   "nbconvert_exporter": "python",
   "pygments_lexer": "ipython3",
   "version": "3.8.8"
  }
 },
 "nbformat": 4,
 "nbformat_minor": 5
}