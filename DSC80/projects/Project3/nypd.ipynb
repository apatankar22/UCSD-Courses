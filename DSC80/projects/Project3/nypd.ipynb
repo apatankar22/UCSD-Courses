{
 "cells": [
  {
   "cell_type": "markdown",
   "metadata": {},
   "source": [
    "# NYPD Civilian Complaints\n",
    "This project contains data on 12,000 civilian complaints filed against New York City police officers. Interesting questions to consider include:\n",
    "- Does the length that the complaint is open depend on ethnicity/age/gender?\n",
    "- Are white-officer vs non-white complaintant cases more likely to go against the complainant? \n",
    "- Are allegations more severe for cases in which the officer and complaintant are not the same ethnicity?\n",
    "- Are the complaints of women more succesful than men (for the same allegations?)\n",
    "\n",
    "There are a lot of questions that can be asked from this data, so be creative! You are not limited to the sample questions above.\n",
    "\n",
    "### Getting the Data\n",
    "The data and its corresponding data dictionary is downloadable [here](https://www.propublica.org/datastore/dataset/civilian-complaints-against-new-york-city-police-officers).\n",
    "\n",
    "Note: you don't need to provide any information to obtain the data. Just agree to the terms of use and click \"submit.\"\n",
    "\n",
    "### Cleaning and EDA\n",
    "- Clean the data.\n",
    "    - Certain fields have \"missing\" data that isn't labeled as missing. For example, there are fields with the value \"Unknown.\" Do some exploration to find those values and convert them to null values.\n",
    "    - You may also want to combine the date columns to create a `datetime` column for time-series exploration.\n",
    "- Understand the data in ways relevant to your question using univariate and bivariate analysis of the data as well as aggregations.\n",
    "\n",
    "### Assessment of Missingness\n",
    "- Assess the missingness per the requirements in `project03.ipynb`\n",
    "\n",
    "### Hypothesis Test / Permutation Test\n",
    "Find a hypothesis test or permutation test to perform. You can use the questions at the top of the notebook for inspiration."
   ]
  },
  {
   "cell_type": "markdown",
   "metadata": {
    "tags": []
   },
   "source": [
    "# Summary of Findings\n",
    "\n",
    "### Introduction\n",
    "\n",
    "The dataset we’re using in this project contains data derived from tens of thousands of complaints against police officers in the city of New York. The document containing the data is composed of 33,358 complaints filed, meaning 33,358 observations, with 27 features/columns with regards to each complaint. The data given contains a plethora of attributes such as the complaint ID, the receiving and closing date of the complaints, as well as officer rank, first and last name, ethnicity, gender, age, and a plethora of characteristics of the member of service (frequently abbreviated as MOS). Most importantly, there is information regarding the allegation of the accuser, as well as the result, which is key information in conducting analyses. \n",
    "\n",
    "Based on the data given to us, and the variety of attributes of the MOS as well as each individual [complaint], we explore the following question: \\\n",
    "__Does the length that the complaint is open depend on ethnicity/age/gender?__\n",
    "\n",
    "The answer to this question is dependent on the data we are given; because we are given three key features (ethnicity, age, and gender), and we can calculate the time elapsed in each case, we can come up with an answer to our question. \n",
    "\n",
    "However, because our dataset contains missing and unruly data, we must first perform data cleaning/preprocessing, and exploratory data analysis on our data. This helps to derive a baseline/guideline for our analysis regarding any potential association/correlation between complaint length and ethnicity/age/gender. Finally, after obtaining a tidy, clean dataset, we will implement multiple statistical techniques, such as hypothesis tests and use test statistics such as the Kolmogorov-Smirnov test statistic.\n",
    "\n",
    "\n",
    "### Cleaning and EDA\n",
    "In order to perform our data pre-processing, exploratory data analysis, and hypothesis testing, we imported our dataset as a csv file. After going over the raw dataset, we understand that there is a significant amount of data cleaning required to make this dataset usable. In order to make it easier to clean and process, we first drop the majority of the columns, i.e. the columns that are irrelevant to the main question we are answering. We find the column types and the number of null values in each column in order to better understand any holes in our data. Because our question relates to the length of a complaint we perform multiple operations on the data we are given. We combine the month and year columns for complaint received and closed, and create two new columns with datetime objects. As we require the elapsed time, we take the difference of these columns, and convert the values to the number of days elapsed, for the sake of simplicity. We modify the column that contains the result of the case/complaint (board_disposition), and in the end that column contains the values “denied” or “success”. We also find that quite a few categorical columns contain null, or np.NaN values (such as gender), and a few quantitative columns contain values that are incorrect (such as negative age values), and we take care of those values as well. \n",
    "\n",
    "After completing the cleaning of the dataset, we performed univariate and bivariate analysis of our data. Since we are analyzing the relationship between complaint time and ethnicity, age, and gender, we ensure to explore that data visually. We start by find the proportion of each unique value in the gender column, and plotting the genders and their mean complaint times. We then plot solely the male and female genders in a bar chart, as we are using these two genders for our analysis later on. We repeat this same process for ethnicities, and plot the black mean complaint times against the hispanic mean complaint times, as we are using these two different ethnicities for our analysis later on. While we don’t use age in our analysis, we plot the chart using twelve, then nine bins, and notice that there is some skew in the higher age groups. After completing our univariate analysis, we perform some trivial bivariate analysis. We look at statistical tables for complainant gender, and complainant ethnicities. In both tables, we find some key statistics, such as mean, median, and standard deviation for all the genders and ethnicities (separately). From the tables we come up with some conclusions using the “eye test”, but to make a more thorough conclusion, we must perform analysis first.\n",
    "\n",
    "\n",
    "### Assessment of Missingness\n",
    "When looking at missingness, we particularly care only about a handful of columns- complainant gender, ethnicity, and age at the time of incident, as those are the columns used in our hypothesis testing. However, when we generate statistics for the missing values, we notice that the majority of the null values exist in the three columns that we are looking to analyze. In fact, more than 72% of the rows with missing data contain null/missing values for those three columns! Because of this large overlap in missing values, we can conclude that our missing is not NMAR. If we were to guess why there is such a large overlap in missing values, our best guess (using our knowledge of the world) is that minorities tend not to report their ethnicities in fear that their cases will get dismissed or will take abnormally long. \n",
    "\n",
    "Because the primary focus of our analysis is with regards to gender (male vs female complaint times), we perform a Kolmogorov–Smirnov [permutation] test. Our null hypothesis is that the distributions of complaint length are the same when gender data exists and is missing, and our alternative is that the distributions are different. In conducting this test, we find that the p-value generated by this KS test is 0.0, indicating that we reject the null hypothesis. This means that there is a dependency between the gender and complaint time, which we dive deeper into in our hypothesis testing section. \n",
    "\n",
    "Although we completed this KS-test, we must still use another permutation test to find if the __missingness__ in the gender column is dependent on the complaint length. Hence, we use TVD (total variation distance) to perform a permutation test, which outputs a p-value of 0.0, indicating that missingness of gender is dependent on complaint length. Overall, after performing two permutation tests (KS statistic and TVD), we find that missingness of the gender (the primary feature we analyze in this project) dependent on complaint length using missing/null and existing values. So, we can conclude that our missingness is indeed MAR, as the missingness is not explainable by the data we observe. \n",
    "\n",
    "\n",
    "### Hypothesis Test\n",
    "We created two hypothesis tests to determine whether complaint length is dependent on two different factors- gender, and ethnicity. We used the difference of means test statistic, as it measures the difference between mean values of two difference groups. \n",
    "\n",
    "1) Regarding gender, we first clean our data to include two primary genders- male and female. We found the average complaint time for each gender, then use difference of means to calculate a test statistic. We then shuffle the elapsed times and run thousands of simulations to come up with a list of test statistics. The result of our hypothesis test is the mean across the list of test statistics. \n",
    "\n",
    "2) Regarding ethnicity, we first clean our data to include two primary ethnicities- white and black. We find the average complaint time for each ethnicity, then use difference of means to calculate a test statistic. We then shuffle the elapsed times and run thousands of simulations to come up with a list of test statistics. The result of our hypothesis test is the mean across the list of test statistics. \n",
    "\n",
    "The permutation test that we perform on the two primary genders chosen shows that the distributions of the male complaint lengths and female complaint lengths are different, meaning that the complaint length is dependent on gender. The same can be said regarding the permutation test performed on the two ethnicities (white and black); the complaint length is dependent on the ethnicity as well. \n",
    "\n",
    "Overall, we were able to answer the question we decided to examine, and we came to a conclusion that complaint length is dependent on the complainant gender and/or ethnicity to the extent of our analysis."
   ]
  },
  {
   "cell_type": "markdown",
   "metadata": {},
   "source": [
    "# Code"
   ]
  },
  {
   "cell_type": "markdown",
   "metadata": {},
   "source": [
    "### Cleaning and EDA"
   ]
  },
  {
   "cell_type": "code",
   "execution_count": 1,
   "metadata": {
    "ExecuteTime": {
     "end_time": "2019-10-31T23:36:28.652554Z",
     "start_time": "2019-10-31T23:36:27.180520Z"
    }
   },
   "outputs": [],
   "source": [
    "import matplotlib.pyplot as plt\n",
    "import numpy as np\n",
    "import os\n",
    "import pandas as pd\n",
    "import seaborn as sns\n",
    "from scipy.stats import ks_2samp\n",
    "%matplotlib inline\n",
    "%config InlineBackend.figure_format = 'retina'  # Higher resolution figures"
   ]
  },
  {
   "cell_type": "code",
   "execution_count": 2,
   "metadata": {
    "ExecuteTime": {
     "end_time": "2019-10-31T23:36:28.657068Z",
     "start_time": "2019-10-31T23:36:28.654650Z"
    }
   },
   "outputs": [
    {
     "data": {
      "text/html": [
       "<div>\n",
       "<style scoped>\n",
       "    .dataframe tbody tr th:only-of-type {\n",
       "        vertical-align: middle;\n",
       "    }\n",
       "\n",
       "    .dataframe tbody tr th {\n",
       "        vertical-align: top;\n",
       "    }\n",
       "\n",
       "    .dataframe thead th {\n",
       "        text-align: right;\n",
       "    }\n",
       "</style>\n",
       "<table border=\"1\" class=\"dataframe\">\n",
       "  <thead>\n",
       "    <tr style=\"text-align: right;\">\n",
       "      <th></th>\n",
       "      <th>unique_mos_id</th>\n",
       "      <th>first_name</th>\n",
       "      <th>last_name</th>\n",
       "      <th>command_now</th>\n",
       "      <th>shield_no</th>\n",
       "      <th>complaint_id</th>\n",
       "      <th>month_received</th>\n",
       "      <th>year_received</th>\n",
       "      <th>month_closed</th>\n",
       "      <th>year_closed</th>\n",
       "      <th>...</th>\n",
       "      <th>mos_age_incident</th>\n",
       "      <th>complainant_ethnicity</th>\n",
       "      <th>complainant_gender</th>\n",
       "      <th>complainant_age_incident</th>\n",
       "      <th>fado_type</th>\n",
       "      <th>allegation</th>\n",
       "      <th>precinct</th>\n",
       "      <th>contact_reason</th>\n",
       "      <th>outcome_description</th>\n",
       "      <th>board_disposition</th>\n",
       "    </tr>\n",
       "  </thead>\n",
       "  <tbody>\n",
       "    <tr>\n",
       "      <th>0</th>\n",
       "      <td>10004</td>\n",
       "      <td>Jonathan</td>\n",
       "      <td>Ruiz</td>\n",
       "      <td>078 PCT</td>\n",
       "      <td>8409</td>\n",
       "      <td>42835</td>\n",
       "      <td>7</td>\n",
       "      <td>2019</td>\n",
       "      <td>5</td>\n",
       "      <td>2020</td>\n",
       "      <td>...</td>\n",
       "      <td>32</td>\n",
       "      <td>Black</td>\n",
       "      <td>Female</td>\n",
       "      <td>38.0</td>\n",
       "      <td>Abuse of Authority</td>\n",
       "      <td>Failure to provide RTKA card</td>\n",
       "      <td>78.0</td>\n",
       "      <td>Report-domestic dispute</td>\n",
       "      <td>No arrest made or summons issued</td>\n",
       "      <td>Substantiated (Command Lvl Instructions)</td>\n",
       "    </tr>\n",
       "    <tr>\n",
       "      <th>1</th>\n",
       "      <td>10007</td>\n",
       "      <td>John</td>\n",
       "      <td>Sears</td>\n",
       "      <td>078 PCT</td>\n",
       "      <td>5952</td>\n",
       "      <td>24601</td>\n",
       "      <td>11</td>\n",
       "      <td>2011</td>\n",
       "      <td>8</td>\n",
       "      <td>2012</td>\n",
       "      <td>...</td>\n",
       "      <td>24</td>\n",
       "      <td>Black</td>\n",
       "      <td>Male</td>\n",
       "      <td>26.0</td>\n",
       "      <td>Discourtesy</td>\n",
       "      <td>Action</td>\n",
       "      <td>67.0</td>\n",
       "      <td>Moving violation</td>\n",
       "      <td>Moving violation summons issued</td>\n",
       "      <td>Substantiated (Charges)</td>\n",
       "    </tr>\n",
       "    <tr>\n",
       "      <th>2</th>\n",
       "      <td>10007</td>\n",
       "      <td>John</td>\n",
       "      <td>Sears</td>\n",
       "      <td>078 PCT</td>\n",
       "      <td>5952</td>\n",
       "      <td>24601</td>\n",
       "      <td>11</td>\n",
       "      <td>2011</td>\n",
       "      <td>8</td>\n",
       "      <td>2012</td>\n",
       "      <td>...</td>\n",
       "      <td>24</td>\n",
       "      <td>Black</td>\n",
       "      <td>Male</td>\n",
       "      <td>26.0</td>\n",
       "      <td>Offensive Language</td>\n",
       "      <td>Race</td>\n",
       "      <td>67.0</td>\n",
       "      <td>Moving violation</td>\n",
       "      <td>Moving violation summons issued</td>\n",
       "      <td>Substantiated (Charges)</td>\n",
       "    </tr>\n",
       "    <tr>\n",
       "      <th>3</th>\n",
       "      <td>10007</td>\n",
       "      <td>John</td>\n",
       "      <td>Sears</td>\n",
       "      <td>078 PCT</td>\n",
       "      <td>5952</td>\n",
       "      <td>26146</td>\n",
       "      <td>7</td>\n",
       "      <td>2012</td>\n",
       "      <td>9</td>\n",
       "      <td>2013</td>\n",
       "      <td>...</td>\n",
       "      <td>25</td>\n",
       "      <td>Black</td>\n",
       "      <td>Male</td>\n",
       "      <td>45.0</td>\n",
       "      <td>Abuse of Authority</td>\n",
       "      <td>Question</td>\n",
       "      <td>67.0</td>\n",
       "      <td>PD suspected C/V of violation/crime - street</td>\n",
       "      <td>No arrest made or summons issued</td>\n",
       "      <td>Substantiated (Charges)</td>\n",
       "    </tr>\n",
       "    <tr>\n",
       "      <th>4</th>\n",
       "      <td>10009</td>\n",
       "      <td>Noemi</td>\n",
       "      <td>Sierra</td>\n",
       "      <td>078 PCT</td>\n",
       "      <td>24058</td>\n",
       "      <td>40253</td>\n",
       "      <td>8</td>\n",
       "      <td>2018</td>\n",
       "      <td>2</td>\n",
       "      <td>2019</td>\n",
       "      <td>...</td>\n",
       "      <td>39</td>\n",
       "      <td>NaN</td>\n",
       "      <td>NaN</td>\n",
       "      <td>16.0</td>\n",
       "      <td>Force</td>\n",
       "      <td>Physical force</td>\n",
       "      <td>67.0</td>\n",
       "      <td>Report-dispute</td>\n",
       "      <td>Arrest - other violation/crime</td>\n",
       "      <td>Substantiated (Command Discipline A)</td>\n",
       "    </tr>\n",
       "  </tbody>\n",
       "</table>\n",
       "<p>5 rows × 27 columns</p>\n",
       "</div>"
      ],
      "text/plain": [
       "   unique_mos_id first_name last_name command_now  shield_no  complaint_id  \\\n",
       "0          10004   Jonathan      Ruiz     078 PCT       8409         42835   \n",
       "1          10007       John     Sears     078 PCT       5952         24601   \n",
       "2          10007       John     Sears     078 PCT       5952         24601   \n",
       "3          10007       John     Sears     078 PCT       5952         26146   \n",
       "4          10009      Noemi    Sierra     078 PCT      24058         40253   \n",
       "\n",
       "   month_received  year_received  month_closed  year_closed  ...  \\\n",
       "0               7           2019             5         2020  ...   \n",
       "1              11           2011             8         2012  ...   \n",
       "2              11           2011             8         2012  ...   \n",
       "3               7           2012             9         2013  ...   \n",
       "4               8           2018             2         2019  ...   \n",
       "\n",
       "  mos_age_incident complainant_ethnicity complainant_gender  \\\n",
       "0               32                 Black             Female   \n",
       "1               24                 Black               Male   \n",
       "2               24                 Black               Male   \n",
       "3               25                 Black               Male   \n",
       "4               39                   NaN                NaN   \n",
       "\n",
       "  complainant_age_incident           fado_type                    allegation  \\\n",
       "0                     38.0  Abuse of Authority  Failure to provide RTKA card   \n",
       "1                     26.0         Discourtesy                        Action   \n",
       "2                     26.0  Offensive Language                          Race   \n",
       "3                     45.0  Abuse of Authority                      Question   \n",
       "4                     16.0               Force                Physical force   \n",
       "\n",
       "  precinct                                contact_reason  \\\n",
       "0     78.0                       Report-domestic dispute   \n",
       "1     67.0                              Moving violation   \n",
       "2     67.0                              Moving violation   \n",
       "3     67.0  PD suspected C/V of violation/crime - street   \n",
       "4     67.0                                Report-dispute   \n",
       "\n",
       "                outcome_description                         board_disposition  \n",
       "0  No arrest made or summons issued  Substantiated (Command Lvl Instructions)  \n",
       "1   Moving violation summons issued                   Substantiated (Charges)  \n",
       "2   Moving violation summons issued                   Substantiated (Charges)  \n",
       "3  No arrest made or summons issued                   Substantiated (Charges)  \n",
       "4    Arrest - other violation/crime      Substantiated (Command Discipline A)  \n",
       "\n",
       "[5 rows x 27 columns]"
      ]
     },
     "execution_count": 2,
     "metadata": {},
     "output_type": "execute_result"
    }
   ],
   "source": [
    "path = os.path.join(\"data\", \"allegations_202007271729.csv\")\n",
    "df = pd.read_csv(path)\n",
    "df.head()"
   ]
  },
  {
   "cell_type": "code",
   "execution_count": 3,
   "metadata": {},
   "outputs": [
    {
     "data": {
      "text/html": [
       "<div>\n",
       "<style scoped>\n",
       "    .dataframe tbody tr th:only-of-type {\n",
       "        vertical-align: middle;\n",
       "    }\n",
       "\n",
       "    .dataframe tbody tr th {\n",
       "        vertical-align: top;\n",
       "    }\n",
       "\n",
       "    .dataframe thead th {\n",
       "        text-align: right;\n",
       "    }\n",
       "</style>\n",
       "<table border=\"1\" class=\"dataframe\">\n",
       "  <thead>\n",
       "    <tr style=\"text-align: right;\">\n",
       "      <th></th>\n",
       "      <th>unique_mos_id</th>\n",
       "      <th>shield_no</th>\n",
       "      <th>complaint_id</th>\n",
       "      <th>month_received</th>\n",
       "      <th>year_received</th>\n",
       "      <th>month_closed</th>\n",
       "      <th>year_closed</th>\n",
       "      <th>mos_age_incident</th>\n",
       "      <th>complainant_age_incident</th>\n",
       "      <th>precinct</th>\n",
       "    </tr>\n",
       "  </thead>\n",
       "  <tbody>\n",
       "    <tr>\n",
       "      <th>count</th>\n",
       "      <td>33358.000000</td>\n",
       "      <td>33358.000000</td>\n",
       "      <td>33358.000000</td>\n",
       "      <td>33358.000000</td>\n",
       "      <td>33358.000000</td>\n",
       "      <td>33358.000000</td>\n",
       "      <td>33358.000000</td>\n",
       "      <td>33358.000000</td>\n",
       "      <td>28546.000000</td>\n",
       "      <td>33334.000000</td>\n",
       "    </tr>\n",
       "    <tr>\n",
       "      <th>mean</th>\n",
       "      <td>18169.912495</td>\n",
       "      <td>6451.608819</td>\n",
       "      <td>23905.058217</td>\n",
       "      <td>6.323551</td>\n",
       "      <td>2010.726782</td>\n",
       "      <td>6.470772</td>\n",
       "      <td>2011.525661</td>\n",
       "      <td>32.346873</td>\n",
       "      <td>32.484201</td>\n",
       "      <td>64.365213</td>\n",
       "    </tr>\n",
       "    <tr>\n",
       "      <th>std</th>\n",
       "      <td>9566.316896</td>\n",
       "      <td>7945.641596</td>\n",
       "      <td>11954.434138</td>\n",
       "      <td>3.362951</td>\n",
       "      <td>6.034725</td>\n",
       "      <td>3.343372</td>\n",
       "      <td>6.085907</td>\n",
       "      <td>6.040944</td>\n",
       "      <td>28.408963</td>\n",
       "      <td>31.451592</td>\n",
       "    </tr>\n",
       "    <tr>\n",
       "      <th>min</th>\n",
       "      <td>2.000000</td>\n",
       "      <td>0.000000</td>\n",
       "      <td>517.000000</td>\n",
       "      <td>1.000000</td>\n",
       "      <td>1985.000000</td>\n",
       "      <td>1.000000</td>\n",
       "      <td>1985.000000</td>\n",
       "      <td>20.000000</td>\n",
       "      <td>-4301.000000</td>\n",
       "      <td>0.000000</td>\n",
       "    </tr>\n",
       "    <tr>\n",
       "      <th>25%</th>\n",
       "      <td>9671.000000</td>\n",
       "      <td>1089.000000</td>\n",
       "      <td>13684.750000</td>\n",
       "      <td>3.000000</td>\n",
       "      <td>2007.000000</td>\n",
       "      <td>4.000000</td>\n",
       "      <td>2008.000000</td>\n",
       "      <td>28.000000</td>\n",
       "      <td>23.000000</td>\n",
       "      <td>43.000000</td>\n",
       "    </tr>\n",
       "    <tr>\n",
       "      <th>50%</th>\n",
       "      <td>19215.000000</td>\n",
       "      <td>3691.000000</td>\n",
       "      <td>25132.000000</td>\n",
       "      <td>6.000000</td>\n",
       "      <td>2012.000000</td>\n",
       "      <td>6.000000</td>\n",
       "      <td>2013.000000</td>\n",
       "      <td>31.000000</td>\n",
       "      <td>30.000000</td>\n",
       "      <td>67.000000</td>\n",
       "    </tr>\n",
       "    <tr>\n",
       "      <th>75%</th>\n",
       "      <td>25412.000000</td>\n",
       "      <td>7155.000000</td>\n",
       "      <td>34252.000000</td>\n",
       "      <td>9.000000</td>\n",
       "      <td>2016.000000</td>\n",
       "      <td>9.000000</td>\n",
       "      <td>2016.000000</td>\n",
       "      <td>36.000000</td>\n",
       "      <td>41.000000</td>\n",
       "      <td>81.000000</td>\n",
       "    </tr>\n",
       "    <tr>\n",
       "      <th>max</th>\n",
       "      <td>36374.000000</td>\n",
       "      <td>31977.000000</td>\n",
       "      <td>43703.000000</td>\n",
       "      <td>12.000000</td>\n",
       "      <td>2020.000000</td>\n",
       "      <td>12.000000</td>\n",
       "      <td>2020.000000</td>\n",
       "      <td>60.000000</td>\n",
       "      <td>101.000000</td>\n",
       "      <td>1000.000000</td>\n",
       "    </tr>\n",
       "  </tbody>\n",
       "</table>\n",
       "</div>"
      ],
      "text/plain": [
       "       unique_mos_id     shield_no  complaint_id  month_received  \\\n",
       "count   33358.000000  33358.000000  33358.000000    33358.000000   \n",
       "mean    18169.912495   6451.608819  23905.058217        6.323551   \n",
       "std      9566.316896   7945.641596  11954.434138        3.362951   \n",
       "min         2.000000      0.000000    517.000000        1.000000   \n",
       "25%      9671.000000   1089.000000  13684.750000        3.000000   \n",
       "50%     19215.000000   3691.000000  25132.000000        6.000000   \n",
       "75%     25412.000000   7155.000000  34252.000000        9.000000   \n",
       "max     36374.000000  31977.000000  43703.000000       12.000000   \n",
       "\n",
       "       year_received  month_closed   year_closed  mos_age_incident  \\\n",
       "count   33358.000000  33358.000000  33358.000000      33358.000000   \n",
       "mean     2010.726782      6.470772   2011.525661         32.346873   \n",
       "std         6.034725      3.343372      6.085907          6.040944   \n",
       "min      1985.000000      1.000000   1985.000000         20.000000   \n",
       "25%      2007.000000      4.000000   2008.000000         28.000000   \n",
       "50%      2012.000000      6.000000   2013.000000         31.000000   \n",
       "75%      2016.000000      9.000000   2016.000000         36.000000   \n",
       "max      2020.000000     12.000000   2020.000000         60.000000   \n",
       "\n",
       "       complainant_age_incident      precinct  \n",
       "count              28546.000000  33334.000000  \n",
       "mean                  32.484201     64.365213  \n",
       "std                   28.408963     31.451592  \n",
       "min                -4301.000000      0.000000  \n",
       "25%                   23.000000     43.000000  \n",
       "50%                   30.000000     67.000000  \n",
       "75%                   41.000000     81.000000  \n",
       "max                  101.000000   1000.000000  "
      ]
     },
     "execution_count": 3,
     "metadata": {},
     "output_type": "execute_result"
    }
   ],
   "source": [
    "df.describe()"
   ]
  },
  {
   "cell_type": "code",
   "execution_count": 4,
   "metadata": {},
   "outputs": [],
   "source": [
    "df = df.drop([\"first_name\", \"last_name\", \"command_now\", \"shield_no\", \"command_at_incident\", \"rank_abbrev_incident\", \"rank_abbrev_incident\", \"rank_abbrev_now\",  \"rank_incident\", \"fado_type\", \"precinct\", \"contact_reason\", \"outcome_description\", \"allegation\"], axis = 1)"
   ]
  },
  {
   "cell_type": "code",
   "execution_count": 5,
   "metadata": {},
   "outputs": [
    {
     "data": {
      "text/plain": [
       "unique_mos_id                  0\n",
       "complaint_id                   0\n",
       "month_received                 0\n",
       "year_received                  0\n",
       "month_closed                   0\n",
       "year_closed                    0\n",
       "rank_now                       0\n",
       "mos_ethnicity                  0\n",
       "mos_gender                     0\n",
       "mos_age_incident               0\n",
       "complainant_ethnicity       4464\n",
       "complainant_gender          4195\n",
       "complainant_age_incident    4812\n",
       "board_disposition              0\n",
       "dtype: int64"
      ]
     },
     "execution_count": 5,
     "metadata": {},
     "output_type": "execute_result"
    }
   ],
   "source": [
    "df.isnull().sum(axis = 0)"
   ]
  },
  {
   "cell_type": "code",
   "execution_count": 6,
   "metadata": {},
   "outputs": [
    {
     "data": {
      "text/plain": [
       "unique_mos_id                 int64\n",
       "complaint_id                  int64\n",
       "month_received                int64\n",
       "year_received                 int64\n",
       "month_closed                  int64\n",
       "year_closed                   int64\n",
       "rank_now                     object\n",
       "mos_ethnicity                object\n",
       "mos_gender                   object\n",
       "mos_age_incident              int64\n",
       "complainant_ethnicity        object\n",
       "complainant_gender           object\n",
       "complainant_age_incident    float64\n",
       "board_disposition            object\n",
       "dtype: object"
      ]
     },
     "execution_count": 6,
     "metadata": {},
     "output_type": "execute_result"
    }
   ],
   "source": [
    "df.dtypes"
   ]
  },
  {
   "cell_type": "code",
   "execution_count": 7,
   "metadata": {},
   "outputs": [],
   "source": [
    "df[\"date_acquired\"] = df[\"year_received\"].apply(str) + \", \" + df[\"month_received\"].apply(str)\n",
    "df[\"date_acquired\"] = df[\"date_acquired\"].apply(pd.to_datetime)\n",
    "\n",
    "\n",
    "df[\"date_closed\"] = df[\"year_closed\"].apply(str) + \", \" + df[\"month_closed\"].apply(str)\n",
    "df[\"date_closed\"] = df[\"date_closed\"].apply(pd.to_datetime)"
   ]
  },
  {
   "cell_type": "code",
   "execution_count": 8,
   "metadata": {},
   "outputs": [
    {
     "data": {
      "text/html": [
       "<div>\n",
       "<style scoped>\n",
       "    .dataframe tbody tr th:only-of-type {\n",
       "        vertical-align: middle;\n",
       "    }\n",
       "\n",
       "    .dataframe tbody tr th {\n",
       "        vertical-align: top;\n",
       "    }\n",
       "\n",
       "    .dataframe thead th {\n",
       "        text-align: right;\n",
       "    }\n",
       "</style>\n",
       "<table border=\"1\" class=\"dataframe\">\n",
       "  <thead>\n",
       "    <tr style=\"text-align: right;\">\n",
       "      <th></th>\n",
       "      <th>unique_mos_id</th>\n",
       "      <th>complaint_id</th>\n",
       "      <th>month_received</th>\n",
       "      <th>year_received</th>\n",
       "      <th>month_closed</th>\n",
       "      <th>year_closed</th>\n",
       "      <th>rank_now</th>\n",
       "      <th>mos_ethnicity</th>\n",
       "      <th>mos_gender</th>\n",
       "      <th>mos_age_incident</th>\n",
       "      <th>complainant_ethnicity</th>\n",
       "      <th>complainant_gender</th>\n",
       "      <th>complainant_age_incident</th>\n",
       "      <th>board_disposition</th>\n",
       "      <th>date_acquired</th>\n",
       "      <th>date_closed</th>\n",
       "      <th>elapsed_time (days)</th>\n",
       "    </tr>\n",
       "  </thead>\n",
       "  <tbody>\n",
       "    <tr>\n",
       "      <th>0</th>\n",
       "      <td>10004</td>\n",
       "      <td>42835</td>\n",
       "      <td>7</td>\n",
       "      <td>2019</td>\n",
       "      <td>5</td>\n",
       "      <td>2020</td>\n",
       "      <td>Police Officer</td>\n",
       "      <td>Hispanic</td>\n",
       "      <td>M</td>\n",
       "      <td>32</td>\n",
       "      <td>Black</td>\n",
       "      <td>Female</td>\n",
       "      <td>38.0</td>\n",
       "      <td>Substantiated (Command Lvl Instructions)</td>\n",
       "      <td>2019-07-01</td>\n",
       "      <td>2020-05-01</td>\n",
       "      <td>305</td>\n",
       "    </tr>\n",
       "    <tr>\n",
       "      <th>1</th>\n",
       "      <td>10007</td>\n",
       "      <td>24601</td>\n",
       "      <td>11</td>\n",
       "      <td>2011</td>\n",
       "      <td>8</td>\n",
       "      <td>2012</td>\n",
       "      <td>Police Officer</td>\n",
       "      <td>White</td>\n",
       "      <td>M</td>\n",
       "      <td>24</td>\n",
       "      <td>Black</td>\n",
       "      <td>Male</td>\n",
       "      <td>26.0</td>\n",
       "      <td>Substantiated (Charges)</td>\n",
       "      <td>2011-11-01</td>\n",
       "      <td>2012-08-01</td>\n",
       "      <td>274</td>\n",
       "    </tr>\n",
       "    <tr>\n",
       "      <th>2</th>\n",
       "      <td>10007</td>\n",
       "      <td>24601</td>\n",
       "      <td>11</td>\n",
       "      <td>2011</td>\n",
       "      <td>8</td>\n",
       "      <td>2012</td>\n",
       "      <td>Police Officer</td>\n",
       "      <td>White</td>\n",
       "      <td>M</td>\n",
       "      <td>24</td>\n",
       "      <td>Black</td>\n",
       "      <td>Male</td>\n",
       "      <td>26.0</td>\n",
       "      <td>Substantiated (Charges)</td>\n",
       "      <td>2011-11-01</td>\n",
       "      <td>2012-08-01</td>\n",
       "      <td>274</td>\n",
       "    </tr>\n",
       "    <tr>\n",
       "      <th>3</th>\n",
       "      <td>10007</td>\n",
       "      <td>26146</td>\n",
       "      <td>7</td>\n",
       "      <td>2012</td>\n",
       "      <td>9</td>\n",
       "      <td>2013</td>\n",
       "      <td>Police Officer</td>\n",
       "      <td>White</td>\n",
       "      <td>M</td>\n",
       "      <td>25</td>\n",
       "      <td>Black</td>\n",
       "      <td>Male</td>\n",
       "      <td>45.0</td>\n",
       "      <td>Substantiated (Charges)</td>\n",
       "      <td>2012-07-01</td>\n",
       "      <td>2013-09-01</td>\n",
       "      <td>427</td>\n",
       "    </tr>\n",
       "    <tr>\n",
       "      <th>4</th>\n",
       "      <td>10009</td>\n",
       "      <td>40253</td>\n",
       "      <td>8</td>\n",
       "      <td>2018</td>\n",
       "      <td>2</td>\n",
       "      <td>2019</td>\n",
       "      <td>Police Officer</td>\n",
       "      <td>Hispanic</td>\n",
       "      <td>F</td>\n",
       "      <td>39</td>\n",
       "      <td>NaN</td>\n",
       "      <td>NaN</td>\n",
       "      <td>16.0</td>\n",
       "      <td>Substantiated (Command Discipline A)</td>\n",
       "      <td>2018-08-01</td>\n",
       "      <td>2019-02-01</td>\n",
       "      <td>184</td>\n",
       "    </tr>\n",
       "  </tbody>\n",
       "</table>\n",
       "</div>"
      ],
      "text/plain": [
       "   unique_mos_id  complaint_id  month_received  year_received  month_closed  \\\n",
       "0          10004         42835               7           2019             5   \n",
       "1          10007         24601              11           2011             8   \n",
       "2          10007         24601              11           2011             8   \n",
       "3          10007         26146               7           2012             9   \n",
       "4          10009         40253               8           2018             2   \n",
       "\n",
       "   year_closed        rank_now mos_ethnicity mos_gender  mos_age_incident  \\\n",
       "0         2020  Police Officer      Hispanic          M                32   \n",
       "1         2012  Police Officer         White          M                24   \n",
       "2         2012  Police Officer         White          M                24   \n",
       "3         2013  Police Officer         White          M                25   \n",
       "4         2019  Police Officer      Hispanic          F                39   \n",
       "\n",
       "  complainant_ethnicity complainant_gender  complainant_age_incident  \\\n",
       "0                 Black             Female                      38.0   \n",
       "1                 Black               Male                      26.0   \n",
       "2                 Black               Male                      26.0   \n",
       "3                 Black               Male                      45.0   \n",
       "4                   NaN                NaN                      16.0   \n",
       "\n",
       "                          board_disposition date_acquired date_closed  \\\n",
       "0  Substantiated (Command Lvl Instructions)    2019-07-01  2020-05-01   \n",
       "1                   Substantiated (Charges)    2011-11-01  2012-08-01   \n",
       "2                   Substantiated (Charges)    2011-11-01  2012-08-01   \n",
       "3                   Substantiated (Charges)    2012-07-01  2013-09-01   \n",
       "4      Substantiated (Command Discipline A)    2018-08-01  2019-02-01   \n",
       "\n",
       "   elapsed_time (days)  \n",
       "0                  305  \n",
       "1                  274  \n",
       "2                  274  \n",
       "3                  427  \n",
       "4                  184  "
      ]
     },
     "execution_count": 8,
     "metadata": {},
     "output_type": "execute_result"
    }
   ],
   "source": [
    "df[\"elapsed_time (days)\"] = df[\"date_closed\"] - df[\"date_acquired\"]\n",
    "df[\"elapsed_time (days)\"] = df[\"elapsed_time (days)\"].apply(lambda i: i.days)\n",
    "df.head()"
   ]
  },
  {
   "cell_type": "code",
   "execution_count": 9,
   "metadata": {},
   "outputs": [
    {
     "data": {
      "text/plain": [
       "array(['Substantiated (Command Lvl Instructions)',\n",
       "       'Substantiated (Charges)', 'Substantiated (Command Discipline A)',\n",
       "       'Substantiated (Formalized Training)', 'Unsubstantiated',\n",
       "       'Exonerated', 'Substantiated (Command Discipline B)',\n",
       "       'Substantiated (Instructions)',\n",
       "       'Substantiated (Command Discipline)',\n",
       "       'Substantiated (No Recommendations)',\n",
       "       'Substantiated (MOS Unidentified)'], dtype=object)"
      ]
     },
     "execution_count": 9,
     "metadata": {},
     "output_type": "execute_result"
    }
   ],
   "source": [
    "df[\"board_disposition\"].unique()"
   ]
  },
  {
   "cell_type": "code",
   "execution_count": 10,
   "metadata": {},
   "outputs": [
    {
     "data": {
      "text/plain": [
       "0         Denied\n",
       "1         Denied\n",
       "2         Denied\n",
       "3         Denied\n",
       "4         Denied\n",
       "          ...   \n",
       "33353    Success\n",
       "33354    Success\n",
       "33355     Denied\n",
       "33356     Denied\n",
       "33357     Denied\n",
       "Name: complaint_result, Length: 33358, dtype: object"
      ]
     },
     "execution_count": 10,
     "metadata": {},
     "output_type": "execute_result"
    }
   ],
   "source": [
    "df[\"complaint_result\"] = df[\"board_disposition\"].apply(lambda i: \"Denied\" if \"Substantiated\" in i else \"Success\")\n",
    "df[\"complaint_result\"]"
   ]
  },
  {
   "cell_type": "code",
   "execution_count": 11,
   "metadata": {},
   "outputs": [],
   "source": [
    "def fix_ages(temp):\n",
    "    temp[\"complainant_age_incident\"] = temp[\"complainant_age_incident\"].apply(lambda i: np.NaN if i < 0 else i)\n",
    "    return temp\n",
    "    \n",
    "df = fix_ages(df)"
   ]
  },
  {
   "cell_type": "code",
   "execution_count": 12,
   "metadata": {},
   "outputs": [
    {
     "name": "stdout",
     "output_type": "stream",
     "text": [
      "['M', 'F']\n",
      "['Hispanic', 'White', 'Black', 'Asian', 'American Indian']\n",
      "['Substantiated (Command Lvl Instructions)', 'Substantiated (Charges)', 'Substantiated (Command Discipline A)', 'Substantiated (Formalized Training)', 'Unsubstantiated', 'Exonerated', 'Substantiated (Command Discipline B)', 'Substantiated (Instructions)', 'Substantiated (Command Discipline)', 'Substantiated (No Recommendations)', 'Substantiated (MOS Unidentified)']\n",
      "['Female', 'Male', nan, 'Transman (FTM)', 'Not described', 'Transwoman (MTF)', 'Gender non-conforming']\n",
      "['Black', nan, 'White', 'Asian', 'Refused', 'Hispanic', 'Unknown', 'Other Race', 'American Indian']\n"
     ]
    }
   ],
   "source": [
    "print(list(df[\"mos_gender\"].unique()))\n",
    "print(list(df[\"mos_ethnicity\"].unique()))\n",
    "print(list(df[\"board_disposition\"].unique()))\n",
    "print(list(df[\"complainant_gender\"].unique()))\n",
    "print(list(df[\"complainant_ethnicity\"].unique()))"
   ]
  },
  {
   "cell_type": "code",
   "execution_count": 13,
   "metadata": {},
   "outputs": [],
   "source": [
    "df[\"complainant_gender\"] = df[\"complainant_gender\"].replace({\"Not described\": np.NaN})\n",
    "df[\"complainant_ethnicity\"] = df[\"complainant_ethnicity\"].replace({\"Refused\": np.NaN, \"Unknown\": np.NaN})"
   ]
  },
  {
   "cell_type": "markdown",
   "metadata": {},
   "source": [
    "### Univariate Analysis"
   ]
  },
  {
   "cell_type": "code",
   "execution_count": 14,
   "metadata": {},
   "outputs": [
    {
     "data": {
      "text/html": [
       "<div>\n",
       "<style scoped>\n",
       "    .dataframe tbody tr th:only-of-type {\n",
       "        vertical-align: middle;\n",
       "    }\n",
       "\n",
       "    .dataframe tbody tr th {\n",
       "        vertical-align: top;\n",
       "    }\n",
       "\n",
       "    .dataframe thead th {\n",
       "        text-align: right;\n",
       "    }\n",
       "</style>\n",
       "<table border=\"1\" class=\"dataframe\">\n",
       "  <thead>\n",
       "    <tr style=\"text-align: right;\">\n",
       "      <th></th>\n",
       "      <th>count</th>\n",
       "      <th>proportion</th>\n",
       "    </tr>\n",
       "    <tr>\n",
       "      <th>complainant_gender</th>\n",
       "      <th></th>\n",
       "      <th></th>\n",
       "    </tr>\n",
       "  </thead>\n",
       "  <tbody>\n",
       "    <tr>\n",
       "      <th>Female</th>\n",
       "      <td>5021</td>\n",
       "      <td>0.172507</td>\n",
       "    </tr>\n",
       "    <tr>\n",
       "      <th>Gender non-conforming</th>\n",
       "      <td>2</td>\n",
       "      <td>0.000069</td>\n",
       "    </tr>\n",
       "    <tr>\n",
       "      <th>Male</th>\n",
       "      <td>24058</td>\n",
       "      <td>0.826565</td>\n",
       "    </tr>\n",
       "    <tr>\n",
       "      <th>Transman (FTM)</th>\n",
       "      <td>5</td>\n",
       "      <td>0.000172</td>\n",
       "    </tr>\n",
       "    <tr>\n",
       "      <th>Transwoman (MTF)</th>\n",
       "      <td>20</td>\n",
       "      <td>0.000687</td>\n",
       "    </tr>\n",
       "  </tbody>\n",
       "</table>\n",
       "</div>"
      ],
      "text/plain": [
       "                       count  proportion\n",
       "complainant_gender                      \n",
       "Female                  5021    0.172507\n",
       "Gender non-conforming      2    0.000069\n",
       "Male                   24058    0.826565\n",
       "Transman (FTM)             5    0.000172\n",
       "Transwoman (MTF)          20    0.000687"
      ]
     },
     "execution_count": 14,
     "metadata": {},
     "output_type": "execute_result"
    }
   ],
   "source": [
    "d = df.groupby(\"complainant_gender\").count()[\"month_closed\"]\n",
    "percent = d / d.sum()\n",
    "pd.DataFrame().assign(count = d, proportion = percent)"
   ]
  },
  {
   "cell_type": "code",
   "execution_count": 15,
   "metadata": {},
   "outputs": [
    {
     "data": {
      "text/plain": [
       "<AxesSubplot:title={'center':'elapsed time and gender'}, ylabel='complainant_gender'>"
      ]
     },
     "execution_count": 15,
     "metadata": {},
     "output_type": "execute_result"
    },
    {
     "data": {
      "image/png": "[encoded data removed]",
      "text/plain": [
       "<Figure size 432x288 with 1 Axes>"
      ]
     },
     "metadata": {
      "image/png": {
       "height": 263,
       "width": 489
      },
      "needs_background": "light"
     },
     "output_type": "display_data"
    }
   ],
   "source": [
    "gender = df[['complainant_gender','elapsed_time (days)']]\n",
    "gender_grouped = gender.groupby('complainant_gender').mean()\n",
    "gender_grouped.plot(kind='barh', title='elapsed time and gender')"
   ]
  },
  {
   "cell_type": "markdown",
   "metadata": {},
   "source": [
    "Initially, we plot the genders and their respective average complaint times, and we notice that males have the highest mean complaint time (in days elapsed), while transwoman and transman are on the lower side of it."
   ]
  },
  {
   "cell_type": "code",
   "execution_count": 16,
   "metadata": {},
   "outputs": [
    {
     "data": {
      "text/plain": [
       "<AxesSubplot:title={'center':'elapsed time and gender'}, ylabel='complainant_gender'>"
      ]
     },
     "execution_count": 16,
     "metadata": {},
     "output_type": "execute_result"
    },
    {
     "data": {
      "image/png": "[encoded data removed]",
      "text/plain": [
       "<Figure size 432x288 with 1 Axes>"
      ]
     },
     "metadata": {
      "image/png": {
       "height": 263,
       "width": 406
      },
      "needs_background": "light"
     },
     "output_type": "display_data"
    }
   ],
   "source": [
    "M_F = df[['complainant_gender','elapsed_time (days)']]\n",
    "M_F= M_F[(M_F['complainant_gender']=='Male') | (M_F['complainant_gender']=='Female')]\n",
    "M_F = M_F.groupby('complainant_gender').mean()\n",
    "M_F.plot(kind='barh', title='elapsed time and gender', color = 'pink')"
   ]
  },
  {
   "cell_type": "markdown",
   "metadata": {},
   "source": [
    "We decide to narrow our bar charts down, and look at male and female elapsed times, as these are the two genders that we want to use in our analysis later. We see that males have a higher mean complaint time than females."
   ]
  },
  {
   "cell_type": "code",
   "execution_count": 17,
   "metadata": {},
   "outputs": [
    {
     "data": {
      "text/html": [
       "<div>\n",
       "<style scoped>\n",
       "    .dataframe tbody tr th:only-of-type {\n",
       "        vertical-align: middle;\n",
       "    }\n",
       "\n",
       "    .dataframe tbody tr th {\n",
       "        vertical-align: top;\n",
       "    }\n",
       "\n",
       "    .dataframe thead th {\n",
       "        text-align: right;\n",
       "    }\n",
       "</style>\n",
       "<table border=\"1\" class=\"dataframe\">\n",
       "  <thead>\n",
       "    <tr style=\"text-align: right;\">\n",
       "      <th></th>\n",
       "      <th>count</th>\n",
       "      <th>proportion</th>\n",
       "    </tr>\n",
       "    <tr>\n",
       "      <th>complainant_ethnicity</th>\n",
       "      <th></th>\n",
       "      <th></th>\n",
       "    </tr>\n",
       "  </thead>\n",
       "  <tbody>\n",
       "    <tr>\n",
       "      <th>American Indian</th>\n",
       "      <td>64</td>\n",
       "      <td>0.002319</td>\n",
       "    </tr>\n",
       "    <tr>\n",
       "      <th>Asian</th>\n",
       "      <td>532</td>\n",
       "      <td>0.019280</td>\n",
       "    </tr>\n",
       "    <tr>\n",
       "      <th>Black</th>\n",
       "      <td>17114</td>\n",
       "      <td>0.620207</td>\n",
       "    </tr>\n",
       "    <tr>\n",
       "      <th>Hispanic</th>\n",
       "      <td>6424</td>\n",
       "      <td>0.232804</td>\n",
       "    </tr>\n",
       "    <tr>\n",
       "      <th>Other Race</th>\n",
       "      <td>677</td>\n",
       "      <td>0.024534</td>\n",
       "    </tr>\n",
       "    <tr>\n",
       "      <th>White</th>\n",
       "      <td>2783</td>\n",
       "      <td>0.100855</td>\n",
       "    </tr>\n",
       "  </tbody>\n",
       "</table>\n",
       "</div>"
      ],
      "text/plain": [
       "                       count  proportion\n",
       "complainant_ethnicity                   \n",
       "American Indian           64    0.002319\n",
       "Asian                    532    0.019280\n",
       "Black                  17114    0.620207\n",
       "Hispanic                6424    0.232804\n",
       "Other Race               677    0.024534\n",
       "White                   2783    0.100855"
      ]
     },
     "execution_count": 17,
     "metadata": {},
     "output_type": "execute_result"
    }
   ],
   "source": [
    "d = df.groupby(\"complainant_ethnicity\").count()[\"month_closed\"]\n",
    "percent = d / d.sum()\n",
    "pd.DataFrame().assign(count = d, proportion = percent)"
   ]
  },
  {
   "cell_type": "code",
   "execution_count": 18,
   "metadata": {},
   "outputs": [
    {
     "data": {
      "text/plain": [
       "<AxesSubplot:title={'center':'elapsed time and ethnicity'}, ylabel='complainant_ethnicity'>"
      ]
     },
     "execution_count": 18,
     "metadata": {},
     "output_type": "execute_result"
    },
    {
     "data": {
      "image/png": "[encoded data removed]",
      "text/plain": [
       "<Figure size 432x288 with 1 Axes>"
      ]
     },
     "metadata": {
      "image/png": {
       "height": 263,
       "width": 452
      },
      "needs_background": "light"
     },
     "output_type": "display_data"
    }
   ],
   "source": [
    "ethnicity = df[['complainant_ethnicity','elapsed_time (days)']]\n",
    "ethnicity_grouped = ethnicity.groupby('complainant_ethnicity').mean()\n",
    "ethnicity_grouped.plot(kind='barh', title='elapsed time and ethnicity')"
   ]
  },
  {
   "cell_type": "markdown",
   "metadata": {},
   "source": [
    "Similar to gender, we plot the mean complaint time (in elapsed days) for all the ethnicities. We notice that blacks and hispanics have the two highest complaint times, while Asians and American Indians, as well as Whites have a lower complaint time. We can later find the specifics of these numbers in our bivariate analysis."
   ]
  },
  {
   "cell_type": "code",
   "execution_count": 19,
   "metadata": {},
   "outputs": [
    {
     "data": {
      "text/plain": [
       "<AxesSubplot:title={'center':'elapsed time and ethincity'}, ylabel='complainant_ethnicity'>"
      ]
     },
     "execution_count": 19,
     "metadata": {},
     "output_type": "execute_result"
    },
    {
     "data": {
      "image/png": "[encoded data removed]",
      "text/plain": [
       "<Figure size 432x288 with 1 Axes>"
      ]
     },
     "metadata": {
      "image/png": {
       "height": 263,
       "width": 412
      },
      "needs_background": "light"
     },
     "output_type": "display_data"
    }
   ],
   "source": [
    "bh = df[['complainant_ethnicity','elapsed_time (days)']]\n",
    "bh = bh[(bh['complainant_ethnicity']=='Black') | (bh['complainant_ethnicity']=='Hispanic')]\n",
    "bh = bh.groupby('complainant_ethnicity').mean()\n",
    "bh.plot(kind='barh', title='elapsed time and ethincity', color = 'pink')"
   ]
  },
  {
   "cell_type": "markdown",
   "metadata": {},
   "source": [
    "Once again, we decide to narrow our bar charts down, and look at hispanic and black elapsed times, as these are the two ethnicities that we want to use in our analysis later. We see that black individuals have a higher mean complaint time than hispanic individuals."
   ]
  },
  {
   "cell_type": "code",
   "execution_count": 20,
   "metadata": {},
   "outputs": [
    {
     "data": {
      "text/plain": [
       "<AxesSubplot:title={'center':'elapsed time and age'}, ylabel='complainant_age_incident'>"
      ]
     },
     "execution_count": 20,
     "metadata": {},
     "output_type": "execute_result"
    },
    {
     "data": {
      "image/png": "[encoded data removed]",
      "text/plain": [
       "<Figure size 432x288 with 1 Axes>"
      ]
     },
     "metadata": {
      "image/png": {
       "height": 263,
       "width": 439
      },
      "needs_background": "light"
     },
     "output_type": "display_data"
    }
   ],
   "source": [
    "age = df[['complainant_age_incident','elapsed_time (days)']]\n",
    "age_grouped = age.groupby('complainant_age_incident')\n",
    "bins = [0, 20, 25, 30, 35, 40, 45, 50, 60, 70, 80, 90, 101]\n",
    "temp = age.groupby(pd.cut(age['complainant_age_incident'], bins=bins, include_lowest= True))['elapsed_time (days)'].mean()\n",
    "temp.plot(kind='barh', title='elapsed time and age')"
   ]
  },
  {
   "cell_type": "markdown",
   "metadata": {},
   "source": [
    "We designate the complaints into twelve different bins, grouped based on complainant age, and we plot the mean complaint time as such. We notice that complainants in the highest age group, 90+ years old, take the longest time to have their complaints resolved, while the remainder of the age groups have no significant or shocking difference in averages."
   ]
  },
  {
   "cell_type": "code",
   "execution_count": 21,
   "metadata": {},
   "outputs": [
    {
     "data": {
      "text/plain": [
       "<AxesSubplot:title={'center':'elapsed time and age'}, ylabel='complainant_age_incident'>"
      ]
     },
     "execution_count": 21,
     "metadata": {},
     "output_type": "execute_result"
    },
    {
     "data": {
      "image/png": "[encoded data removed]",
      "text/plain": [
       "<Figure size 432x288 with 1 Axes>"
      ]
     },
     "metadata": {
      "image/png": {
       "height": 263,
       "width": 448
      },
      "needs_background": "light"
     },
     "output_type": "display_data"
    }
   ],
   "source": [
    "age = df[['complainant_age_incident','elapsed_time (days)']]\n",
    "age.groupby('complainant_age_incident').count()\n",
    "bins = [0, 10, 20, 30, 40, 50, 60, 70, 80, 101]\n",
    "cut = age.groupby(pd.cut(age['complainant_age_incident'], bins = bins, include_lowest= True))['elapsed_time (days)'].mean()\n",
    "cut.plot(kind='barh', title='elapsed time and age', color = 'green')"
   ]
  },
  {
   "cell_type": "markdown",
   "metadata": {},
   "source": [
    "We then plot the same bar plot, but this time only use nine bins instead of twelve. We notice that the age group 80+ years old is no longer the largest like the previous bar chart, which suggests that the 90+ age group are outliers. The remainder of the chart suggests that we require finer analysis, and cannot eyeball the data any further."
   ]
  },
  {
   "cell_type": "markdown",
   "metadata": {
    "tags": []
   },
   "source": [
    "### Bivariate Analysis"
   ]
  },
  {
   "cell_type": "markdown",
   "metadata": {},
   "source": [
    "We perform bivariate analysis between two sets of variables: complaint length and complainant gender, and complaint length and complainant ethnicity."
   ]
  },
  {
   "cell_type": "code",
   "execution_count": 22,
   "metadata": {},
   "outputs": [
    {
     "data": {
      "text/html": [
       "<div>\n",
       "<style scoped>\n",
       "    .dataframe tbody tr th:only-of-type {\n",
       "        vertical-align: middle;\n",
       "    }\n",
       "\n",
       "    .dataframe tbody tr th {\n",
       "        vertical-align: top;\n",
       "    }\n",
       "\n",
       "    .dataframe thead tr th {\n",
       "        text-align: left;\n",
       "    }\n",
       "\n",
       "    .dataframe thead tr:last-of-type th {\n",
       "        text-align: right;\n",
       "    }\n",
       "</style>\n",
       "<table border=\"1\" class=\"dataframe\">\n",
       "  <thead>\n",
       "    <tr>\n",
       "      <th></th>\n",
       "      <th colspan=\"3\" halign=\"left\">elapsed_time (days)</th>\n",
       "    </tr>\n",
       "    <tr>\n",
       "      <th></th>\n",
       "      <th>mean</th>\n",
       "      <th>median</th>\n",
       "      <th>std</th>\n",
       "    </tr>\n",
       "    <tr>\n",
       "      <th>complainant_gender</th>\n",
       "      <th></th>\n",
       "      <th></th>\n",
       "      <th></th>\n",
       "    </tr>\n",
       "  </thead>\n",
       "  <tbody>\n",
       "    <tr>\n",
       "      <th>Female</th>\n",
       "      <td>298.834694</td>\n",
       "      <td>275.0</td>\n",
       "      <td>134.289715</td>\n",
       "    </tr>\n",
       "    <tr>\n",
       "      <th>Gender non-conforming</th>\n",
       "      <td>304.000000</td>\n",
       "      <td>304.0</td>\n",
       "      <td>0.000000</td>\n",
       "    </tr>\n",
       "    <tr>\n",
       "      <th>Male</th>\n",
       "      <td>314.202427</td>\n",
       "      <td>304.0</td>\n",
       "      <td>143.507623</td>\n",
       "    </tr>\n",
       "    <tr>\n",
       "      <th>Transman (FTM)</th>\n",
       "      <td>274.000000</td>\n",
       "      <td>334.0</td>\n",
       "      <td>82.158384</td>\n",
       "    </tr>\n",
       "    <tr>\n",
       "      <th>Transwoman (MTF)</th>\n",
       "      <td>264.800000</td>\n",
       "      <td>212.0</td>\n",
       "      <td>129.339455</td>\n",
       "    </tr>\n",
       "  </tbody>\n",
       "</table>\n",
       "</div>"
      ],
      "text/plain": [
       "                      elapsed_time (days)                   \n",
       "                                     mean median         std\n",
       "complainant_gender                                          \n",
       "Female                         298.834694  275.0  134.289715\n",
       "Gender non-conforming          304.000000  304.0    0.000000\n",
       "Male                           314.202427  304.0  143.507623\n",
       "Transman (FTM)                 274.000000  334.0   82.158384\n",
       "Transwoman (MTF)               264.800000  212.0  129.339455"
      ]
     },
     "execution_count": 22,
     "metadata": {},
     "output_type": "execute_result"
    }
   ],
   "source": [
    "pd.DataFrame(df.groupby(\"complainant_gender\").aggregate({\"elapsed_time (days)\": [np.mean, np.median, np.std]}))"
   ]
  },
  {
   "cell_type": "code",
   "execution_count": 23,
   "metadata": {},
   "outputs": [
    {
     "data": {
      "text/html": [
       "<div>\n",
       "<style scoped>\n",
       "    .dataframe tbody tr th:only-of-type {\n",
       "        vertical-align: middle;\n",
       "    }\n",
       "\n",
       "    .dataframe tbody tr th {\n",
       "        vertical-align: top;\n",
       "    }\n",
       "\n",
       "    .dataframe thead tr th {\n",
       "        text-align: left;\n",
       "    }\n",
       "\n",
       "    .dataframe thead tr:last-of-type th {\n",
       "        text-align: right;\n",
       "    }\n",
       "</style>\n",
       "<table border=\"1\" class=\"dataframe\">\n",
       "  <thead>\n",
       "    <tr>\n",
       "      <th></th>\n",
       "      <th colspan=\"3\" halign=\"left\">elapsed_time (days)</th>\n",
       "    </tr>\n",
       "    <tr>\n",
       "      <th></th>\n",
       "      <th>mean</th>\n",
       "      <th>median</th>\n",
       "      <th>std</th>\n",
       "    </tr>\n",
       "    <tr>\n",
       "      <th>complainant_ethnicity</th>\n",
       "      <th></th>\n",
       "      <th></th>\n",
       "      <th></th>\n",
       "    </tr>\n",
       "  </thead>\n",
       "  <tbody>\n",
       "    <tr>\n",
       "      <th>American Indian</th>\n",
       "      <td>271.093750</td>\n",
       "      <td>273.0</td>\n",
       "      <td>108.618558</td>\n",
       "    </tr>\n",
       "    <tr>\n",
       "      <th>Asian</th>\n",
       "      <td>258.345865</td>\n",
       "      <td>215.0</td>\n",
       "      <td>125.066539</td>\n",
       "    </tr>\n",
       "    <tr>\n",
       "      <th>Black</th>\n",
       "      <td>320.058607</td>\n",
       "      <td>305.0</td>\n",
       "      <td>147.757478</td>\n",
       "    </tr>\n",
       "    <tr>\n",
       "      <th>Hispanic</th>\n",
       "      <td>308.947385</td>\n",
       "      <td>304.0</td>\n",
       "      <td>133.407104</td>\n",
       "    </tr>\n",
       "    <tr>\n",
       "      <th>Other Race</th>\n",
       "      <td>291.090103</td>\n",
       "      <td>304.0</td>\n",
       "      <td>124.401606</td>\n",
       "    </tr>\n",
       "    <tr>\n",
       "      <th>White</th>\n",
       "      <td>284.872080</td>\n",
       "      <td>273.0</td>\n",
       "      <td>128.375707</td>\n",
       "    </tr>\n",
       "  </tbody>\n",
       "</table>\n",
       "</div>"
      ],
      "text/plain": [
       "                      elapsed_time (days)                   \n",
       "                                     mean median         std\n",
       "complainant_ethnicity                                       \n",
       "American Indian                271.093750  273.0  108.618558\n",
       "Asian                          258.345865  215.0  125.066539\n",
       "Black                          320.058607  305.0  147.757478\n",
       "Hispanic                       308.947385  304.0  133.407104\n",
       "Other Race                     291.090103  304.0  124.401606\n",
       "White                          284.872080  273.0  128.375707"
      ]
     },
     "execution_count": 23,
     "metadata": {},
     "output_type": "execute_result"
    }
   ],
   "source": [
    "pd.DataFrame(df.groupby(\"complainant_ethnicity\").aggregate({\"elapsed_time (days)\": [np.mean, np.median, np.std]}))"
   ]
  },
  {
   "cell_type": "markdown",
   "metadata": {},
   "source": [
    "When looking at these two aggregations at first glance, we come to an understanding that females may have a smaller complaint length than males do. With regards to ethnicity, we can notice that black individuals have a longer complaint time than hispanic individuals.  For both ethnicity and gender, we use the mean and median, and notice they are higher for black and male than for hispanic and female (respectively). "
   ]
  },
  {
   "cell_type": "markdown",
   "metadata": {},
   "source": [
    "### Assessment of Missingness"
   ]
  },
  {
   "cell_type": "code",
   "execution_count": 24,
   "metadata": {},
   "outputs": [
    {
     "data": {
      "text/html": [
       "<div>\n",
       "<style scoped>\n",
       "    .dataframe tbody tr th:only-of-type {\n",
       "        vertical-align: middle;\n",
       "    }\n",
       "\n",
       "    .dataframe tbody tr th {\n",
       "        vertical-align: top;\n",
       "    }\n",
       "\n",
       "    .dataframe thead th {\n",
       "        text-align: right;\n",
       "    }\n",
       "</style>\n",
       "<table border=\"1\" class=\"dataframe\">\n",
       "  <thead>\n",
       "    <tr style=\"text-align: right;\">\n",
       "      <th></th>\n",
       "      <th>unique_mos_id</th>\n",
       "      <th>complaint_id</th>\n",
       "      <th>month_received</th>\n",
       "      <th>year_received</th>\n",
       "      <th>month_closed</th>\n",
       "      <th>year_closed</th>\n",
       "      <th>rank_now</th>\n",
       "      <th>mos_ethnicity</th>\n",
       "      <th>mos_gender</th>\n",
       "      <th>mos_age_incident</th>\n",
       "      <th>complainant_ethnicity</th>\n",
       "      <th>complainant_gender</th>\n",
       "      <th>complainant_age_incident</th>\n",
       "      <th>board_disposition</th>\n",
       "      <th>date_acquired</th>\n",
       "      <th>date_closed</th>\n",
       "      <th>elapsed_time (days)</th>\n",
       "      <th>complaint_result</th>\n",
       "    </tr>\n",
       "  </thead>\n",
       "  <tbody>\n",
       "    <tr>\n",
       "      <th>0</th>\n",
       "      <td>10004</td>\n",
       "      <td>42835</td>\n",
       "      <td>7</td>\n",
       "      <td>2019</td>\n",
       "      <td>5</td>\n",
       "      <td>2020</td>\n",
       "      <td>Police Officer</td>\n",
       "      <td>Hispanic</td>\n",
       "      <td>M</td>\n",
       "      <td>32</td>\n",
       "      <td>Black</td>\n",
       "      <td>Female</td>\n",
       "      <td>38.0</td>\n",
       "      <td>Substantiated (Command Lvl Instructions)</td>\n",
       "      <td>2019-07-01</td>\n",
       "      <td>2020-05-01</td>\n",
       "      <td>305</td>\n",
       "      <td>Denied</td>\n",
       "    </tr>\n",
       "    <tr>\n",
       "      <th>1</th>\n",
       "      <td>10007</td>\n",
       "      <td>24601</td>\n",
       "      <td>11</td>\n",
       "      <td>2011</td>\n",
       "      <td>8</td>\n",
       "      <td>2012</td>\n",
       "      <td>Police Officer</td>\n",
       "      <td>White</td>\n",
       "      <td>M</td>\n",
       "      <td>24</td>\n",
       "      <td>Black</td>\n",
       "      <td>Male</td>\n",
       "      <td>26.0</td>\n",
       "      <td>Substantiated (Charges)</td>\n",
       "      <td>2011-11-01</td>\n",
       "      <td>2012-08-01</td>\n",
       "      <td>274</td>\n",
       "      <td>Denied</td>\n",
       "    </tr>\n",
       "    <tr>\n",
       "      <th>2</th>\n",
       "      <td>10007</td>\n",
       "      <td>24601</td>\n",
       "      <td>11</td>\n",
       "      <td>2011</td>\n",
       "      <td>8</td>\n",
       "      <td>2012</td>\n",
       "      <td>Police Officer</td>\n",
       "      <td>White</td>\n",
       "      <td>M</td>\n",
       "      <td>24</td>\n",
       "      <td>Black</td>\n",
       "      <td>Male</td>\n",
       "      <td>26.0</td>\n",
       "      <td>Substantiated (Charges)</td>\n",
       "      <td>2011-11-01</td>\n",
       "      <td>2012-08-01</td>\n",
       "      <td>274</td>\n",
       "      <td>Denied</td>\n",
       "    </tr>\n",
       "    <tr>\n",
       "      <th>3</th>\n",
       "      <td>10007</td>\n",
       "      <td>26146</td>\n",
       "      <td>7</td>\n",
       "      <td>2012</td>\n",
       "      <td>9</td>\n",
       "      <td>2013</td>\n",
       "      <td>Police Officer</td>\n",
       "      <td>White</td>\n",
       "      <td>M</td>\n",
       "      <td>25</td>\n",
       "      <td>Black</td>\n",
       "      <td>Male</td>\n",
       "      <td>45.0</td>\n",
       "      <td>Substantiated (Charges)</td>\n",
       "      <td>2012-07-01</td>\n",
       "      <td>2013-09-01</td>\n",
       "      <td>427</td>\n",
       "      <td>Denied</td>\n",
       "    </tr>\n",
       "    <tr>\n",
       "      <th>4</th>\n",
       "      <td>10009</td>\n",
       "      <td>40253</td>\n",
       "      <td>8</td>\n",
       "      <td>2018</td>\n",
       "      <td>2</td>\n",
       "      <td>2019</td>\n",
       "      <td>Police Officer</td>\n",
       "      <td>Hispanic</td>\n",
       "      <td>F</td>\n",
       "      <td>39</td>\n",
       "      <td>NaN</td>\n",
       "      <td>NaN</td>\n",
       "      <td>16.0</td>\n",
       "      <td>Substantiated (Command Discipline A)</td>\n",
       "      <td>2018-08-01</td>\n",
       "      <td>2019-02-01</td>\n",
       "      <td>184</td>\n",
       "      <td>Denied</td>\n",
       "    </tr>\n",
       "    <tr>\n",
       "      <th>...</th>\n",
       "      <td>...</td>\n",
       "      <td>...</td>\n",
       "      <td>...</td>\n",
       "      <td>...</td>\n",
       "      <td>...</td>\n",
       "      <td>...</td>\n",
       "      <td>...</td>\n",
       "      <td>...</td>\n",
       "      <td>...</td>\n",
       "      <td>...</td>\n",
       "      <td>...</td>\n",
       "      <td>...</td>\n",
       "      <td>...</td>\n",
       "      <td>...</td>\n",
       "      <td>...</td>\n",
       "      <td>...</td>\n",
       "      <td>...</td>\n",
       "      <td>...</td>\n",
       "    </tr>\n",
       "    <tr>\n",
       "      <th>33353</th>\n",
       "      <td>9992</td>\n",
       "      <td>35671</td>\n",
       "      <td>8</td>\n",
       "      <td>2016</td>\n",
       "      <td>2</td>\n",
       "      <td>2017</td>\n",
       "      <td>Sergeant</td>\n",
       "      <td>White</td>\n",
       "      <td>M</td>\n",
       "      <td>36</td>\n",
       "      <td>Asian</td>\n",
       "      <td>Male</td>\n",
       "      <td>21.0</td>\n",
       "      <td>Unsubstantiated</td>\n",
       "      <td>2016-08-01</td>\n",
       "      <td>2017-02-01</td>\n",
       "      <td>184</td>\n",
       "      <td>Success</td>\n",
       "    </tr>\n",
       "    <tr>\n",
       "      <th>33354</th>\n",
       "      <td>9992</td>\n",
       "      <td>35671</td>\n",
       "      <td>8</td>\n",
       "      <td>2016</td>\n",
       "      <td>2</td>\n",
       "      <td>2017</td>\n",
       "      <td>Sergeant</td>\n",
       "      <td>White</td>\n",
       "      <td>M</td>\n",
       "      <td>36</td>\n",
       "      <td>Asian</td>\n",
       "      <td>Male</td>\n",
       "      <td>21.0</td>\n",
       "      <td>Unsubstantiated</td>\n",
       "      <td>2016-08-01</td>\n",
       "      <td>2017-02-01</td>\n",
       "      <td>184</td>\n",
       "      <td>Success</td>\n",
       "    </tr>\n",
       "    <tr>\n",
       "      <th>33355</th>\n",
       "      <td>9992</td>\n",
       "      <td>35671</td>\n",
       "      <td>8</td>\n",
       "      <td>2016</td>\n",
       "      <td>2</td>\n",
       "      <td>2017</td>\n",
       "      <td>Sergeant</td>\n",
       "      <td>White</td>\n",
       "      <td>M</td>\n",
       "      <td>36</td>\n",
       "      <td>Asian</td>\n",
       "      <td>Male</td>\n",
       "      <td>21.0</td>\n",
       "      <td>Substantiated (Formalized Training)</td>\n",
       "      <td>2016-08-01</td>\n",
       "      <td>2017-02-01</td>\n",
       "      <td>184</td>\n",
       "      <td>Denied</td>\n",
       "    </tr>\n",
       "    <tr>\n",
       "      <th>33356</th>\n",
       "      <td>9992</td>\n",
       "      <td>35671</td>\n",
       "      <td>8</td>\n",
       "      <td>2016</td>\n",
       "      <td>2</td>\n",
       "      <td>2017</td>\n",
       "      <td>Sergeant</td>\n",
       "      <td>White</td>\n",
       "      <td>M</td>\n",
       "      <td>36</td>\n",
       "      <td>Asian</td>\n",
       "      <td>Male</td>\n",
       "      <td>21.0</td>\n",
       "      <td>Substantiated (Formalized Training)</td>\n",
       "      <td>2016-08-01</td>\n",
       "      <td>2017-02-01</td>\n",
       "      <td>184</td>\n",
       "      <td>Denied</td>\n",
       "    </tr>\n",
       "    <tr>\n",
       "      <th>33357</th>\n",
       "      <td>9992</td>\n",
       "      <td>35671</td>\n",
       "      <td>8</td>\n",
       "      <td>2016</td>\n",
       "      <td>2</td>\n",
       "      <td>2017</td>\n",
       "      <td>Sergeant</td>\n",
       "      <td>White</td>\n",
       "      <td>M</td>\n",
       "      <td>36</td>\n",
       "      <td>Asian</td>\n",
       "      <td>Male</td>\n",
       "      <td>21.0</td>\n",
       "      <td>Substantiated (Formalized Training)</td>\n",
       "      <td>2016-08-01</td>\n",
       "      <td>2017-02-01</td>\n",
       "      <td>184</td>\n",
       "      <td>Denied</td>\n",
       "    </tr>\n",
       "  </tbody>\n",
       "</table>\n",
       "<p>33358 rows × 18 columns</p>\n",
       "</div>"
      ],
      "text/plain": [
       "       unique_mos_id  complaint_id  month_received  year_received  \\\n",
       "0              10004         42835               7           2019   \n",
       "1              10007         24601              11           2011   \n",
       "2              10007         24601              11           2011   \n",
       "3              10007         26146               7           2012   \n",
       "4              10009         40253               8           2018   \n",
       "...              ...           ...             ...            ...   \n",
       "33353           9992         35671               8           2016   \n",
       "33354           9992         35671               8           2016   \n",
       "33355           9992         35671               8           2016   \n",
       "33356           9992         35671               8           2016   \n",
       "33357           9992         35671               8           2016   \n",
       "\n",
       "       month_closed  year_closed        rank_now mos_ethnicity mos_gender  \\\n",
       "0                 5         2020  Police Officer      Hispanic          M   \n",
       "1                 8         2012  Police Officer         White          M   \n",
       "2                 8         2012  Police Officer         White          M   \n",
       "3                 9         2013  Police Officer         White          M   \n",
       "4                 2         2019  Police Officer      Hispanic          F   \n",
       "...             ...          ...             ...           ...        ...   \n",
       "33353             2         2017        Sergeant         White          M   \n",
       "33354             2         2017        Sergeant         White          M   \n",
       "33355             2         2017        Sergeant         White          M   \n",
       "33356             2         2017        Sergeant         White          M   \n",
       "33357             2         2017        Sergeant         White          M   \n",
       "\n",
       "       mos_age_incident complainant_ethnicity complainant_gender  \\\n",
       "0                    32                 Black             Female   \n",
       "1                    24                 Black               Male   \n",
       "2                    24                 Black               Male   \n",
       "3                    25                 Black               Male   \n",
       "4                    39                   NaN                NaN   \n",
       "...                 ...                   ...                ...   \n",
       "33353                36                 Asian               Male   \n",
       "33354                36                 Asian               Male   \n",
       "33355                36                 Asian               Male   \n",
       "33356                36                 Asian               Male   \n",
       "33357                36                 Asian               Male   \n",
       "\n",
       "       complainant_age_incident                         board_disposition  \\\n",
       "0                          38.0  Substantiated (Command Lvl Instructions)   \n",
       "1                          26.0                   Substantiated (Charges)   \n",
       "2                          26.0                   Substantiated (Charges)   \n",
       "3                          45.0                   Substantiated (Charges)   \n",
       "4                          16.0      Substantiated (Command Discipline A)   \n",
       "...                         ...                                       ...   \n",
       "33353                      21.0                           Unsubstantiated   \n",
       "33354                      21.0                           Unsubstantiated   \n",
       "33355                      21.0       Substantiated (Formalized Training)   \n",
       "33356                      21.0       Substantiated (Formalized Training)   \n",
       "33357                      21.0       Substantiated (Formalized Training)   \n",
       "\n",
       "      date_acquired date_closed  elapsed_time (days) complaint_result  \n",
       "0        2019-07-01  2020-05-01                  305           Denied  \n",
       "1        2011-11-01  2012-08-01                  274           Denied  \n",
       "2        2011-11-01  2012-08-01                  274           Denied  \n",
       "3        2012-07-01  2013-09-01                  427           Denied  \n",
       "4        2018-08-01  2019-02-01                  184           Denied  \n",
       "...             ...         ...                  ...              ...  \n",
       "33353    2016-08-01  2017-02-01                  184          Success  \n",
       "33354    2016-08-01  2017-02-01                  184          Success  \n",
       "33355    2016-08-01  2017-02-01                  184           Denied  \n",
       "33356    2016-08-01  2017-02-01                  184           Denied  \n",
       "33357    2016-08-01  2017-02-01                  184           Denied  \n",
       "\n",
       "[33358 rows x 18 columns]"
      ]
     },
     "execution_count": 24,
     "metadata": {},
     "output_type": "execute_result"
    }
   ],
   "source": [
    "df"
   ]
  },
  {
   "cell_type": "code",
   "execution_count": 25,
   "metadata": {},
   "outputs": [
    {
     "data": {
      "text/plain": [
       "unique_mos_id                  0\n",
       "complaint_id                   0\n",
       "month_received                 0\n",
       "year_received                  0\n",
       "month_closed                   0\n",
       "year_closed                    0\n",
       "rank_now                       0\n",
       "mos_ethnicity                  0\n",
       "mos_gender                     0\n",
       "mos_age_incident               0\n",
       "complainant_ethnicity       5764\n",
       "complainant_gender          4252\n",
       "complainant_age_incident    4818\n",
       "board_disposition              0\n",
       "date_acquired                  0\n",
       "date_closed                    0\n",
       "elapsed_time (days)            0\n",
       "complaint_result               0\n",
       "dtype: int64"
      ]
     },
     "execution_count": 25,
     "metadata": {},
     "output_type": "execute_result"
    }
   ],
   "source": [
    "df.isnull().sum()"
   ]
  },
  {
   "cell_type": "code",
   "execution_count": 26,
   "metadata": {},
   "outputs": [
    {
     "data": {
      "text/plain": [
       "4156"
      ]
     },
     "execution_count": 26,
     "metadata": {},
     "output_type": "execute_result"
    }
   ],
   "source": [
    "num_nulls = ((df[\"complainant_gender\"].isnull()) & (df[\"complainant_ethnicity\"].isnull()) & (df[\"complainant_age_incident\"].isnull())).sum()\n",
    "num_nulls"
   ]
  },
  {
   "cell_type": "code",
   "execution_count": 27,
   "metadata": {},
   "outputs": [
    {
     "data": {
      "text/plain": [
       "unique_mos_id               0.000000\n",
       "complaint_id                0.000000\n",
       "month_received              0.000000\n",
       "year_received               0.000000\n",
       "month_closed                0.000000\n",
       "year_closed                 0.000000\n",
       "rank_now                    0.000000\n",
       "mos_ethnicity               0.000000\n",
       "mos_gender                  0.000000\n",
       "mos_age_incident            0.000000\n",
       "complainant_ethnicity       0.172792\n",
       "complainant_gender          0.127466\n",
       "complainant_age_incident    0.144433\n",
       "board_disposition           0.000000\n",
       "date_acquired               0.000000\n",
       "date_closed                 0.000000\n",
       "elapsed_time (days)         0.000000\n",
       "complaint_result            0.000000\n",
       "dtype: float64"
      ]
     },
     "execution_count": 27,
     "metadata": {},
     "output_type": "execute_result"
    }
   ],
   "source": [
    "#MAR\n",
    "df.isnull().mean()"
   ]
  },
  {
   "cell_type": "markdown",
   "metadata": {},
   "source": [
    "__Permutation Test #1__ \n",
    "\n",
    "This permutation test checks if the distribution of complaint length is the same for missing gender data and existing gender data. \n",
    "\n",
    "Null hypothesis: Same distribution of complaint length for missing gender data and existing gender data.\n",
    "\n",
    "Alternate hypothesis: Different distribution of complaint length for missing gender data and existing gender data. "
   ]
  },
  {
   "cell_type": "code",
   "execution_count": 28,
   "metadata": {},
   "outputs": [
    {
     "data": {
      "text/plain": [
       "null_vals\n",
       "False    AxesSubplot(0.125,0.125;0.775x0.755)\n",
       "True     AxesSubplot(0.125,0.125;0.775x0.755)\n",
       "Name: elapsed_time (days), dtype: object"
      ]
     },
     "execution_count": 28,
     "metadata": {},
     "output_type": "execute_result"
    },
    {
     "data": {
      "image/png": "[encoded data removed]",
      "text/plain": [
       "<Figure size 432x288 with 1 Axes>"
      ]
     },
     "metadata": {
      "image/png": {
       "height": 248,
       "width": 398
      },
      "needs_background": "light"
     },
     "output_type": "display_data"
    }
   ],
   "source": [
    "tester = df[['complainant_gender','elapsed_time (days)']].copy()\n",
    "tester[\"null_vals\"] = tester[\"complainant_gender\"].isnull()\n",
    "tester.groupby(\"null_vals\")[\"elapsed_time (days)\"].plot(kind = \"kde\", legend = \"True\")"
   ]
  },
  {
   "cell_type": "code",
   "execution_count": 29,
   "metadata": {},
   "outputs": [],
   "source": [
    "def null_ks(temp, col):\n",
    "    return ks_2samp(temp.loc[temp[\"complainant_gender\"].isnull(), col], temp.loc[temp[\"complainant_gender\"].notnull(), col]).statistic"
   ]
  },
  {
   "cell_type": "code",
   "execution_count": 30,
   "metadata": {},
   "outputs": [
    {
     "name": "stdout",
     "output_type": "stream",
     "text": [
      "the single KS-stat is: 0.3622315978854078\n"
     ]
    }
   ],
   "source": [
    "ks_val = null_ks(tester, \"elapsed_time (days)\")\n",
    "print(\"the single KS-stat is:\", ks_val)\n",
    "\n",
    "stat_list = []\n",
    "length_vals = tester[\"elapsed_time (days)\"].values\n",
    "gender_vals = tester[\"complainant_gender\"].values\n",
    "\n",
    "temp = pd.DataFrame()\n",
    "temp[\"elapsed_time (days)\"] = length_vals\n",
    "for i in range(1000):\n",
    "    shuffled = np.random.permutation(gender_vals)\n",
    "    temp[\"complainant_gender\"] = shuffled\n",
    "    stat_list.append(null_ks(temp, \"elapsed_time (days)\"))"
   ]
  },
  {
   "cell_type": "code",
   "execution_count": 31,
   "metadata": {},
   "outputs": [
    {
     "data": {
      "text/plain": [
       "Text(0.5, 1.0, 'Missingness Permutation (KS) Test')"
      ]
     },
     "execution_count": 31,
     "metadata": {},
     "output_type": "execute_result"
    },
    {
     "data": {
      "image/png": "[encoded data removed]",
      "text/plain": [
       "<Figure size 432x288 with 1 Axes>"
      ]
     },
     "metadata": {
      "image/png": {
       "height": 263,
       "width": 388
      },
      "needs_background": "light"
     },
     "output_type": "display_data"
    }
   ],
   "source": [
    "pd.Series(stat_list).plot(kind = \"hist\")\n",
    "plt.axvline(ks_val, color = \"pink\")\n",
    "plt.title(\"Missingness Permutation (KS) Test\")"
   ]
  },
  {
   "cell_type": "code",
   "execution_count": 32,
   "metadata": {},
   "outputs": [
    {
     "name": "stdout",
     "output_type": "stream",
     "text": [
      "The mean of the p-values is: 0.0\n"
     ]
    }
   ],
   "source": [
    "print(\"The mean of the p-values is: \" + str((pd.Series(stat_list) >= ks_val).mean()))\n",
    "#Reject the null hypothesis, i.e. there is a different distribution of complaint length for missing and other data"
   ]
  },
  {
   "cell_type": "markdown",
   "metadata": {},
   "source": [
    "Because we are using a significance level of 0.05, we can reject the null hypothesis; i.e. we conclude that the complaint lengths for missing gender data and existing gender data are not from the same distribution. Hence, we understand that missingness is dependent on the complaint length."
   ]
  },
  {
   "cell_type": "markdown",
   "metadata": {},
   "source": [
    "__Permutation Test #2__ \n",
    "\n",
    "This permutation test checks if the missingness of complainant gender has a dependency on the complaint result. \n",
    "\n",
    "Null hypothesis: Same distribution of complaint result for missing and existing gender data.\n",
    "\n",
    "Alternate hypothesis: Different distribution of complaint result for missing and existing gender data."
   ]
  },
  {
   "cell_type": "code",
   "execution_count": 33,
   "metadata": {},
   "outputs": [
    {
     "data": {
      "text/html": [
       "<div>\n",
       "<style scoped>\n",
       "    .dataframe tbody tr th:only-of-type {\n",
       "        vertical-align: middle;\n",
       "    }\n",
       "\n",
       "    .dataframe tbody tr th {\n",
       "        vertical-align: top;\n",
       "    }\n",
       "\n",
       "    .dataframe thead th {\n",
       "        text-align: right;\n",
       "    }\n",
       "</style>\n",
       "<table border=\"1\" class=\"dataframe\">\n",
       "  <thead>\n",
       "    <tr style=\"text-align: right;\">\n",
       "      <th></th>\n",
       "      <th>unique_mos_id</th>\n",
       "      <th>complaint_id</th>\n",
       "      <th>month_received</th>\n",
       "      <th>year_received</th>\n",
       "      <th>month_closed</th>\n",
       "      <th>year_closed</th>\n",
       "      <th>rank_now</th>\n",
       "      <th>mos_ethnicity</th>\n",
       "      <th>mos_gender</th>\n",
       "      <th>mos_age_incident</th>\n",
       "      <th>complainant_ethnicity</th>\n",
       "      <th>complainant_gender</th>\n",
       "      <th>complainant_age_incident</th>\n",
       "      <th>board_disposition</th>\n",
       "      <th>date_acquired</th>\n",
       "      <th>date_closed</th>\n",
       "      <th>elapsed_time (days)</th>\n",
       "      <th>complaint_result</th>\n",
       "    </tr>\n",
       "  </thead>\n",
       "  <tbody>\n",
       "    <tr>\n",
       "      <th>0</th>\n",
       "      <td>10004</td>\n",
       "      <td>42835</td>\n",
       "      <td>7</td>\n",
       "      <td>2019</td>\n",
       "      <td>5</td>\n",
       "      <td>2020</td>\n",
       "      <td>Police Officer</td>\n",
       "      <td>Hispanic</td>\n",
       "      <td>M</td>\n",
       "      <td>32</td>\n",
       "      <td>Black</td>\n",
       "      <td>Female</td>\n",
       "      <td>38.0</td>\n",
       "      <td>Substantiated (Command Lvl Instructions)</td>\n",
       "      <td>2019-07-01</td>\n",
       "      <td>2020-05-01</td>\n",
       "      <td>305</td>\n",
       "      <td>Denied</td>\n",
       "    </tr>\n",
       "    <tr>\n",
       "      <th>1</th>\n",
       "      <td>10007</td>\n",
       "      <td>24601</td>\n",
       "      <td>11</td>\n",
       "      <td>2011</td>\n",
       "      <td>8</td>\n",
       "      <td>2012</td>\n",
       "      <td>Police Officer</td>\n",
       "      <td>White</td>\n",
       "      <td>M</td>\n",
       "      <td>24</td>\n",
       "      <td>Black</td>\n",
       "      <td>Male</td>\n",
       "      <td>26.0</td>\n",
       "      <td>Substantiated (Charges)</td>\n",
       "      <td>2011-11-01</td>\n",
       "      <td>2012-08-01</td>\n",
       "      <td>274</td>\n",
       "      <td>Denied</td>\n",
       "    </tr>\n",
       "    <tr>\n",
       "      <th>2</th>\n",
       "      <td>10007</td>\n",
       "      <td>24601</td>\n",
       "      <td>11</td>\n",
       "      <td>2011</td>\n",
       "      <td>8</td>\n",
       "      <td>2012</td>\n",
       "      <td>Police Officer</td>\n",
       "      <td>White</td>\n",
       "      <td>M</td>\n",
       "      <td>24</td>\n",
       "      <td>Black</td>\n",
       "      <td>Male</td>\n",
       "      <td>26.0</td>\n",
       "      <td>Substantiated (Charges)</td>\n",
       "      <td>2011-11-01</td>\n",
       "      <td>2012-08-01</td>\n",
       "      <td>274</td>\n",
       "      <td>Denied</td>\n",
       "    </tr>\n",
       "    <tr>\n",
       "      <th>3</th>\n",
       "      <td>10007</td>\n",
       "      <td>26146</td>\n",
       "      <td>7</td>\n",
       "      <td>2012</td>\n",
       "      <td>9</td>\n",
       "      <td>2013</td>\n",
       "      <td>Police Officer</td>\n",
       "      <td>White</td>\n",
       "      <td>M</td>\n",
       "      <td>25</td>\n",
       "      <td>Black</td>\n",
       "      <td>Male</td>\n",
       "      <td>45.0</td>\n",
       "      <td>Substantiated (Charges)</td>\n",
       "      <td>2012-07-01</td>\n",
       "      <td>2013-09-01</td>\n",
       "      <td>427</td>\n",
       "      <td>Denied</td>\n",
       "    </tr>\n",
       "    <tr>\n",
       "      <th>4</th>\n",
       "      <td>10009</td>\n",
       "      <td>40253</td>\n",
       "      <td>8</td>\n",
       "      <td>2018</td>\n",
       "      <td>2</td>\n",
       "      <td>2019</td>\n",
       "      <td>Police Officer</td>\n",
       "      <td>Hispanic</td>\n",
       "      <td>F</td>\n",
       "      <td>39</td>\n",
       "      <td>NaN</td>\n",
       "      <td>NaN</td>\n",
       "      <td>16.0</td>\n",
       "      <td>Substantiated (Command Discipline A)</td>\n",
       "      <td>2018-08-01</td>\n",
       "      <td>2019-02-01</td>\n",
       "      <td>184</td>\n",
       "      <td>Denied</td>\n",
       "    </tr>\n",
       "  </tbody>\n",
       "</table>\n",
       "</div>"
      ],
      "text/plain": [
       "   unique_mos_id  complaint_id  month_received  year_received  month_closed  \\\n",
       "0          10004         42835               7           2019             5   \n",
       "1          10007         24601              11           2011             8   \n",
       "2          10007         24601              11           2011             8   \n",
       "3          10007         26146               7           2012             9   \n",
       "4          10009         40253               8           2018             2   \n",
       "\n",
       "   year_closed        rank_now mos_ethnicity mos_gender  mos_age_incident  \\\n",
       "0         2020  Police Officer      Hispanic          M                32   \n",
       "1         2012  Police Officer         White          M                24   \n",
       "2         2012  Police Officer         White          M                24   \n",
       "3         2013  Police Officer         White          M                25   \n",
       "4         2019  Police Officer      Hispanic          F                39   \n",
       "\n",
       "  complainant_ethnicity complainant_gender  complainant_age_incident  \\\n",
       "0                 Black             Female                      38.0   \n",
       "1                 Black               Male                      26.0   \n",
       "2                 Black               Male                      26.0   \n",
       "3                 Black               Male                      45.0   \n",
       "4                   NaN                NaN                      16.0   \n",
       "\n",
       "                          board_disposition date_acquired date_closed  \\\n",
       "0  Substantiated (Command Lvl Instructions)    2019-07-01  2020-05-01   \n",
       "1                   Substantiated (Charges)    2011-11-01  2012-08-01   \n",
       "2                   Substantiated (Charges)    2011-11-01  2012-08-01   \n",
       "3                   Substantiated (Charges)    2012-07-01  2013-09-01   \n",
       "4      Substantiated (Command Discipline A)    2018-08-01  2019-02-01   \n",
       "\n",
       "   elapsed_time (days) complaint_result  \n",
       "0                  305           Denied  \n",
       "1                  274           Denied  \n",
       "2                  274           Denied  \n",
       "3                  427           Denied  \n",
       "4                  184           Denied  "
      ]
     },
     "execution_count": 33,
     "metadata": {},
     "output_type": "execute_result"
    }
   ],
   "source": [
    "df.head()"
   ]
  },
  {
   "cell_type": "code",
   "execution_count": 34,
   "metadata": {},
   "outputs": [],
   "source": [
    "def calc_tvd(s):\n",
    "    return s.diff(axis = 1).abs().sum().iloc[-1]/2\n",
    "\n",
    "def cross_table(temp, col):\n",
    "    t = temp.copy()\n",
    "    sol = t.pivot_table(index = [col], columns = [\"is_null\"], aggfunc = \"size\")\n",
    "    return sol / sol.sum()"
   ]
  },
  {
   "cell_type": "code",
   "execution_count": 35,
   "metadata": {},
   "outputs": [],
   "source": [
    "tester = df[[\"complainant_gender\", \"board_disposition\"]].copy()\n",
    "tester[\"is_null\"] = tester[\"complainant_gender\"].isnull()\n",
    "sol = cross_table(tester, \"board_disposition\")\n",
    "tvd = calc_tvd(sol)\n",
    "\n",
    "stats = list()\n",
    "n = 1000\n",
    "temp = pd.DataFrame()\n",
    "temp[\"board_disposition\"] = tester[\"board_disposition\"].values\n",
    "for i in range(n):\n",
    "    shuffled = np.random.permutation(tester[\"is_null\"].values)\n",
    "    temp[\"is_null\"] = shuffled\n",
    "    sol = cross_table(temp, \"board_disposition\")\n",
    "    stats.append(calc_tvd(sol))"
   ]
  },
  {
   "cell_type": "code",
   "execution_count": 36,
   "metadata": {},
   "outputs": [
    {
     "data": {
      "text/plain": [
       "<matplotlib.lines.Line2D at 0x282badd60>"
      ]
     },
     "execution_count": 36,
     "metadata": {},
     "output_type": "execute_result"
    },
    {
     "data": {
      "image/png": "[encoded data removed]",
      "text/plain": [
       "<Figure size 432x288 with 1 Axes>"
      ]
     },
     "metadata": {
      "image/png": {
       "height": 248,
       "width": 388
      },
      "needs_background": "light"
     },
     "output_type": "display_data"
    }
   ],
   "source": [
    "pd.Series(stats).plot(kind = \"hist\")\n",
    "plt.axvline(tvd, color = \"pink\")"
   ]
  },
  {
   "cell_type": "code",
   "execution_count": 37,
   "metadata": {},
   "outputs": [
    {
     "name": "stdout",
     "output_type": "stream",
     "text": [
      "tvd value: 0.13974102283805284\n",
      "p-value: 0.0\n"
     ]
    }
   ],
   "source": [
    "print(\"tvd value: \" + str(tvd))\n",
    "print(\"p-value: \" + str((pd.Series(stats) >= tvd).mean()))"
   ]
  },
  {
   "cell_type": "markdown",
   "metadata": {},
   "source": [
    "Because we are using a significance level of 0.05, we can reject the null hypothesis; i.e. we conclude that missingness and existing gender values aren't from the same distribution, meaning that missingness is known to be dependent on a successful complaint. "
   ]
  },
  {
   "cell_type": "markdown",
   "metadata": {},
   "source": [
    "### Hypothesis Test"
   ]
  },
  {
   "cell_type": "markdown",
   "metadata": {},
   "source": [
    "Null Hypothesis: The male complaint lengths and female complaint lengths are the same.\\\n",
    "Alternate Hypothesis: The male complaint lengths and female complaint lengths are different.\\\n",
    "Test Statistic: difference of means\\\n",
    "Significance Level: 0.05"
   ]
  },
  {
   "cell_type": "code",
   "execution_count": 38,
   "metadata": {},
   "outputs": [
    {
     "data": {
      "text/plain": [
       "Text(0.5, 1.0, 'Male and Female Kernel Density Estimation')"
      ]
     },
     "execution_count": 38,
     "metadata": {},
     "output_type": "execute_result"
    },
    {
     "data": {
      "image/png": "[encoded data removed]",
      "text/plain": [
       "<Figure size 432x288 with 1 Axes>"
      ]
     },
     "metadata": {
      "image/png": {
       "height": 263,
       "width": 405
      },
      "needs_background": "light"
     },
     "output_type": "display_data"
    }
   ],
   "source": [
    "#Permutation test on only male + female, as we have the largest sample sizes for these two genders\n",
    "double_gender = ((df[\"complainant_gender\"] == \"Female\") | (df[\"complainant_gender\"] == \"Male\"))\n",
    "double_gender = df[double_gender].copy()\n",
    "double_gender.groupby(\"complainant_gender\")[\"elapsed_time (days)\"].plot(kind = \"kde\", legend = \"True\")\n",
    "plt.title(\"Male and Female Kernel Density Estimation\")"
   ]
  },
  {
   "cell_type": "code",
   "execution_count": 39,
   "metadata": {
    "ExecuteTime": {
     "end_time": "2019-10-31T23:36:28.662099Z",
     "start_time": "2019-10-31T23:36:28.660016Z"
    }
   },
   "outputs": [
    {
     "name": "stdout",
     "output_type": "stream",
     "text": [
      "pval = 0.0\n"
     ]
    }
   ],
   "source": [
    "tester = df.groupby(\"complainant_gender\").mean()[\"elapsed_time (days)\"]\n",
    "observed_diff = tester.loc[\"Male\"] - tester.loc[\"Female\"]\n",
    "\n",
    "temp_df = pd.DataFrame()\n",
    "temp_df[\"complainant_gender\"] = df[\"complainant_gender\"]\n",
    "temp_df[\"elapsed_time (days)\"] = df[\"elapsed_time (days)\"]\n",
    "diffs = list()\n",
    "n = 1000\n",
    "\n",
    "for i in range(n):\n",
    "    samp = temp_df[\"elapsed_time (days)\"].sample(frac = 1, replace = False).reset_index(drop = True)\n",
    "    means = temp_df[[\"complainant_gender\"]].assign(time = samp).groupby(\"complainant_gender\").mean()[\"time\"]\n",
    "    diffs.append(means.loc[\"Male\"] - means.loc[\"Female\"])\n",
    "    \n",
    "#print(observed_diff)\n",
    "print(\"pval = \" + str(np.count_nonzero(diffs >= observed_diff) / n))"
   ]
  },
  {
   "cell_type": "markdown",
   "metadata": {},
   "source": [
    "Null Hypothesis: The complaint lengths of black individuals and hispanic individuals are the same.\\\n",
    "Alternate Hypothesis: The complaint lengths of black individuals and hispanic individuals are different.\\\n",
    "Test Statistic: difference of means\\\n",
    "Significance Level: 0.05"
   ]
  },
  {
   "cell_type": "code",
   "execution_count": 40,
   "metadata": {},
   "outputs": [
    {
     "data": {
      "text/plain": [
       "Text(0.5, 1.0, 'Black and Hispanic Kernel Density Estimation')"
      ]
     },
     "execution_count": 40,
     "metadata": {},
     "output_type": "execute_result"
    },
    {
     "data": {
      "image/png": "[encoded data removed]",
      "text/plain": [
       "<Figure size 432x288 with 1 Axes>"
      ]
     },
     "metadata": {
      "image/png": {
       "height": 263,
       "width": 405
      },
      "needs_background": "light"
     },
     "output_type": "display_data"
    }
   ],
   "source": [
    "#Permutation test on only black + hispanic, as we have chosen those two ethnicities\n",
    "double_gender = ((df[\"complainant_ethnicity\"] == \"Black\") | (df[\"complainant_ethnicity\"] == \"Hispanic\"))\n",
    "double_gender = df[double_gender].copy()\n",
    "double_gender.groupby(\"complainant_ethnicity\")[\"elapsed_time (days)\"].plot(kind = \"kde\", legend = \"True\")\n",
    "plt.title(\"Black and Hispanic Kernel Density Estimation\")"
   ]
  },
  {
   "cell_type": "code",
   "execution_count": 41,
   "metadata": {},
   "outputs": [
    {
     "name": "stdout",
     "output_type": "stream",
     "text": [
      "pval = 0.0\n"
     ]
    }
   ],
   "source": [
    "tester = df.groupby(\"complainant_ethnicity\").mean()[\"elapsed_time (days)\"]\n",
    "observed_diff = tester.loc[\"Black\"] - tester.loc[\"Hispanic\"]\n",
    "\n",
    "temp_df = pd.DataFrame()\n",
    "temp_df[\"complainant_ethnicity\"] = df[\"complainant_ethnicity\"]\n",
    "temp_df[\"elapsed_time (days)\"] = df[\"elapsed_time (days)\"]\n",
    "diffs = list()\n",
    "n = 1000\n",
    "\n",
    "for i in range(n):\n",
    "    samp = temp_df[\"elapsed_time (days)\"].sample(frac = 1, replace = False).reset_index(drop = True)\n",
    "    means = temp_df[[\"complainant_ethnicity\"]].assign(time = samp).groupby(\"complainant_ethnicity\").mean()[\"time\"]\n",
    "    diffs.append(means.loc[\"Black\"] - means.loc[\"Hispanic\"])\n",
    "    \n",
    "#print(observed_diff)\n",
    "print(\"pval = \" + str(np.count_nonzero(diffs >= observed_diff) / n))"
   ]
  }
 ],
 "metadata": {
  "kernelspec": {
   "display_name": "Python 3 (ipykernel)",
   "language": "python",
   "name": "python3"
  },
  "language_info": {
   "codemirror_mode": {
    "name": "ipython",
    "version": 3
   },
   "file_extension": ".py",
   "mimetype": "text/x-python",
   "name": "python",
   "nbconvert_exporter": "python",
   "pygments_lexer": "ipython3",
   "version": "3.9.8"
  }
 },
 "nbformat": 4,
 "nbformat_minor": 4
}
