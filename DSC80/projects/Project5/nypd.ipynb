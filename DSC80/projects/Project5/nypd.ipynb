{
 "cells": [
  {
   "cell_type": "markdown",
   "id": "4e8b7092-fe71-4350-b69d-8865348382b6",
   "metadata": {},
   "source": [
    "# NYPD Allegations\n",
    "* **See the main project notebook for instructions to be sure you satisfy the rubric!**\n",
    "* See Project 03 for information on the dataset.\n",
    "* A few example prediction questions to pursue are listed below. However, don't limit yourself to them!\n",
    "    * Predict the outcome of an allegation (might need to feature engineer your output column).\n",
    "    * Predict the complainant or officer ethnicity.\n",
    "    * Predict the amount of time between the month received vs month closed (difference of the two columns).\n",
    "    * Predict the rank of the officer.\n",
    "\n",
    "Be careful to justify what information you would know at the \"time of prediction\" and train your model using only those features."
   ]
  },
  {
   "cell_type": "markdown",
   "id": "6bf930bc-67ba-4deb-969e-d2961ef1326c",
   "metadata": {},
   "source": [
    "# Summary of Findings\n",
    "\n",
    "### Introduction\n",
    "Using the same NYPD data we did in project 3 we decided to further investigate the board disposition variable and build a model to solve the prediction problem: Based on the age, ethnicity, and gender will the outcome of the case be guilty or not guilty?\n",
    "\n",
    "To do this we cleaned the board disposition column by creating a helper function that accepted a board disposition value and determined whether the defendant was guilty or not guilty, and replaced the value of board disposition accordingly. To predict our target variable we chose to keep our focus on the same three key features (age, gender, and ethnicity) as we did previously, for both the officer and complainant for each complaint. We cleaned these columns by replacing missing or uninformative values with NaN and then dropped all rows containing null values from our dataset. Since we are truly only concerned about the effects of these features on the verdict we dropped the unrelated data from the dataset as well. \n",
    "\n",
    "We chose to use a DecisionTreeClassifier to construct our model as we found this to be the most appropriate tool given we are trying to predict a label rather than a quantity. We utilized the columns complainant_gender, complainant_age, complainant_ethnicity, mos_gender, mos_age, and mos_ethnicity to form the features we used for our baseline and final models. The board_disposition , i.e. the result of each complaint, was our resultant data. \n",
    "\n",
    "### Baseline Model\n",
    "To predict the complaint result using a classification model, we chose the features that we felt were most impactful to the problem at hand- the ethnicities, genders, and ages of the complainants as well as the officers. These features corresponded to six columns in our data. \n",
    "\n",
    "We first split each dataset into a dedicated train set and a test set using the sk-learn function train_test_split(), deciding to utilize 70% of our data for the training set, and 30% for the testing set. Because our data requires feature engineering, we created a helper function to create the pipeline, called bl_pipeline. \n",
    "\n",
    "\n",
    "While creating our baseline pipeline, we realized that our six features are not homogenous, i.e. four were categorical, and two were quantitative. Because of this, we had to encode the categorical features before being able to use them in our baseline and final model(s). We decided to encode the four categorical features (\"mos_gender\", \"mos_ethnicity\", \"complainant_gender\", complainant_ethnicity\") using one-hot encoding. We chose one-hot encoding over other encodings because we are dealing with nominal data, so other encoders are rendered useless (such as binary encoding, ordinal encoding, etc). While we still had the option of using FeatureHasher, or other encoders, we chose one-hot because it is designed specifically for nominal categorical data. Hence, we utilized ColumnTransformer to encode the categorical features using the OneHotEncoder, specifying those four columns to be encoded. The remaining [two] columns were passed through as is, as they are already quantitative data. \n",
    "\n",
    "\n",
    "We did some research regarding which classification algorithm to use from the various options that sk-learn provides. We had to come to a decision between a RandomForestClassifier and the DecisionTreeClassifier. We actually ran both models and realized that the random forest model actually overfit our training data. So, DecisionTreeClassifier seemed to be our best option, and we had quite a large sample size (> 10K data points). We additionally knew that our data doesn't have a linear fit. So, we built a pipeline using the preprocessed [and transformed] data using a DecisionTreeClassifier.\n",
    "\n",
    "\n",
    "**Note: Both feature engineering and creation of the pipeline is done inside our helper function.*\n",
    "\n",
    "\n",
    "We then call our helper function, hence creating a pipeline using our entire dataset. We fit our model using our pipeline, and judge our results using an evaluation metric- the score, which for our classification is the accuracy metric. We ended up with the following results after \"scoring\" our training and testing set:\n",
    "\n",
    "Train set score = 0.8537478117871731\\\n",
    "Test set score = 0.7063118811881188\n",
    "\n",
    "\n",
    "Clearly, our train set score was higher than our test set score, so our data is being overfit by our DecisionTreeClassifier model. We then attempted to reduce our overfitting in our final model by transforming our data that we use to train and test our model. \n",
    "\n",
    "\n",
    "### Final Model\n",
    "In an attempt to increase our testing score (accuracy), we took a multipronged approach. Initially, we plotted a density histogram of the complainant_age_incident and mos_age_incident to better understand how our quantitative data is distributed. We then decided to use the sk-learn library called GridSearchCV to come up with the best parameters; prior to doing so, we perform feature engineering once again. We decided to one-hot encode our categorical data once again, similar to the baseline model. We then decided to use three transformers during the feature engineering process on our quantitative data. \n",
    "\n",
    "\n",
    "The first transformer we used was the QuantileTransformer, which modifies our data such that there is somewhat of a normal distribution, while also removing marginal outliers. We used our histograms describing the distribution of our age data (complainants and officers) to decide on the number of quantiles. \n",
    "\n",
    "\n",
    "In another attempt at improving our model accuracy, we decided to use the RobustScaler that sk-learn provides. This scaler uses statistical measures, specifically the interquartile range (IQR) and median to center and scale the data. In our case, we use this scaler to center and scale the ages of the complainants and officers; this assists the classifier by also storing the median and IQR to use on later data (during the transform function call). \n",
    "\n",
    "\n",
    "Finally, we decided to utilize the StandardScaler to standardize the features (complainant and officer age) by removing the mean and scaling it to unit variance. In other words, the StandardScaler computes the z-score of all the samples (individually), and similar to RobustScaler, stores the median and standard deviation to use on later data (during the transform function call). We use StandardScaler because it ensures that our machine learning estimator (classifier) does not misbehave. This is also critical to deal with features with variances high enough to detract from other features (as per the sk-learn documentation).  \n",
    "\n",
    "\n",
    "Finally, similar to our baseline model, we created a pipeline via a helper function which included our feature engineering, and fit our model using the finalized pipeline. We scored our final model on our training set and testing set, and had the following scores:\n",
    "\n",
    "Train set score: 0.7570420667338603\\\n",
    "Test set score: 0.7518564356435643\n",
    "\n",
    "\n",
    "We noticed that our train set score went down from our baseline model, indicating that we at least improved our model with respect to overfitting. Our test set accuracy went up as well, which suggested that our model and its classifications are improved with respect to the testing set. \n",
    "\n",
    "### Fairness Evaluation\n",
    "To assess the fairness of our model we chose accuracy for our parity measure. To test the accuracy, we created a pipeline using our final model, and fit it using training data including only the rows with male or female complainant_age_genders, as this is what we decided to perform a fairness evaluation on. We come up with a confusion matrix, and find the recall_score for both \"guilty\" and \"not guilty\" complaints. \n",
    "\n",
    "We found that the recall scores were as follows:\n",
    "\n",
    "Guilty: 0.009081735620585268\\\n",
    "Not Guilty: 0.9944244014430961\n",
    "\n",
    "We then developed our null and alternative hypothesis:\n",
    "Null Hypothesis: Our model is fair, and the accuracy for my male and female subsets is approximately the same. \n",
    "Alternative Hypothesis: Our model is not fair, and the accuracy for my female subset is higher than for the male subset. \n",
    "\n",
    "\n",
    "We added a prediction column to our data, as well as came up with the score_accuracy for all genders, although we only focus on male and female. Because we had 99.9% of our data in our two subsets (~27/27000 that weren't male or female gender), we felt it was understandable to perform a fairness evaluation on the just those two genders. Finally, we calculate the observed difference of 0.05486190450283812, and perform a permutation test, resulting in a p-value of 0.596. \n",
    "\n",
    "\n",
    "From this p-value, we can safely we reject the null hypothesis and conclude that our model is not fair- the accuracy for the female complainants was higher than that of male complainants."
   ]
  },
  {
   "cell_type": "markdown",
   "id": "d4a158d7-aeef-4551-b26f-af162fc221f1",
   "metadata": {},
   "source": [
    "# Code"
   ]
  },
  {
   "cell_type": "code",
   "execution_count": 1,
   "id": "ec94c8d1-1b9d-411f-8c5e-2f303a78b957",
   "metadata": {},
   "outputs": [],
   "source": [
    "import matplotlib.pyplot as plt\n",
    "import numpy as np\n",
    "import os\n",
    "import pandas as pd\n",
    "import seaborn as sns\n",
    "%matplotlib inline\n",
    "%config InlineBackend.figure_format = 'retina'  # Higher resolution figures\n",
    "\n",
    "from sklearn.tree import DecisionTreeClassifier\n",
    "from sklearn.preprocessing import OneHotEncoder\n",
    "from sklearn.pipeline import Pipeline\n",
    "from sklearn.compose import ColumnTransformer\n",
    "from sklearn.model_selection import train_test_split\n",
    "\n",
    "from sklearn.preprocessing import QuantileTransformer, RobustScaler, StandardScaler\n",
    "from sklearn.model_selection import GridSearchCV\n",
    "\n",
    "from sklearn import metrics\n",
    "from scipy.stats import ks_2samp"
   ]
  },
  {
   "cell_type": "code",
   "execution_count": 2,
   "id": "7d59afc7-0058-43fd-b68a-9cc58330296b",
   "metadata": {},
   "outputs": [],
   "source": [
    "path = os.path.join(\"data\", \"allegations_202007271729.csv\")\n",
    "df = pd.read_csv(path)"
   ]
  },
  {
   "cell_type": "code",
   "execution_count": 3,
   "id": "2e21990f-e3e0-47f4-b505-4427d4bd4467",
   "metadata": {},
   "outputs": [
    {
     "data": {
      "text/html": [
       "<div>\n",
       "<style scoped>\n",
       "    .dataframe tbody tr th:only-of-type {\n",
       "        vertical-align: middle;\n",
       "    }\n",
       "\n",
       "    .dataframe tbody tr th {\n",
       "        vertical-align: top;\n",
       "    }\n",
       "\n",
       "    .dataframe thead th {\n",
       "        text-align: right;\n",
       "    }\n",
       "</style>\n",
       "<table border=\"1\" class=\"dataframe\">\n",
       "  <thead>\n",
       "    <tr style=\"text-align: right;\">\n",
       "      <th></th>\n",
       "      <th>unique_mos_id</th>\n",
       "      <th>first_name</th>\n",
       "      <th>last_name</th>\n",
       "      <th>command_now</th>\n",
       "      <th>shield_no</th>\n",
       "      <th>complaint_id</th>\n",
       "      <th>month_received</th>\n",
       "      <th>year_received</th>\n",
       "      <th>month_closed</th>\n",
       "      <th>year_closed</th>\n",
       "      <th>...</th>\n",
       "      <th>mos_age_incident</th>\n",
       "      <th>complainant_ethnicity</th>\n",
       "      <th>complainant_gender</th>\n",
       "      <th>complainant_age_incident</th>\n",
       "      <th>fado_type</th>\n",
       "      <th>allegation</th>\n",
       "      <th>precinct</th>\n",
       "      <th>contact_reason</th>\n",
       "      <th>outcome_description</th>\n",
       "      <th>board_disposition</th>\n",
       "    </tr>\n",
       "  </thead>\n",
       "  <tbody>\n",
       "    <tr>\n",
       "      <th>0</th>\n",
       "      <td>10004</td>\n",
       "      <td>Jonathan</td>\n",
       "      <td>Ruiz</td>\n",
       "      <td>078 PCT</td>\n",
       "      <td>8409</td>\n",
       "      <td>42835</td>\n",
       "      <td>7</td>\n",
       "      <td>2019</td>\n",
       "      <td>5</td>\n",
       "      <td>2020</td>\n",
       "      <td>...</td>\n",
       "      <td>32</td>\n",
       "      <td>Black</td>\n",
       "      <td>Female</td>\n",
       "      <td>38.0</td>\n",
       "      <td>Abuse of Authority</td>\n",
       "      <td>Failure to provide RTKA card</td>\n",
       "      <td>78.0</td>\n",
       "      <td>Report-domestic dispute</td>\n",
       "      <td>No arrest made or summons issued</td>\n",
       "      <td>Substantiated (Command Lvl Instructions)</td>\n",
       "    </tr>\n",
       "    <tr>\n",
       "      <th>1</th>\n",
       "      <td>10007</td>\n",
       "      <td>John</td>\n",
       "      <td>Sears</td>\n",
       "      <td>078 PCT</td>\n",
       "      <td>5952</td>\n",
       "      <td>24601</td>\n",
       "      <td>11</td>\n",
       "      <td>2011</td>\n",
       "      <td>8</td>\n",
       "      <td>2012</td>\n",
       "      <td>...</td>\n",
       "      <td>24</td>\n",
       "      <td>Black</td>\n",
       "      <td>Male</td>\n",
       "      <td>26.0</td>\n",
       "      <td>Discourtesy</td>\n",
       "      <td>Action</td>\n",
       "      <td>67.0</td>\n",
       "      <td>Moving violation</td>\n",
       "      <td>Moving violation summons issued</td>\n",
       "      <td>Substantiated (Charges)</td>\n",
       "    </tr>\n",
       "    <tr>\n",
       "      <th>2</th>\n",
       "      <td>10007</td>\n",
       "      <td>John</td>\n",
       "      <td>Sears</td>\n",
       "      <td>078 PCT</td>\n",
       "      <td>5952</td>\n",
       "      <td>24601</td>\n",
       "      <td>11</td>\n",
       "      <td>2011</td>\n",
       "      <td>8</td>\n",
       "      <td>2012</td>\n",
       "      <td>...</td>\n",
       "      <td>24</td>\n",
       "      <td>Black</td>\n",
       "      <td>Male</td>\n",
       "      <td>26.0</td>\n",
       "      <td>Offensive Language</td>\n",
       "      <td>Race</td>\n",
       "      <td>67.0</td>\n",
       "      <td>Moving violation</td>\n",
       "      <td>Moving violation summons issued</td>\n",
       "      <td>Substantiated (Charges)</td>\n",
       "    </tr>\n",
       "    <tr>\n",
       "      <th>3</th>\n",
       "      <td>10007</td>\n",
       "      <td>John</td>\n",
       "      <td>Sears</td>\n",
       "      <td>078 PCT</td>\n",
       "      <td>5952</td>\n",
       "      <td>26146</td>\n",
       "      <td>7</td>\n",
       "      <td>2012</td>\n",
       "      <td>9</td>\n",
       "      <td>2013</td>\n",
       "      <td>...</td>\n",
       "      <td>25</td>\n",
       "      <td>Black</td>\n",
       "      <td>Male</td>\n",
       "      <td>45.0</td>\n",
       "      <td>Abuse of Authority</td>\n",
       "      <td>Question</td>\n",
       "      <td>67.0</td>\n",
       "      <td>PD suspected C/V of violation/crime - street</td>\n",
       "      <td>No arrest made or summons issued</td>\n",
       "      <td>Substantiated (Charges)</td>\n",
       "    </tr>\n",
       "  </tbody>\n",
       "</table>\n",
       "<p>4 rows × 27 columns</p>\n",
       "</div>"
      ],
      "text/plain": [
       "   unique_mos_id first_name last_name command_now  shield_no  complaint_id  \\\n",
       "0          10004   Jonathan      Ruiz     078 PCT       8409         42835   \n",
       "1          10007       John     Sears     078 PCT       5952         24601   \n",
       "2          10007       John     Sears     078 PCT       5952         24601   \n",
       "3          10007       John     Sears     078 PCT       5952         26146   \n",
       "\n",
       "   month_received  year_received  month_closed  year_closed  ...  \\\n",
       "0               7           2019             5         2020  ...   \n",
       "1              11           2011             8         2012  ...   \n",
       "2              11           2011             8         2012  ...   \n",
       "3               7           2012             9         2013  ...   \n",
       "\n",
       "  mos_age_incident complainant_ethnicity complainant_gender  \\\n",
       "0               32                 Black             Female   \n",
       "1               24                 Black               Male   \n",
       "2               24                 Black               Male   \n",
       "3               25                 Black               Male   \n",
       "\n",
       "  complainant_age_incident           fado_type                    allegation  \\\n",
       "0                     38.0  Abuse of Authority  Failure to provide RTKA card   \n",
       "1                     26.0         Discourtesy                        Action   \n",
       "2                     26.0  Offensive Language                          Race   \n",
       "3                     45.0  Abuse of Authority                      Question   \n",
       "\n",
       "  precinct                                contact_reason  \\\n",
       "0     78.0                       Report-domestic dispute   \n",
       "1     67.0                              Moving violation   \n",
       "2     67.0                              Moving violation   \n",
       "3     67.0  PD suspected C/V of violation/crime - street   \n",
       "\n",
       "                outcome_description                         board_disposition  \n",
       "0  No arrest made or summons issued  Substantiated (Command Lvl Instructions)  \n",
       "1   Moving violation summons issued                   Substantiated (Charges)  \n",
       "2   Moving violation summons issued                   Substantiated (Charges)  \n",
       "3  No arrest made or summons issued                   Substantiated (Charges)  \n",
       "\n",
       "[4 rows x 27 columns]"
      ]
     },
     "execution_count": 3,
     "metadata": {},
     "output_type": "execute_result"
    }
   ],
   "source": [
    "df.head(4)"
   ]
  },
  {
   "cell_type": "code",
   "execution_count": 4,
   "id": "e03d9040-cb32-4887-b49f-a076f56ef26a",
   "metadata": {},
   "outputs": [
    {
     "name": "stdout",
     "output_type": "stream",
     "text": [
      "Substantiated (Command Lvl Instructions)\n",
      "Substantiated (Charges)\n",
      "Substantiated (Command Discipline A)\n",
      "Substantiated (Formalized Training)\n",
      "Unsubstantiated\n",
      "Exonerated\n",
      "Substantiated (Command Discipline B)\n",
      "Substantiated (Instructions)\n",
      "Substantiated (Command Discipline)\n",
      "Substantiated (No Recommendations)\n",
      "Substantiated (MOS Unidentified)\n"
     ]
    }
   ],
   "source": [
    "for i in df[\"board_disposition\"].unique():\n",
    "    print(i)"
   ]
  },
  {
   "cell_type": "code",
   "execution_count": 5,
   "id": "71010b0d-fb82-4f54-bd8a-be8cdbe32a7c",
   "metadata": {},
   "outputs": [],
   "source": [
    "def res_helper(temp):\n",
    "    if \"Unsubstantiated\".upper() in temp.upper():\n",
    "        return \"Not Guilty\"\n",
    "    elif \"Substantiated\".upper() in temp.upper():\n",
    "        return \"Guilty\"\n",
    "    else:\n",
    "        return \"Not Guilty\"\n",
    "\n",
    "df[\"board_disposition\"] = df[\"board_disposition\"].apply(res_helper)"
   ]
  },
  {
   "cell_type": "code",
   "execution_count": 6,
   "id": "0e45f14a-456b-4ea3-b590-a25677093ec1",
   "metadata": {},
   "outputs": [
    {
     "data": {
      "text/html": [
       "<div>\n",
       "<style scoped>\n",
       "    .dataframe tbody tr th:only-of-type {\n",
       "        vertical-align: middle;\n",
       "    }\n",
       "\n",
       "    .dataframe tbody tr th {\n",
       "        vertical-align: top;\n",
       "    }\n",
       "\n",
       "    .dataframe thead th {\n",
       "        text-align: right;\n",
       "    }\n",
       "</style>\n",
       "<table border=\"1\" class=\"dataframe\">\n",
       "  <thead>\n",
       "    <tr style=\"text-align: right;\">\n",
       "      <th></th>\n",
       "      <th>unique_mos_id</th>\n",
       "      <th>first_name</th>\n",
       "      <th>last_name</th>\n",
       "      <th>command_now</th>\n",
       "      <th>shield_no</th>\n",
       "      <th>complaint_id</th>\n",
       "      <th>month_received</th>\n",
       "      <th>year_received</th>\n",
       "      <th>month_closed</th>\n",
       "      <th>year_closed</th>\n",
       "      <th>...</th>\n",
       "      <th>mos_age_incident</th>\n",
       "      <th>complainant_ethnicity</th>\n",
       "      <th>complainant_gender</th>\n",
       "      <th>complainant_age_incident</th>\n",
       "      <th>fado_type</th>\n",
       "      <th>allegation</th>\n",
       "      <th>precinct</th>\n",
       "      <th>contact_reason</th>\n",
       "      <th>outcome_description</th>\n",
       "      <th>board_disposition</th>\n",
       "    </tr>\n",
       "  </thead>\n",
       "  <tbody>\n",
       "    <tr>\n",
       "      <th>0</th>\n",
       "      <td>10004</td>\n",
       "      <td>Jonathan</td>\n",
       "      <td>Ruiz</td>\n",
       "      <td>078 PCT</td>\n",
       "      <td>8409</td>\n",
       "      <td>42835</td>\n",
       "      <td>7</td>\n",
       "      <td>2019</td>\n",
       "      <td>5</td>\n",
       "      <td>2020</td>\n",
       "      <td>...</td>\n",
       "      <td>32</td>\n",
       "      <td>Black</td>\n",
       "      <td>Female</td>\n",
       "      <td>38.0</td>\n",
       "      <td>Abuse of Authority</td>\n",
       "      <td>Failure to provide RTKA card</td>\n",
       "      <td>78.0</td>\n",
       "      <td>Report-domestic dispute</td>\n",
       "      <td>No arrest made or summons issued</td>\n",
       "      <td>Guilty</td>\n",
       "    </tr>\n",
       "    <tr>\n",
       "      <th>1</th>\n",
       "      <td>10007</td>\n",
       "      <td>John</td>\n",
       "      <td>Sears</td>\n",
       "      <td>078 PCT</td>\n",
       "      <td>5952</td>\n",
       "      <td>24601</td>\n",
       "      <td>11</td>\n",
       "      <td>2011</td>\n",
       "      <td>8</td>\n",
       "      <td>2012</td>\n",
       "      <td>...</td>\n",
       "      <td>24</td>\n",
       "      <td>Black</td>\n",
       "      <td>Male</td>\n",
       "      <td>26.0</td>\n",
       "      <td>Discourtesy</td>\n",
       "      <td>Action</td>\n",
       "      <td>67.0</td>\n",
       "      <td>Moving violation</td>\n",
       "      <td>Moving violation summons issued</td>\n",
       "      <td>Guilty</td>\n",
       "    </tr>\n",
       "    <tr>\n",
       "      <th>2</th>\n",
       "      <td>10007</td>\n",
       "      <td>John</td>\n",
       "      <td>Sears</td>\n",
       "      <td>078 PCT</td>\n",
       "      <td>5952</td>\n",
       "      <td>24601</td>\n",
       "      <td>11</td>\n",
       "      <td>2011</td>\n",
       "      <td>8</td>\n",
       "      <td>2012</td>\n",
       "      <td>...</td>\n",
       "      <td>24</td>\n",
       "      <td>Black</td>\n",
       "      <td>Male</td>\n",
       "      <td>26.0</td>\n",
       "      <td>Offensive Language</td>\n",
       "      <td>Race</td>\n",
       "      <td>67.0</td>\n",
       "      <td>Moving violation</td>\n",
       "      <td>Moving violation summons issued</td>\n",
       "      <td>Guilty</td>\n",
       "    </tr>\n",
       "    <tr>\n",
       "      <th>3</th>\n",
       "      <td>10007</td>\n",
       "      <td>John</td>\n",
       "      <td>Sears</td>\n",
       "      <td>078 PCT</td>\n",
       "      <td>5952</td>\n",
       "      <td>26146</td>\n",
       "      <td>7</td>\n",
       "      <td>2012</td>\n",
       "      <td>9</td>\n",
       "      <td>2013</td>\n",
       "      <td>...</td>\n",
       "      <td>25</td>\n",
       "      <td>Black</td>\n",
       "      <td>Male</td>\n",
       "      <td>45.0</td>\n",
       "      <td>Abuse of Authority</td>\n",
       "      <td>Question</td>\n",
       "      <td>67.0</td>\n",
       "      <td>PD suspected C/V of violation/crime - street</td>\n",
       "      <td>No arrest made or summons issued</td>\n",
       "      <td>Guilty</td>\n",
       "    </tr>\n",
       "    <tr>\n",
       "      <th>4</th>\n",
       "      <td>10009</td>\n",
       "      <td>Noemi</td>\n",
       "      <td>Sierra</td>\n",
       "      <td>078 PCT</td>\n",
       "      <td>24058</td>\n",
       "      <td>40253</td>\n",
       "      <td>8</td>\n",
       "      <td>2018</td>\n",
       "      <td>2</td>\n",
       "      <td>2019</td>\n",
       "      <td>...</td>\n",
       "      <td>39</td>\n",
       "      <td>NaN</td>\n",
       "      <td>NaN</td>\n",
       "      <td>16.0</td>\n",
       "      <td>Force</td>\n",
       "      <td>Physical force</td>\n",
       "      <td>67.0</td>\n",
       "      <td>Report-dispute</td>\n",
       "      <td>Arrest - other violation/crime</td>\n",
       "      <td>Guilty</td>\n",
       "    </tr>\n",
       "  </tbody>\n",
       "</table>\n",
       "<p>5 rows × 27 columns</p>\n",
       "</div>"
      ],
      "text/plain": [
       "   unique_mos_id first_name last_name command_now  shield_no  complaint_id  \\\n",
       "0          10004   Jonathan      Ruiz     078 PCT       8409         42835   \n",
       "1          10007       John     Sears     078 PCT       5952         24601   \n",
       "2          10007       John     Sears     078 PCT       5952         24601   \n",
       "3          10007       John     Sears     078 PCT       5952         26146   \n",
       "4          10009      Noemi    Sierra     078 PCT      24058         40253   \n",
       "\n",
       "   month_received  year_received  month_closed  year_closed  ...  \\\n",
       "0               7           2019             5         2020  ...   \n",
       "1              11           2011             8         2012  ...   \n",
       "2              11           2011             8         2012  ...   \n",
       "3               7           2012             9         2013  ...   \n",
       "4               8           2018             2         2019  ...   \n",
       "\n",
       "  mos_age_incident complainant_ethnicity complainant_gender  \\\n",
       "0               32                 Black             Female   \n",
       "1               24                 Black               Male   \n",
       "2               24                 Black               Male   \n",
       "3               25                 Black               Male   \n",
       "4               39                   NaN                NaN   \n",
       "\n",
       "  complainant_age_incident           fado_type                    allegation  \\\n",
       "0                     38.0  Abuse of Authority  Failure to provide RTKA card   \n",
       "1                     26.0         Discourtesy                        Action   \n",
       "2                     26.0  Offensive Language                          Race   \n",
       "3                     45.0  Abuse of Authority                      Question   \n",
       "4                     16.0               Force                Physical force   \n",
       "\n",
       "  precinct                                contact_reason  \\\n",
       "0     78.0                       Report-domestic dispute   \n",
       "1     67.0                              Moving violation   \n",
       "2     67.0                              Moving violation   \n",
       "3     67.0  PD suspected C/V of violation/crime - street   \n",
       "4     67.0                                Report-dispute   \n",
       "\n",
       "                outcome_description board_disposition  \n",
       "0  No arrest made or summons issued            Guilty  \n",
       "1   Moving violation summons issued            Guilty  \n",
       "2   Moving violation summons issued            Guilty  \n",
       "3  No arrest made or summons issued            Guilty  \n",
       "4    Arrest - other violation/crime            Guilty  \n",
       "\n",
       "[5 rows x 27 columns]"
      ]
     },
     "execution_count": 6,
     "metadata": {},
     "output_type": "execute_result"
    }
   ],
   "source": [
    "df.head(5)"
   ]
  },
  {
   "cell_type": "code",
   "execution_count": 7,
   "id": "21d4119e-b5be-493f-bfde-ab7bd6068707",
   "metadata": {},
   "outputs": [],
   "source": [
    "df[\"complainant_age_incident\"] = df[\"complainant_age_incident\"].apply(lambda x: np.NaN if x < 0 else x)\n",
    "df[\"complainant_ethnicity\"] = df[\"complainant_ethnicity\"].replace({\"Unknown\": np.NaN, \"Refused\": np.NaN})\n",
    "df[\"complainant_gender\"] = df[\"complainant_gender\"].replace({\"Not described\": np.NaN})\n",
    "df[\"mos_gender\"] = df[\"mos_gender\"].replace({\"M\": \"Male\", \"F\": \"Female\"})\n",
    "df = df.dropna().reset_index(drop = True)"
   ]
  },
  {
   "cell_type": "code",
   "execution_count": 8,
   "id": "424c4469-30bf-41b9-a59f-8b247ca1e0a2",
   "metadata": {},
   "outputs": [],
   "source": [
    "df = df.sample(frac = 1)\n",
    "data = df[[\"complainant_gender\", \"complainant_ethnicity\", \"complainant_age_incident\", \"mos_gender\", \"mos_ethnicity\", \"mos_age_incident\", \"board_disposition\"]]"
   ]
  },
  {
   "cell_type": "code",
   "execution_count": 9,
   "id": "1008893f-fadb-4978-89c4-312fd808a999",
   "metadata": {},
   "outputs": [
    {
     "data": {
      "text/html": [
       "<div>\n",
       "<style scoped>\n",
       "    .dataframe tbody tr th:only-of-type {\n",
       "        vertical-align: middle;\n",
       "    }\n",
       "\n",
       "    .dataframe tbody tr th {\n",
       "        vertical-align: top;\n",
       "    }\n",
       "\n",
       "    .dataframe thead th {\n",
       "        text-align: right;\n",
       "    }\n",
       "</style>\n",
       "<table border=\"1\" class=\"dataframe\">\n",
       "  <thead>\n",
       "    <tr style=\"text-align: right;\">\n",
       "      <th></th>\n",
       "      <th>complainant_gender</th>\n",
       "      <th>complainant_ethnicity</th>\n",
       "      <th>complainant_age_incident</th>\n",
       "      <th>mos_gender</th>\n",
       "      <th>mos_ethnicity</th>\n",
       "      <th>mos_age_incident</th>\n",
       "      <th>board_disposition</th>\n",
       "    </tr>\n",
       "  </thead>\n",
       "  <tbody>\n",
       "    <tr>\n",
       "      <th>5833</th>\n",
       "      <td>Male</td>\n",
       "      <td>Hispanic</td>\n",
       "      <td>21.0</td>\n",
       "      <td>Male</td>\n",
       "      <td>White</td>\n",
       "      <td>31</td>\n",
       "      <td>Not Guilty</td>\n",
       "    </tr>\n",
       "    <tr>\n",
       "      <th>21881</th>\n",
       "      <td>Female</td>\n",
       "      <td>White</td>\n",
       "      <td>61.0</td>\n",
       "      <td>Male</td>\n",
       "      <td>White</td>\n",
       "      <td>35</td>\n",
       "      <td>Not Guilty</td>\n",
       "    </tr>\n",
       "    <tr>\n",
       "      <th>19042</th>\n",
       "      <td>Female</td>\n",
       "      <td>Black</td>\n",
       "      <td>38.0</td>\n",
       "      <td>Male</td>\n",
       "      <td>Hispanic</td>\n",
       "      <td>47</td>\n",
       "      <td>Not Guilty</td>\n",
       "    </tr>\n",
       "    <tr>\n",
       "      <th>14251</th>\n",
       "      <td>Male</td>\n",
       "      <td>Hispanic</td>\n",
       "      <td>26.0</td>\n",
       "      <td>Male</td>\n",
       "      <td>White</td>\n",
       "      <td>28</td>\n",
       "      <td>Not Guilty</td>\n",
       "    </tr>\n",
       "    <tr>\n",
       "      <th>23005</th>\n",
       "      <td>Male</td>\n",
       "      <td>Black</td>\n",
       "      <td>49.0</td>\n",
       "      <td>Male</td>\n",
       "      <td>White</td>\n",
       "      <td>27</td>\n",
       "      <td>Not Guilty</td>\n",
       "    </tr>\n",
       "  </tbody>\n",
       "</table>\n",
       "</div>"
      ],
      "text/plain": [
       "      complainant_gender complainant_ethnicity  complainant_age_incident  \\\n",
       "5833                Male              Hispanic                      21.0   \n",
       "21881             Female                 White                      61.0   \n",
       "19042             Female                 Black                      38.0   \n",
       "14251               Male              Hispanic                      26.0   \n",
       "23005               Male                 Black                      49.0   \n",
       "\n",
       "      mos_gender mos_ethnicity  mos_age_incident board_disposition  \n",
       "5833        Male         White                31        Not Guilty  \n",
       "21881       Male         White                35        Not Guilty  \n",
       "19042       Male      Hispanic                47        Not Guilty  \n",
       "14251       Male         White                28        Not Guilty  \n",
       "23005       Male         White                27        Not Guilty  "
      ]
     },
     "execution_count": 9,
     "metadata": {},
     "output_type": "execute_result"
    }
   ],
   "source": [
    "data.head()"
   ]
  },
  {
   "cell_type": "markdown",
   "id": "94bf9b5d-3386-487f-bf1b-0425d7b7394b",
   "metadata": {},
   "source": [
    "### Baseline Model"
   ]
  },
  {
   "cell_type": "code",
   "execution_count": 10,
   "id": "5087c4b8-6c6e-4d6a-b0f8-969cc97bd617",
   "metadata": {},
   "outputs": [],
   "source": [
    "X = data.drop(\"board_disposition\", axis = 1)\n",
    "y = data.board_disposition"
   ]
  },
  {
   "cell_type": "code",
   "execution_count": 11,
   "id": "8ca75b9b-1a4e-4d53-88da-636b7d6421f1",
   "metadata": {},
   "outputs": [
    {
     "data": {
      "text/html": [
       "<div>\n",
       "<style scoped>\n",
       "    .dataframe tbody tr th:only-of-type {\n",
       "        vertical-align: middle;\n",
       "    }\n",
       "\n",
       "    .dataframe tbody tr th {\n",
       "        vertical-align: top;\n",
       "    }\n",
       "\n",
       "    .dataframe thead th {\n",
       "        text-align: right;\n",
       "    }\n",
       "</style>\n",
       "<table border=\"1\" class=\"dataframe\">\n",
       "  <thead>\n",
       "    <tr style=\"text-align: right;\">\n",
       "      <th></th>\n",
       "      <th>complainant_gender</th>\n",
       "      <th>complainant_ethnicity</th>\n",
       "      <th>complainant_age_incident</th>\n",
       "      <th>mos_gender</th>\n",
       "      <th>mos_ethnicity</th>\n",
       "      <th>mos_age_incident</th>\n",
       "    </tr>\n",
       "  </thead>\n",
       "  <tbody>\n",
       "    <tr>\n",
       "      <th>5833</th>\n",
       "      <td>Male</td>\n",
       "      <td>Hispanic</td>\n",
       "      <td>21.0</td>\n",
       "      <td>Male</td>\n",
       "      <td>White</td>\n",
       "      <td>31</td>\n",
       "    </tr>\n",
       "    <tr>\n",
       "      <th>21881</th>\n",
       "      <td>Female</td>\n",
       "      <td>White</td>\n",
       "      <td>61.0</td>\n",
       "      <td>Male</td>\n",
       "      <td>White</td>\n",
       "      <td>35</td>\n",
       "    </tr>\n",
       "    <tr>\n",
       "      <th>19042</th>\n",
       "      <td>Female</td>\n",
       "      <td>Black</td>\n",
       "      <td>38.0</td>\n",
       "      <td>Male</td>\n",
       "      <td>Hispanic</td>\n",
       "      <td>47</td>\n",
       "    </tr>\n",
       "  </tbody>\n",
       "</table>\n",
       "</div>"
      ],
      "text/plain": [
       "      complainant_gender complainant_ethnicity  complainant_age_incident  \\\n",
       "5833                Male              Hispanic                      21.0   \n",
       "21881             Female                 White                      61.0   \n",
       "19042             Female                 Black                      38.0   \n",
       "\n",
       "      mos_gender mos_ethnicity  mos_age_incident  \n",
       "5833        Male         White                31  \n",
       "21881       Male         White                35  \n",
       "19042       Male      Hispanic                47  "
      ]
     },
     "execution_count": 11,
     "metadata": {},
     "output_type": "execute_result"
    }
   ],
   "source": [
    "X.head(3)"
   ]
  },
  {
   "cell_type": "code",
   "execution_count": 12,
   "id": "fe23d1a6-15bf-4a03-979d-53cd5ecd4140",
   "metadata": {},
   "outputs": [
    {
     "data": {
      "text/plain": [
       "5833     Not Guilty\n",
       "21881    Not Guilty\n",
       "19042    Not Guilty\n",
       "Name: board_disposition, dtype: object"
      ]
     },
     "execution_count": 12,
     "metadata": {},
     "output_type": "execute_result"
    }
   ],
   "source": [
    "y.head(3)"
   ]
  },
  {
   "cell_type": "code",
   "execution_count": 13,
   "id": "0a00105f-654d-429e-b501-084093385572",
   "metadata": {},
   "outputs": [],
   "source": [
    "X_train, X_test, y_train, y_test = train_test_split(X, y, test_size = 0.3, random_state = 12)"
   ]
  },
  {
   "cell_type": "code",
   "execution_count": 14,
   "id": "5a1ec7e1-637a-4f5d-a6a9-979ebec28b01",
   "metadata": {},
   "outputs": [],
   "source": [
    "def bl_pipeline(temp):\n",
    "    features = ColumnTransformer(transformers = [(\"one_hot_code\", OneHotEncoder(handle_unknown = 'ignore'), [\"complainant_gender\", \"complainant_ethnicity\", \"mos_gender\", \"mos_ethnicity\"])], remainder = \"passthrough\")\n",
    "    ppln = Pipeline([(\"Preprocess\", features), (\"DecisionTreeClassifier\", DecisionTreeClassifier())])\n",
    "    #ppln = Pipeline([(\"Preprocess\", features), (\"RandomForestClassifier\", RandomForestClassifier())])\n",
    "    return ppln\n",
    "\n",
    "caller = data.copy()\n",
    "bl_ppln = bl_pipeline(caller)"
   ]
  },
  {
   "cell_type": "code",
   "execution_count": 15,
   "id": "0c9ffa9c-89f5-47ec-b9c9-5d7b0ed72718",
   "metadata": {},
   "outputs": [
    {
     "data": {
      "text/plain": [
       "Pipeline(memory=None,\n",
       "         steps=[('Preprocess',\n",
       "                 ColumnTransformer(n_jobs=None, remainder='passthrough',\n",
       "                                   sparse_threshold=0.3,\n",
       "                                   transformer_weights=None,\n",
       "                                   transformers=[('one_hot_code',\n",
       "                                                  OneHotEncoder(categories='auto',\n",
       "                                                                drop=None,\n",
       "                                                                dtype=<class 'numpy.float64'>,\n",
       "                                                                handle_unknown='ignore',\n",
       "                                                                sparse=True),\n",
       "                                                  ['complainant_gender',\n",
       "                                                   'complainant_ethnicity',\n",
       "                                                   'mos_gender',\n",
       "                                                   'mos_ethnic...\n",
       "                                   verbose=False)),\n",
       "                ('DecisionTreeClassifier',\n",
       "                 DecisionTreeClassifier(ccp_alpha=0.0, class_weight=None,\n",
       "                                        criterion='gini', max_depth=None,\n",
       "                                        max_features=None, max_leaf_nodes=None,\n",
       "                                        min_impurity_decrease=0.0,\n",
       "                                        min_impurity_split=None,\n",
       "                                        min_samples_leaf=1, min_samples_split=2,\n",
       "                                        min_weight_fraction_leaf=0.0,\n",
       "                                        presort='deprecated', random_state=None,\n",
       "                                        splitter='best'))],\n",
       "         verbose=False)"
      ]
     },
     "execution_count": 15,
     "metadata": {},
     "output_type": "execute_result"
    }
   ],
   "source": [
    "bl_ppln.fit(X_train, y_train)"
   ]
  },
  {
   "cell_type": "code",
   "execution_count": 16,
   "id": "b3ae11c2-64e3-4587-b2b0-e02a1898b372",
   "metadata": {},
   "outputs": [
    {
     "data": {
      "text/plain": [
       "0.8537478117871731"
      ]
     },
     "execution_count": 16,
     "metadata": {},
     "output_type": "execute_result"
    }
   ],
   "source": [
    "bl_ppln.score(X_train, y_train)"
   ]
  },
  {
   "cell_type": "code",
   "execution_count": 17,
   "id": "05c3aa39-78ae-4327-8617-60e2ce2a29d4",
   "metadata": {},
   "outputs": [
    {
     "data": {
      "text/plain": [
       "0.7063118811881188"
      ]
     },
     "execution_count": 17,
     "metadata": {},
     "output_type": "execute_result"
    }
   ],
   "source": [
    "bl_ppln.score(X_test, y_test)"
   ]
  },
  {
   "cell_type": "markdown",
   "id": "04f3951c-737c-46d7-8994-a354754a7877",
   "metadata": {},
   "source": [
    "### Final Model"
   ]
  },
  {
   "cell_type": "code",
   "execution_count": 18,
   "id": "3b87c573-9210-41da-9bac-803161f357db",
   "metadata": {},
   "outputs": [
    {
     "data": {
      "text/plain": [
       "(array([7.35285738e-05, 1.50807105e-02, 3.50069540e-02, 2.37570822e-02,\n",
       "        1.58932012e-02, 6.82345164e-03, 1.85292006e-03, 4.63230015e-04,\n",
       "        5.14700016e-05, 7.35285738e-06]),\n",
       " array([  0. ,  10.1,  20.2,  30.3,  40.4,  50.5,  60.6,  70.7,  80.8,\n",
       "         90.9, 101. ]),\n",
       " <BarContainer object of 10 artists>)"
      ]
     },
     "execution_count": 18,
     "metadata": {},
     "output_type": "execute_result"
    },
    {
     "data": {
      "image/png": "[encoded data removed]",
      "text/plain": [
       "<Figure size 432x288 with 1 Axes>"
      ]
     },
     "metadata": {
      "image/png": {
       "height": 248,
       "width": 385
      },
      "needs_background": "light"
     },
     "output_type": "display_data"
    }
   ],
   "source": [
    "plt.hist(df[\"complainant_age_incident\"], density = True)"
   ]
  },
  {
   "cell_type": "code",
   "execution_count": 19,
   "id": "e0baa5f5-d340-4d30-b25b-ab4face6653d",
   "metadata": {},
   "outputs": [
    {
     "data": {
      "text/plain": [
       "(array([0.01516697, 0.05967768, 0.06901778, 0.05430783, 0.03180969,\n",
       "        0.01603338, 0.00736926, 0.00236121, 0.0005427 , 0.00012377]),\n",
       " array([21. , 24.9, 28.8, 32.7, 36.6, 40.5, 44.4, 48.3, 52.2, 56.1, 60. ]),\n",
       " <BarContainer object of 10 artists>)"
      ]
     },
     "execution_count": 19,
     "metadata": {},
     "output_type": "execute_result"
    },
    {
     "data": {
      "image/png": "[encoded data removed]",
      "text/plain": [
       "<Figure size 432x288 with 1 Axes>"
      ]
     },
     "metadata": {
      "image/png": {
       "height": 248,
       "width": 378
      },
      "needs_background": "light"
     },
     "output_type": "display_data"
    }
   ],
   "source": [
    "plt.hist(df[\"mos_age_incident\"], density = True)"
   ]
  },
  {
   "cell_type": "code",
   "execution_count": 20,
   "id": "a3c956c3-7aad-4e1d-80e0-ff8a5249e519",
   "metadata": {},
   "outputs": [],
   "source": [
    "parameters = {\n",
    "    'max_depth': [2,3,4,5,7,10,13,15,18,None], \n",
    "    'min_samples_split':[2,3,5,7,10,15,20],\n",
    "    'min_samples_leaf':[2,3,5,7,10,15,20]\n",
    "}"
   ]
  },
  {
   "cell_type": "code",
   "execution_count": 21,
   "id": "67669d67-4473-4e8b-b52f-ffc11d09a5b9",
   "metadata": {},
   "outputs": [],
   "source": [
    "features = ColumnTransformer(transformers = [(\"one_hot_code\", OneHotEncoder(handle_unknown = 'ignore'), [\"complainant_gender\", \"complainant_ethnicity\", \"mos_gender\", \"mos_ethnicity\"]), \n",
    "                                             (\"q_trans_comp\", QuantileTransformer(n_quantiles = 6), [\"complainant_age_incident\"]),\n",
    "                                             (\"q_trans_mos\", QuantileTransformer(n_quantiles = 7), [\"mos_age_incident\"]),\n",
    "                                             (\"rob_comp\", RobustScaler(), [\"complainant_age_incident\", \"mos_age_incident\"]),\n",
    "                                             (\"age_standardize\", StandardScaler(), [\"mos_age_incident\", \"complainant_age_incident\"])],\n",
    "                             remainder = \"passthrough\")"
   ]
  },
  {
   "cell_type": "code",
   "execution_count": 22,
   "id": "5e3116ad-8676-40a7-8aa5-ebeebe27ad1b",
   "metadata": {},
   "outputs": [
    {
     "data": {
      "text/plain": [
       "GridSearchCV(cv=5, error_score=nan,\n",
       "             estimator=DecisionTreeClassifier(ccp_alpha=0.0, class_weight=None,\n",
       "                                              criterion='gini', max_depth=None,\n",
       "                                              max_features=None,\n",
       "                                              max_leaf_nodes=None,\n",
       "                                              min_impurity_decrease=0.0,\n",
       "                                              min_impurity_split=None,\n",
       "                                              min_samples_leaf=1,\n",
       "                                              min_samples_split=2,\n",
       "                                              min_weight_fraction_leaf=0.0,\n",
       "                                              presort='deprecated',\n",
       "                                              random_state=None,\n",
       "                                              splitter='best'),\n",
       "             iid='deprecated', n_jobs=None,\n",
       "             param_grid={'max_depth': [2, 3, 4, 5, 7, 10, 13, 15, 18, None],\n",
       "                         'min_samples_leaf': [2, 3, 5, 7, 10, 15, 20],\n",
       "                         'min_samples_split': [2, 3, 5, 7, 10, 15, 20]},\n",
       "             pre_dispatch='2*n_jobs', refit=True, return_train_score=False,\n",
       "             scoring=None, verbose=0)"
      ]
     },
     "execution_count": 22,
     "metadata": {},
     "output_type": "execute_result"
    }
   ],
   "source": [
    "final_model = GridSearchCV(DecisionTreeClassifier(), parameters, cv = 5)\n",
    "final_model.fit(features.fit_transform(X_train), y_train)"
   ]
  },
  {
   "cell_type": "code",
   "execution_count": 23,
   "id": "12c0e642-a51a-494f-ab2f-f397b5d6da56",
   "metadata": {},
   "outputs": [
    {
     "data": {
      "text/plain": [
       "{'max_depth': 5, 'min_samples_leaf': 3, 'min_samples_split': 2}"
      ]
     },
     "execution_count": 23,
     "metadata": {},
     "output_type": "execute_result"
    }
   ],
   "source": [
    "best_params = final_model.best_params_\n",
    "best_params"
   ]
  },
  {
   "cell_type": "code",
   "execution_count": 24,
   "id": "5808ba82-746d-4977-b979-7c9d6eb292d5",
   "metadata": {},
   "outputs": [],
   "source": [
    "def final_pipeline(temp):\n",
    "    features = ColumnTransformer(transformers = [(\"one_hot_code\", OneHotEncoder(handle_unknown = 'ignore'), [\"complainant_gender\", \"complainant_ethnicity\", \"mos_gender\", \"mos_ethnicity\"]), \n",
    "                                             (\"q_trans_comp\", QuantileTransformer(n_quantiles = 6), [\"complainant_age_incident\"]),\n",
    "                                             (\"q_trans_mos\", QuantileTransformer(n_quantiles = 7), [\"mos_age_incident\"]),\n",
    "                                             (\"rob_comp\", RobustScaler(), [\"complainant_age_incident\", \"mos_age_incident\"]),\n",
    "                                             (\"age_standardize\", StandardScaler(), [\"mos_age_incident\", \"complainant_age_incident\"])],\n",
    "                             remainder = \"passthrough\")\n",
    "    ppln = Pipeline([(\"Preprocess\", features), (\"DecisionTreeClassifier\", DecisionTreeClassifier(max_depth = best_params[\"max_depth\"], min_samples_leaf = best_params[\"min_samples_leaf\"], min_samples_split = best_params[\"min_samples_split\"]))])\n",
    "    #ppln = Pipeline([(\"Preprocess\", features), (\"RandomForestClassifier\", RandomForestClassifier(max_depth = best_params[\"max_depth\"], min_samples_leaf = best_params[\"min_samples_leaf\"], min_samples_split = best_params[\"min_samples_split\"]))])\n",
    "    return ppln"
   ]
  },
  {
   "cell_type": "code",
   "execution_count": 25,
   "id": "b6be5b66-e48b-4b3a-9c9c-57aad9079f46",
   "metadata": {},
   "outputs": [],
   "source": [
    "final_mdl = data.copy()\n",
    "fl_ppln = final_pipeline(final_mdl)"
   ]
  },
  {
   "cell_type": "code",
   "execution_count": 26,
   "id": "d1dc1dd0-5693-44a0-9ff9-4009a13c91b7",
   "metadata": {},
   "outputs": [
    {
     "data": {
      "text/plain": [
       "Pipeline(memory=None,\n",
       "         steps=[('Preprocess',\n",
       "                 ColumnTransformer(n_jobs=None, remainder='passthrough',\n",
       "                                   sparse_threshold=0.3,\n",
       "                                   transformer_weights=None,\n",
       "                                   transformers=[('one_hot_code',\n",
       "                                                  OneHotEncoder(categories='auto',\n",
       "                                                                drop=None,\n",
       "                                                                dtype=<class 'numpy.float64'>,\n",
       "                                                                handle_unknown='ignore',\n",
       "                                                                sparse=True),\n",
       "                                                  ['complainant_gender',\n",
       "                                                   'complainant_ethnicity',\n",
       "                                                   'mos_gender',\n",
       "                                                   'mos_ethnic...\n",
       "                                   verbose=False)),\n",
       "                ('DecisionTreeClassifier',\n",
       "                 DecisionTreeClassifier(ccp_alpha=0.0, class_weight=None,\n",
       "                                        criterion='gini', max_depth=5,\n",
       "                                        max_features=None, max_leaf_nodes=None,\n",
       "                                        min_impurity_decrease=0.0,\n",
       "                                        min_impurity_split=None,\n",
       "                                        min_samples_leaf=3, min_samples_split=2,\n",
       "                                        min_weight_fraction_leaf=0.0,\n",
       "                                        presort='deprecated', random_state=None,\n",
       "                                        splitter='best'))],\n",
       "         verbose=False)"
      ]
     },
     "execution_count": 26,
     "metadata": {},
     "output_type": "execute_result"
    }
   ],
   "source": [
    "fl_ppln.fit(X_train, y_train)"
   ]
  },
  {
   "cell_type": "code",
   "execution_count": 27,
   "id": "95c63dfd-556b-476f-97c4-2832b39f2854",
   "metadata": {},
   "outputs": [
    {
     "data": {
      "text/plain": [
       "0.7570420667338603"
      ]
     },
     "execution_count": 27,
     "metadata": {},
     "output_type": "execute_result"
    }
   ],
   "source": [
    "fl_ppln.score(X_train, y_train)"
   ]
  },
  {
   "cell_type": "code",
   "execution_count": 28,
   "id": "31a239ac-829f-43a0-a62f-c5f46b437fdb",
   "metadata": {},
   "outputs": [
    {
     "data": {
      "text/plain": [
       "0.7518564356435643"
      ]
     },
     "execution_count": 28,
     "metadata": {},
     "output_type": "execute_result"
    }
   ],
   "source": [
    "fl_ppln.score(X_test, y_test)"
   ]
  },
  {
   "cell_type": "markdown",
   "id": "752a6db4-0fc6-48fa-bbfc-19c78d55f626",
   "metadata": {},
   "source": [
    "### Fairness Evaluation"
   ]
  },
  {
   "cell_type": "code",
   "execution_count": 57,
   "id": "add3197a-e512-4afe-a1a4-52f4ff9115cd",
   "metadata": {},
   "outputs": [],
   "source": [
    "caller[\"board_disposition\"] = caller[\"board_disposition\"].replace({\"Guilty\": 1, \"Not Guilty\": 0})\n",
    "\n",
    "fe_X = caller.drop(\"board_disposition\", axis = 1)\n",
    "fe_y = caller.board_disposition\n",
    "fe_X_train, fe_X_test, fe_y_train, fe_y_test = train_test_split(fe_X, fe_y, test_size = 0.3, random_state = 12)"
   ]
  },
  {
   "cell_type": "code",
   "execution_count": 58,
   "id": "fe1f4b04-83f3-4d2c-97d5-6b995d2d6726",
   "metadata": {},
   "outputs": [],
   "source": [
    "fe = caller[(caller[\"complainant_gender\"] == \"Male\") | (caller[\"complainant_gender\"] == \"Female\")]"
   ]
  },
  {
   "cell_type": "code",
   "execution_count": 31,
   "id": "45778236-b3ea-453d-bb74-392e5f0852c8",
   "metadata": {},
   "outputs": [],
   "source": [
    "ppln = final_pipeline(fe)\n",
    "ppln.fit(fe_X_train, fe_y_train)\n",
    "preds = ppln.predict(fe_X_test)"
   ]
  },
  {
   "cell_type": "code",
   "execution_count": 32,
   "id": "b7d00c8c-93f2-49c7-abb4-ce51f8cd7538",
   "metadata": {},
   "outputs": [
    {
     "data": {
      "text/plain": [
       "array([[0.75049505, 0.00420792],\n",
       "       [0.24306931, 0.00222772]])"
      ]
     },
     "execution_count": 32,
     "metadata": {},
     "output_type": "execute_result"
    }
   ],
   "source": [
    "metrics.confusion_matrix(fe_y_test, preds) / len(preds)"
   ]
  },
  {
   "cell_type": "code",
   "execution_count": 33,
   "id": "67fdfafe-bdbb-4134-ae4a-0e1484d629d4",
   "metadata": {},
   "outputs": [
    {
     "data": {
      "text/plain": [
       "0.009081735620585268"
      ]
     },
     "execution_count": 33,
     "metadata": {},
     "output_type": "execute_result"
    }
   ],
   "source": [
    "metrics.recall_score(fe_y_test, preds)"
   ]
  },
  {
   "cell_type": "code",
   "execution_count": 34,
   "id": "7ed61b2c-135c-4968-88b4-b2f24afe2a2f",
   "metadata": {},
   "outputs": [
    {
     "data": {
      "text/plain": [
       "0.9944244014430961"
      ]
     },
     "execution_count": 34,
     "metadata": {},
     "output_type": "execute_result"
    }
   ],
   "source": [
    "metrics.recall_score(fe_y_test, preds, pos_label = 0)"
   ]
  },
  {
   "cell_type": "code",
   "execution_count": 35,
   "id": "803f855a-276b-4ce3-a2b9-e5f62f314747",
   "metadata": {},
   "outputs": [
    {
     "name": "stderr",
     "output_type": "stream",
     "text": [
      "/var/folders/s1/y8hjc_rd18g3zw5xh5l4_y8r0000gn/T/ipykernel_57433/3193219341.py:2: SettingWithCopyWarning: \n",
      "A value is trying to be set on a copy of a slice from a DataFrame.\n",
      "Try using .loc[row_indexer,col_indexer] = value instead\n",
      "\n",
      "See the caveats in the documentation: https://pandas.pydata.org/pandas-docs/stable/user_guide/indexing.html#returning-a-view-versus-a-copy\n",
      "  results[\"prediction\"] = preds\n",
      "/var/folders/s1/y8hjc_rd18g3zw5xh5l4_y8r0000gn/T/ipykernel_57433/3193219341.py:3: SettingWithCopyWarning: \n",
      "A value is trying to be set on a copy of a slice from a DataFrame.\n",
      "Try using .loc[row_indexer,col_indexer] = value instead\n",
      "\n",
      "See the caveats in the documentation: https://pandas.pydata.org/pandas-docs/stable/user_guide/indexing.html#returning-a-view-versus-a-copy\n",
      "  results[\"tag\"] = fe_y_test\n"
     ]
    }
   ],
   "source": [
    "results = fe_X_test\n",
    "results[\"prediction\"] = preds\n",
    "results[\"tag\"] = fe_y_test"
   ]
  },
  {
   "cell_type": "markdown",
   "id": "9be6635c-39f8-44d2-9dd4-653dada062c3",
   "metadata": {},
   "source": [
    "**Null Hypothesis**: My model is fair, and the accuracy for my two subsets are roughly the same.\\\n",
    "**Alternative Hypothesis**: My model is unfair, and the accuracy for the female subset is higher than the male subset. "
   ]
  },
  {
   "cell_type": "code",
   "execution_count": 36,
   "id": "63183973-a10a-4778-a4a2-efa0a75301cb",
   "metadata": {},
   "outputs": [
    {
     "data": {
      "text/plain": [
       "complainant_gender\n",
       "Female              0.797980\n",
       "Male                0.743118\n",
       "Transman (FTM)      0.000000\n",
       "Transwoman (MTF)    1.000000\n",
       "dtype: float64"
      ]
     },
     "execution_count": 36,
     "metadata": {},
     "output_type": "execute_result"
    }
   ],
   "source": [
    "accuracies = results.groupby(\"complainant_gender\").apply(lambda x: metrics.accuracy_score(x.tag, x.prediction))\n",
    "accuracies"
   ]
  },
  {
   "cell_type": "code",
   "execution_count": 37,
   "id": "4e4d6b00-7d49-4c0d-8749-764ea66138a0",
   "metadata": {},
   "outputs": [
    {
     "data": {
      "text/plain": [
       "0.05486190450283812"
      ]
     },
     "execution_count": 37,
     "metadata": {},
     "output_type": "execute_result"
    }
   ],
   "source": [
    "obs_diff = abs(accuracies.loc[\"Female\"] - accuracies.loc[\"Male\"])\n",
    "obs_diff"
   ]
  },
  {
   "cell_type": "code",
   "execution_count": 38,
   "id": "8219a3dd-3856-47e4-af25-a7cc12a22bb6",
   "metadata": {},
   "outputs": [],
   "source": [
    "metrs = list()\n",
    "for _ in range(1000):\n",
    "    s = (\n",
    "        results[[\"complainant_gender\", \"prediction\", \"tag\"]]\n",
    "        .assign(complainant_gender = results.complainant_gender.sample(frac = 1.0, replace = False).reset_index(drop = True))\n",
    "        .groupby(\"complainant_gender\")\n",
    "        .apply(lambda x: metrics.accuracy_score(x.tag, x.prediction))\n",
    "        .diff()\n",
    "        .iloc[-1]\n",
    "    )\n",
    "    \n",
    "    metrs.append(s)"
   ]
  },
  {
   "cell_type": "code",
   "execution_count": 62,
   "id": "03bfe6a7-e178-4684-90ac-a7655ae4fc27",
   "metadata": {},
   "outputs": [
    {
     "data": {
      "text/plain": [
       "0.596"
      ]
     },
     "execution_count": 62,
     "metadata": {},
     "output_type": "execute_result"
    }
   ],
   "source": [
    "p_val = (pd.Series(metrs <= obs_diff)).mean()\n",
    "p_val"
   ]
  },
  {
   "cell_type": "code",
   "execution_count": 63,
   "id": "5b49a5e9-535e-4995-ac11-53ab917f628d",
   "metadata": {},
   "outputs": [
    {
     "data": {
      "text/plain": [
       "Text(0.5, 1.0, 'Permutation Test for Board Disposition across Male/Female Complainants')"
      ]
     },
     "execution_count": 63,
     "metadata": {},
     "output_type": "execute_result"
    },
    {
     "data": {
      "image/png": "[encoded data removed]",
      "text/plain": [
       "<Figure size 432x288 with 1 Axes>"
      ]
     },
     "metadata": {
      "image/png": {
       "height": 263,
       "width": 453
      },
      "needs_background": "light"
     },
     "output_type": "display_data"
    }
   ],
   "source": [
    "plt.hist(metrs, density = True)\n",
    "plt.axvline(x = p_val, color = \"pink\")\n",
    "plt.title(\"Permutation Test for Board Disposition across Male/Female Complainants\")"
   ]
  },
  {
   "cell_type": "code",
   "execution_count": null,
   "id": "163d1811-1389-46a3-8960-d30cf48a89f8",
   "metadata": {},
   "outputs": [],
   "source": []
  }
 ],
 "metadata": {
  "kernelspec": {
   "display_name": "Python 3 (ipykernel)",
   "language": "python",
   "name": "python3"
  },
  "language_info": {
   "codemirror_mode": {
    "name": "ipython",
    "version": 3
   },
   "file_extension": ".py",
   "mimetype": "text/x-python",
   "name": "python",
   "nbconvert_exporter": "python",
   "pygments_lexer": "ipython3",
   "version": "3.9.8"
  }
 },
 "nbformat": 4,
 "nbformat_minor": 5
}
