{
 "cells": [
  {
   "cell_type": "code",
   "execution_count": 473,
   "metadata": {
    "deletable": false,
    "editable": false
   },
   "outputs": [],
   "source": [
    "# Initialize Otter\n",
    "import otter\n",
    "grader = otter.Notebook(\"project.ipynb\")"
   ]
  },
  {
   "cell_type": "markdown",
   "metadata": {},
   "source": [
    "# Project 02 – COVID Vaccinations\n",
    "\n",
    "## DSC 80, Fall 2021\n",
    "\n",
    "### Checkpoint Due Date: Thursday, October 21\n",
    "### Due Date: Thursday, October 28"
   ]
  },
  {
   "cell_type": "markdown",
   "metadata": {},
   "source": [
    "---\n",
    "# Instructions\n",
    "\n",
    "This Jupyter Notebook contains the statements of the problems and provides code and markdown cells to display your answers to the problems.  \n",
    "* Like the lab, your coding work will be developed in the accompanying `project.py` file, that will be imported into the current notebook. This code will be autograded.\n",
    "* **For the checkpoint, you only need to turn in a `project.py` containing solutions for questions 1-4**\n",
    "    - The checkpoint autograder on Gradescope does not thoroughly check your code -- it only runs the doctests on problems 1-5 to make sure that you have completed them. When you submit the final version of the project, we will use more tests to check these answers more thoroughly.\n",
    "\n",
    "**Do not change the function names in the `*.py` file**\n",
    "- The functions in the `*.py` file are how your assignment is graded, and they are graded by their name.\n",
    "- If you changed something you weren't supposed to, just use git to revert!\n",
    "\n",
    "**Tips for developing in the .py file**:\n",
    "- Do not change the function names in the starter code; grading is done using these function names.\n",
    "- Do not change the docstrings in the functions. These are there to tell you if your work is on the right track!\n",
    "- You are **encouraged to write your own additional functions** to solve the questions! \n",
    "    - Developing in python usually consists of larger files, with many short functions.\n",
    "    - You may write your other functions in an additional `.py` file that you import in `project.py` -- however, be sure to upload these to gradescope as well!\n",
    "- Always document your code!\n",
    "\n",
    "**Tips for testing the correctness of your answers!**\n",
    "Once you have your work saved in the .py file, you should import the `project` to test your function out in the notebook. In the notebook you should inspect/analyze the output to assess its correctness! You should also run the doctests on the command line, and submit a version of your project to the Gradescope autograder well in advanced of the deadline to ensure that there are no unexpected bugs in your code or your computing environment.\n",
    "\n",
    "**Checkpoint Instructions**\n",
    "\n",
    "* The checkpoint requires you to turn in **questions 1, 2, 6, 8, and 10**; the reason for skipping around the project is that it has two distinct parts, and you should start on each part by the time the checkpoint is due.\n",
    "* Note that the checkpoint questions are less than half of the total project (and some of them are easier than the average project question), so budget your time appropriately for completing the rest of the project.\n",
    "* The checkpoint will be graded for *approximate* correctness, meaning that the final tests for the checkpoint questions may be more strict/difficult to pass.\n",
    "\n",
    "## Warning!\n",
    "\n",
    "This project contains larger data sets than usual. They aren't huge, but they aren't tiny. The autograder has been set to allow more memory usage than usual, but if you write inefficient code you may exhaust all of the allocated memory, causing the autograder to fail. If this happens, the autograder will say that your submission was formatted incorrectly.\n",
    "\n",
    "**Writing efficient code is part of the project!** Be sure to submit your code to the Gradescope autograder regularly to check that it is efficient enough. If your code fails to run on the autograder due to efficiency reasons and it is past the late deadline, we will perform a \"catastrophic regrade\" by removing your inefficient code (deleting that function definition) and charging the usual cost of two slip days. This is expensive, so be sure to check that your code works with the autograder with plenty of time before the deadline!"
   ]
  },
  {
   "cell_type": "code",
   "execution_count": 474,
   "metadata": {},
   "outputs": [
    {
     "name": "stdout",
     "output_type": "stream",
     "text": [
      "The autoreload extension is already loaded. To reload it, use:\n",
      "  %reload_ext autoreload\n"
     ]
    }
   ],
   "source": [
    "%load_ext autoreload\n",
    "%autoreload 2"
   ]
  },
  {
   "cell_type": "code",
   "execution_count": 475,
   "metadata": {},
   "outputs": [],
   "source": [
    "import numpy as np\n",
    "import pandas as pd\n",
    "import pathlib\n",
    "import urllib.request"
   ]
  },
  {
   "cell_type": "code",
   "execution_count": 476,
   "metadata": {},
   "outputs": [],
   "source": [
    "from project import *"
   ]
  },
  {
   "cell_type": "markdown",
   "metadata": {},
   "source": [
    "## About the Assignment\n",
    "\n",
    "Data science has been an important tool in understanding the development of the COVID-19 pandemic. In this project, we'll take a took at two real-world datasets that measure vaccination rates and effectiveness. Recent news has suggested that the Pfizer vaccine is only about 60% effective against the Delta variant -- towards the end of the project, we'll look at this statistic critically to see if it might be misleading.\n",
    "\n",
    "To start, let's gather a data set of vaccination rates from around the world. The following cell will download a CSV from the internet and store it on your machine."
   ]
  },
  {
   "cell_type": "code",
   "execution_count": 477,
   "metadata": {},
   "outputs": [],
   "source": [
    "# download global covid vaccinations data from the ☁️\n",
    "if not pathlib.Path('./data/covid-vaccinations.csv').exists():\n",
    "    urllib.request.urlretrieve(\n",
    "        'https://f000.backblazeb2.com/file/dsc-data/covid-vaccinations/covid-vaccinations.csv',\n",
    "        './data/covid-vaccinations.csv'\n",
    "    )"
   ]
  },
  {
   "cell_type": "markdown",
   "metadata": {},
   "source": [
    "The file `data/covid_vaccine_global.csv` contains information on the number of covid vaccinations that have been administered in various countries and regions of the world:"
   ]
  },
  {
   "cell_type": "code",
   "execution_count": 478,
   "metadata": {},
   "outputs": [
    {
     "data": {
      "text/html": [
       "<div>\n",
       "<style scoped>\n",
       "    .dataframe tbody tr th:only-of-type {\n",
       "        vertical-align: middle;\n",
       "    }\n",
       "\n",
       "    .dataframe tbody tr th {\n",
       "        vertical-align: top;\n",
       "    }\n",
       "\n",
       "    .dataframe thead th {\n",
       "        text-align: right;\n",
       "    }\n",
       "</style>\n",
       "<table border=\"1\" class=\"dataframe\">\n",
       "  <thead>\n",
       "    <tr style=\"text-align: right;\">\n",
       "      <th></th>\n",
       "      <th>Country_Region</th>\n",
       "      <th>Date</th>\n",
       "      <th>Doses_admin</th>\n",
       "      <th>People_partially_vaccinated</th>\n",
       "      <th>People_fully_vaccinated</th>\n",
       "      <th>Report_Date_String</th>\n",
       "      <th>UID</th>\n",
       "      <th>Province_State</th>\n",
       "    </tr>\n",
       "  </thead>\n",
       "  <tbody>\n",
       "    <tr>\n",
       "      <th>0</th>\n",
       "      <td>Afghanistan</td>\n",
       "      <td>2021-02-22</td>\n",
       "      <td>0</td>\n",
       "      <td>0.000000e+00</td>\n",
       "      <td>0.000000e+00</td>\n",
       "      <td>2021-02-22</td>\n",
       "      <td>4.0</td>\n",
       "      <td>NaN</td>\n",
       "    </tr>\n",
       "    <tr>\n",
       "      <th>1</th>\n",
       "      <td>Afghanistan</td>\n",
       "      <td>2021-02-23</td>\n",
       "      <td>0</td>\n",
       "      <td>0.000000e+00</td>\n",
       "      <td>0.000000e+00</td>\n",
       "      <td>2021-02-23</td>\n",
       "      <td>4.0</td>\n",
       "      <td>NaN</td>\n",
       "    </tr>\n",
       "    <tr>\n",
       "      <th>2</th>\n",
       "      <td>Afghanistan</td>\n",
       "      <td>2021-02-24</td>\n",
       "      <td>0</td>\n",
       "      <td>0.000000e+00</td>\n",
       "      <td>0.000000e+00</td>\n",
       "      <td>2021-02-24</td>\n",
       "      <td>4.0</td>\n",
       "      <td>NaN</td>\n",
       "    </tr>\n",
       "    <tr>\n",
       "      <th>3</th>\n",
       "      <td>Afghanistan</td>\n",
       "      <td>2021-02-25</td>\n",
       "      <td>0</td>\n",
       "      <td>0.000000e+00</td>\n",
       "      <td>0.000000e+00</td>\n",
       "      <td>2021-02-25</td>\n",
       "      <td>4.0</td>\n",
       "      <td>NaN</td>\n",
       "    </tr>\n",
       "    <tr>\n",
       "      <th>4</th>\n",
       "      <td>Afghanistan</td>\n",
       "      <td>2021-02-26</td>\n",
       "      <td>0</td>\n",
       "      <td>0.000000e+00</td>\n",
       "      <td>0.000000e+00</td>\n",
       "      <td>2021-02-26</td>\n",
       "      <td>4.0</td>\n",
       "      <td>NaN</td>\n",
       "    </tr>\n",
       "    <tr>\n",
       "      <th>...</th>\n",
       "      <td>...</td>\n",
       "      <td>...</td>\n",
       "      <td>...</td>\n",
       "      <td>...</td>\n",
       "      <td>...</td>\n",
       "      <td>...</td>\n",
       "      <td>...</td>\n",
       "      <td>...</td>\n",
       "    </tr>\n",
       "    <tr>\n",
       "      <th>84265</th>\n",
       "      <td>Venezuela</td>\n",
       "      <td>2021-10-06</td>\n",
       "      <td>15714857</td>\n",
       "      <td>9.731808e+06</td>\n",
       "      <td>5.983049e+06</td>\n",
       "      <td>2021-10-07</td>\n",
       "      <td>862.0</td>\n",
       "      <td>NaN</td>\n",
       "    </tr>\n",
       "    <tr>\n",
       "      <th>84266</th>\n",
       "      <td>Vietnam</td>\n",
       "      <td>2021-10-06</td>\n",
       "      <td>48155037</td>\n",
       "      <td>3.593336e+07</td>\n",
       "      <td>1.222168e+07</td>\n",
       "      <td>2021-10-07</td>\n",
       "      <td>704.0</td>\n",
       "      <td>NaN</td>\n",
       "    </tr>\n",
       "    <tr>\n",
       "      <th>84267</th>\n",
       "      <td>World</td>\n",
       "      <td>2021-10-06</td>\n",
       "      <td>6379528398</td>\n",
       "      <td>3.567170e+09</td>\n",
       "      <td>2.674775e+09</td>\n",
       "      <td>2021-10-07</td>\n",
       "      <td>NaN</td>\n",
       "      <td>NaN</td>\n",
       "    </tr>\n",
       "    <tr>\n",
       "      <th>84268</th>\n",
       "      <td>Zambia</td>\n",
       "      <td>2021-10-06</td>\n",
       "      <td>772322</td>\n",
       "      <td>3.110490e+05</td>\n",
       "      <td>4.263930e+05</td>\n",
       "      <td>2021-10-07</td>\n",
       "      <td>894.0</td>\n",
       "      <td>NaN</td>\n",
       "    </tr>\n",
       "    <tr>\n",
       "      <th>84269</th>\n",
       "      <td>Zimbabwe</td>\n",
       "      <td>2021-10-06</td>\n",
       "      <td>5499530</td>\n",
       "      <td>3.140386e+06</td>\n",
       "      <td>2.359144e+06</td>\n",
       "      <td>2021-10-07</td>\n",
       "      <td>716.0</td>\n",
       "      <td>NaN</td>\n",
       "    </tr>\n",
       "  </tbody>\n",
       "</table>\n",
       "<p>84270 rows × 8 columns</p>\n",
       "</div>"
      ],
      "text/plain": [
       "      Country_Region        Date  Doses_admin  People_partially_vaccinated  \\\n",
       "0        Afghanistan  2021-02-22            0                 0.000000e+00   \n",
       "1        Afghanistan  2021-02-23            0                 0.000000e+00   \n",
       "2        Afghanistan  2021-02-24            0                 0.000000e+00   \n",
       "3        Afghanistan  2021-02-25            0                 0.000000e+00   \n",
       "4        Afghanistan  2021-02-26            0                 0.000000e+00   \n",
       "...              ...         ...          ...                          ...   \n",
       "84265      Venezuela  2021-10-06     15714857                 9.731808e+06   \n",
       "84266        Vietnam  2021-10-06     48155037                 3.593336e+07   \n",
       "84267          World  2021-10-06   6379528398                 3.567170e+09   \n",
       "84268         Zambia  2021-10-06       772322                 3.110490e+05   \n",
       "84269       Zimbabwe  2021-10-06      5499530                 3.140386e+06   \n",
       "\n",
       "       People_fully_vaccinated Report_Date_String    UID Province_State  \n",
       "0                 0.000000e+00         2021-02-22    4.0            NaN  \n",
       "1                 0.000000e+00         2021-02-23    4.0            NaN  \n",
       "2                 0.000000e+00         2021-02-24    4.0            NaN  \n",
       "3                 0.000000e+00         2021-02-25    4.0            NaN  \n",
       "4                 0.000000e+00         2021-02-26    4.0            NaN  \n",
       "...                        ...                ...    ...            ...  \n",
       "84265             5.983049e+06         2021-10-07  862.0            NaN  \n",
       "84266             1.222168e+07         2021-10-07  704.0            NaN  \n",
       "84267             2.674775e+09         2021-10-07    NaN            NaN  \n",
       "84268             4.263930e+05         2021-10-07  894.0            NaN  \n",
       "84269             2.359144e+06         2021-10-07  716.0            NaN  \n",
       "\n",
       "[84270 rows x 8 columns]"
      ]
     },
     "execution_count": 478,
     "metadata": {},
     "output_type": "execute_result"
    }
   ],
   "source": [
    "vacs = pd.read_csv('data/covid-vaccinations.csv')\n",
    "vacs"
   ]
  },
  {
   "cell_type": "markdown",
   "metadata": {},
   "source": [
    "One of the basic questions we might hope to answer with this data is: Which countries have the highest rate of vaccination? Unfortunately, the messiness of real-world data means that answering even this simple question requires a bit of cleaning and organization. We'll do this cleaning and organization in the next few questions.\n",
    "\n",
    "First, we need to find the total number of vaccinated individuals in each country/region. To do this, we have to understand what the values in the `Doses_admin` column mean. Are they the number of doses administered on *that day*? Or are they the *cumulative* number of doses administered? This can be answered with a plot."
   ]
  },
  {
   "cell_type": "code",
   "execution_count": 479,
   "metadata": {},
   "outputs": [
    {
     "data": {
      "text/plain": [
       "<AxesSubplot:xlabel='Date'>"
      ]
     },
     "execution_count": 479,
     "metadata": {},
     "output_type": "execute_result"
    },
    {
     "data": {
      "image/png": "[encoded data removed]",
      "text/plain": [
       "<Figure size 432x288 with 1 Axes>"
      ]
     },
     "metadata": {
      "needs_background": "light"
     },
     "output_type": "display_data"
    }
   ],
   "source": [
    "vacs[vacs['Country_Region'] == 'US'].plot(x='Date', y='Doses_admin')"
   ]
  },
  {
   "cell_type": "markdown",
   "metadata": {},
   "source": [
    "Since the curve is always increasing, this plot suggests that the `Doses_admin` column contains the *cumulative* number of doses administered, and this is indeed what the column is *supposed* to be. However, you shouldn't *assume* that the reported vaccination rates are actually cumulative. For example, let's look at the plot for Afghanistan:"
   ]
  },
  {
   "cell_type": "code",
   "execution_count": 480,
   "metadata": {},
   "outputs": [
    {
     "data": {
      "text/plain": [
       "<AxesSubplot:xlabel='Date'>"
      ]
     },
     "execution_count": 480,
     "metadata": {},
     "output_type": "execute_result"
    },
    {
     "data": {
      "image/png": "[encoded data removed]",
      "text/plain": [
       "<Figure size 432x288 with 1 Axes>"
      ]
     },
     "metadata": {
      "needs_background": "light"
     },
     "output_type": "display_data"
    }
   ],
   "source": [
    "vacs[vacs['Country_Region'] == 'Afghanistan'].plot(x='Date', y='Doses_admin')"
   ]
  },
  {
   "cell_type": "markdown",
   "metadata": {},
   "source": [
    "Notice the dip in late August? Unless there were *negative* doses administered (which would be awkward), we must concluded that the data is messy -- there will be instances where, either due to errors in reporting or in recording, the cumulative number of doses actually *decreases* from one day to the next."
   ]
  },
  {
   "cell_type": "markdown",
   "metadata": {},
   "source": [
    "**Question 1.** *(Checkpoint Question)* Is this kind of messiness common? First, write a function named `is_monotonic` which accepts a 1-d numpy array and returns `True` if every entry in the array (except the first) is greater than or equal to the previous entry, and `False` otherwise.\n",
    "\n",
    "*Hint*: There's a numpy function for computing the difference between consecutive elements of an array.\n",
    "\n",
    "Next, create a function named `monotonic_by_country` which accepts a dataframe like `vacs` and returns a dataframe with one row for each country/region and three bool columns -- `Doses_admin_monotonic`, `People_partially_vaccinated_monotonic`, and `People_fully_vaccinated_monotonic`. An entry in the `Doses_admin` column should be `True` if the country's `Doses_admin` is monotonically increasing and `False` otherwise; likewise for the other columns. The index of the returned dataframe should contain country names.\n",
    "\n",
    "*Hint* No looping is allowed, but `.groupby` is your friend. Can you use the `is_monotonic` function?"
   ]
  },
  {
   "cell_type": "code",
   "execution_count": 481,
   "metadata": {
    "tags": []
   },
   "outputs": [],
   "source": [
    "def is_monotonic(pda):\n",
    "    return np.all(np.diff(pda) >= 0)\n",
    "\n",
    "#is_monotonic(np.asarray([1,2,3,4,4,5,6,7,8]))"
   ]
  },
  {
   "cell_type": "code",
   "execution_count": 482,
   "metadata": {
    "tags": []
   },
   "outputs": [],
   "source": [
    "def monotonic_by_country(vacs):\n",
    "    sol = pd.DataFrame()\n",
    "    sol = sol.assign(Doses_admin_monotonic = pd.Series(vacs.groupby(\"Country_Region\")[\"Doses_admin\"].apply(is_monotonic).values))\n",
    "    sol = sol.assign(People_partially_vaccinated_monotonic = pd.Series(vacs.groupby(\"Country_Region\")[\"People_partially_vaccinated\"].apply(is_monotonic).values))\n",
    "    sol = sol.assign(People_fully_vaccinated_monotonic = pd.Series(vacs.groupby(\"Country_Region\")[\"People_fully_vaccinated\"].apply(is_monotonic).values))\n",
    "    sol = sol.assign(Country_Region = pd.Series(np.unique(vacs[\"Country_Region\"])))\n",
    "    sol = sol.set_index(\"Country_Region\")\n",
    "    return sol\n",
    "    \n",
    "#monotonic_by_country(vacs)"
   ]
  },
  {
   "cell_type": "code",
   "execution_count": 483,
   "metadata": {},
   "outputs": [
    {
     "data": {
      "text/html": [
       "<div>\n",
       "<style scoped>\n",
       "    .dataframe tbody tr th:only-of-type {\n",
       "        vertical-align: middle;\n",
       "    }\n",
       "\n",
       "    .dataframe tbody tr th {\n",
       "        vertical-align: top;\n",
       "    }\n",
       "\n",
       "    .dataframe thead th {\n",
       "        text-align: right;\n",
       "    }\n",
       "</style>\n",
       "<table border=\"1\" class=\"dataframe\">\n",
       "  <thead>\n",
       "    <tr style=\"text-align: right;\">\n",
       "      <th></th>\n",
       "      <th>Doses_admin_monotonic</th>\n",
       "      <th>People_partially_vaccinated_monotonic</th>\n",
       "      <th>People_fully_vaccinated_monotonic</th>\n",
       "    </tr>\n",
       "    <tr>\n",
       "      <th>Country_Region</th>\n",
       "      <th></th>\n",
       "      <th></th>\n",
       "      <th></th>\n",
       "    </tr>\n",
       "  </thead>\n",
       "  <tbody>\n",
       "    <tr>\n",
       "      <th>Afghanistan</th>\n",
       "      <td>False</td>\n",
       "      <td>False</td>\n",
       "      <td>True</td>\n",
       "    </tr>\n",
       "    <tr>\n",
       "      <th>Albania</th>\n",
       "      <td>True</td>\n",
       "      <td>True</td>\n",
       "      <td>True</td>\n",
       "    </tr>\n",
       "    <tr>\n",
       "      <th>Algeria</th>\n",
       "      <td>False</td>\n",
       "      <td>False</td>\n",
       "      <td>False</td>\n",
       "    </tr>\n",
       "    <tr>\n",
       "      <th>Andorra</th>\n",
       "      <td>True</td>\n",
       "      <td>True</td>\n",
       "      <td>True</td>\n",
       "    </tr>\n",
       "    <tr>\n",
       "      <th>Angola</th>\n",
       "      <td>True</td>\n",
       "      <td>True</td>\n",
       "      <td>True</td>\n",
       "    </tr>\n",
       "    <tr>\n",
       "      <th>...</th>\n",
       "      <td>...</td>\n",
       "      <td>...</td>\n",
       "      <td>...</td>\n",
       "    </tr>\n",
       "    <tr>\n",
       "      <th>Venezuela</th>\n",
       "      <td>False</td>\n",
       "      <td>False</td>\n",
       "      <td>True</td>\n",
       "    </tr>\n",
       "    <tr>\n",
       "      <th>Vietnam</th>\n",
       "      <td>True</td>\n",
       "      <td>True</td>\n",
       "      <td>False</td>\n",
       "    </tr>\n",
       "    <tr>\n",
       "      <th>World</th>\n",
       "      <td>False</td>\n",
       "      <td>False</td>\n",
       "      <td>False</td>\n",
       "    </tr>\n",
       "    <tr>\n",
       "      <th>Zambia</th>\n",
       "      <td>False</td>\n",
       "      <td>False</td>\n",
       "      <td>False</td>\n",
       "    </tr>\n",
       "    <tr>\n",
       "      <th>Zimbabwe</th>\n",
       "      <td>True</td>\n",
       "      <td>True</td>\n",
       "      <td>True</td>\n",
       "    </tr>\n",
       "  </tbody>\n",
       "</table>\n",
       "<p>165 rows × 3 columns</p>\n",
       "</div>"
      ],
      "text/plain": [
       "                Doses_admin_monotonic  People_partially_vaccinated_monotonic  \\\n",
       "Country_Region                                                                 \n",
       "Afghanistan                     False                                  False   \n",
       "Albania                          True                                   True   \n",
       "Algeria                         False                                  False   \n",
       "Andorra                          True                                   True   \n",
       "Angola                           True                                   True   \n",
       "...                               ...                                    ...   \n",
       "Venezuela                       False                                  False   \n",
       "Vietnam                          True                                   True   \n",
       "World                           False                                  False   \n",
       "Zambia                          False                                  False   \n",
       "Zimbabwe                         True                                   True   \n",
       "\n",
       "                People_fully_vaccinated_monotonic  \n",
       "Country_Region                                     \n",
       "Afghanistan                                  True  \n",
       "Albania                                      True  \n",
       "Algeria                                     False  \n",
       "Andorra                                      True  \n",
       "Angola                                       True  \n",
       "...                                           ...  \n",
       "Venezuela                                    True  \n",
       "Vietnam                                     False  \n",
       "World                                       False  \n",
       "Zambia                                      False  \n",
       "Zimbabwe                                     True  \n",
       "\n",
       "[165 rows x 3 columns]"
      ]
     },
     "execution_count": 483,
     "metadata": {},
     "output_type": "execute_result"
    }
   ],
   "source": [
    "# run this to see the result, and don't change this cell -- it is used by the tests\n",
    "mono = monotonic_by_country(vacs)\n",
    "mono"
   ]
  },
  {
   "cell_type": "code",
   "execution_count": 484,
   "metadata": {
    "deletable": false,
    "editable": false
   },
   "outputs": [
    {
     "data": {
      "text/html": [
       "<p><strong><pre style='display: inline;'>q1</pre></strong> passed!</p>"
      ],
      "text/plain": [
       "q1 results: All test cases passed!"
      ]
     },
     "execution_count": 484,
     "metadata": {},
     "output_type": "execute_result"
    }
   ],
   "source": [
    "grader.check(\"q1\")"
   ]
  },
  {
   "cell_type": "markdown",
   "metadata": {},
   "source": [
    "If you've coded this right, you should see that it is not rare for the data to violate the monotonicity assumption. We'll have to take this into account when doing our data analysis."
   ]
  },
  {
   "cell_type": "markdown",
   "metadata": {},
   "source": [
    "**Question 2**. *(Checkpoint Question)* We'd like to get the total number of doses administered, people partially vaccinated, and people fully vaccinated for each country. If the data were truly monotonic, we could simply group by country and find the maximum within each group and within each column -- this would be the overall cumulative. However, if the data has errors that make it not monotonically-increasing, there could be a noisy \"spike\" in the graph, so that the maximum may be an unfaithful measure of the total number of doses. Instead of the maximum, we should use something more robust, such as the 97th percentile.\n",
    "\n",
    "Create a function named `robust_totals` that accepts a dataframe like `vacs` above and returns a dataframe with one row for each country/region and three columns -- `Doses_admin`, `People_partially_vaccinated`, and `People_fully_vaccinated` -- where an entry in the `Doses_admin` column is the 97th percentile of the values in that column for that country; likewise for the other columns. The index of the returned dataframe should contain country names."
   ]
  },
  {
   "cell_type": "code",
   "execution_count": 485,
   "metadata": {
    "tags": []
   },
   "outputs": [],
   "source": [
    "def robust_totals(vacs):\n",
    "    sol = vacs.groupby(\"Country_Region\").quantile(.97)\n",
    "    sol = sol.drop([\"UID\"], axis = 1)\n",
    "    return sol\n",
    "    \n",
    "#robust_totals(vacs)"
   ]
  },
  {
   "cell_type": "code",
   "execution_count": 486,
   "metadata": {
    "scrolled": true
   },
   "outputs": [
    {
     "name": "stderr",
     "output_type": "stream",
     "text": [
      "/var/folders/s1/y8hjc_rd18g3zw5xh5l4_y8r0000gn/T/ipykernel_52972/2559559747.py:2: FutureWarning: Dropping invalid columns in DataFrameGroupBy.quantile is deprecated. In a future version, a TypeError will be raised. Before calling .quantile, select only columns which should be valid for the function.\n",
      "  sol = vacs.groupby(\"Country_Region\").quantile(.97)\n"
     ]
    },
    {
     "data": {
      "text/html": [
       "<div>\n",
       "<style scoped>\n",
       "    .dataframe tbody tr th:only-of-type {\n",
       "        vertical-align: middle;\n",
       "    }\n",
       "\n",
       "    .dataframe tbody tr th {\n",
       "        vertical-align: top;\n",
       "    }\n",
       "\n",
       "    .dataframe thead th {\n",
       "        text-align: right;\n",
       "    }\n",
       "</style>\n",
       "<table border=\"1\" class=\"dataframe\">\n",
       "  <thead>\n",
       "    <tr style=\"text-align: right;\">\n",
       "      <th></th>\n",
       "      <th>Doses_admin</th>\n",
       "      <th>People_partially_vaccinated</th>\n",
       "      <th>People_fully_vaccinated</th>\n",
       "    </tr>\n",
       "    <tr>\n",
       "      <th>Country_Region</th>\n",
       "      <th></th>\n",
       "      <th></th>\n",
       "      <th></th>\n",
       "    </tr>\n",
       "  </thead>\n",
       "  <tbody>\n",
       "    <tr>\n",
       "      <th>Afghanistan</th>\n",
       "      <td>3.133227e+06</td>\n",
       "      <td>8.111190e+05</td>\n",
       "      <td>4.307440e+05</td>\n",
       "    </tr>\n",
       "    <tr>\n",
       "      <th>Albania</th>\n",
       "      <td>1.723907e+06</td>\n",
       "      <td>9.413937e+05</td>\n",
       "      <td>7.825137e+05</td>\n",
       "    </tr>\n",
       "    <tr>\n",
       "      <th>Algeria</th>\n",
       "      <td>1.408292e+07</td>\n",
       "      <td>6.017036e+06</td>\n",
       "      <td>4.174623e+06</td>\n",
       "    </tr>\n",
       "    <tr>\n",
       "      <th>Andorra</th>\n",
       "      <td>9.591800e+04</td>\n",
       "      <td>5.291000e+04</td>\n",
       "      <td>4.300800e+04</td>\n",
       "    </tr>\n",
       "    <tr>\n",
       "      <th>Angola</th>\n",
       "      <td>3.134137e+06</td>\n",
       "      <td>2.127405e+06</td>\n",
       "      <td>1.006732e+06</td>\n",
       "    </tr>\n",
       "    <tr>\n",
       "      <th>...</th>\n",
       "      <td>...</td>\n",
       "      <td>...</td>\n",
       "      <td>...</td>\n",
       "    </tr>\n",
       "    <tr>\n",
       "      <th>Venezuela</th>\n",
       "      <td>1.571486e+07</td>\n",
       "      <td>9.731808e+06</td>\n",
       "      <td>5.983049e+06</td>\n",
       "    </tr>\n",
       "    <tr>\n",
       "      <th>Vietnam</th>\n",
       "      <td>4.115304e+07</td>\n",
       "      <td>3.217164e+07</td>\n",
       "      <td>8.981400e+06</td>\n",
       "    </tr>\n",
       "    <tr>\n",
       "      <th>World</th>\n",
       "      <td>6.146343e+09</td>\n",
       "      <td>3.461784e+09</td>\n",
       "      <td>2.550572e+09</td>\n",
       "    </tr>\n",
       "    <tr>\n",
       "      <th>Zambia</th>\n",
       "      <td>7.353455e+05</td>\n",
       "      <td>3.547520e+05</td>\n",
       "      <td>4.125252e+05</td>\n",
       "    </tr>\n",
       "    <tr>\n",
       "      <th>Zimbabwe</th>\n",
       "      <td>5.325148e+06</td>\n",
       "      <td>3.073219e+06</td>\n",
       "      <td>2.251929e+06</td>\n",
       "    </tr>\n",
       "  </tbody>\n",
       "</table>\n",
       "<p>165 rows × 3 columns</p>\n",
       "</div>"
      ],
      "text/plain": [
       "                 Doses_admin  People_partially_vaccinated  \\\n",
       "Country_Region                                              \n",
       "Afghanistan     3.133227e+06                 8.111190e+05   \n",
       "Albania         1.723907e+06                 9.413937e+05   \n",
       "Algeria         1.408292e+07                 6.017036e+06   \n",
       "Andorra         9.591800e+04                 5.291000e+04   \n",
       "Angola          3.134137e+06                 2.127405e+06   \n",
       "...                      ...                          ...   \n",
       "Venezuela       1.571486e+07                 9.731808e+06   \n",
       "Vietnam         4.115304e+07                 3.217164e+07   \n",
       "World           6.146343e+09                 3.461784e+09   \n",
       "Zambia          7.353455e+05                 3.547520e+05   \n",
       "Zimbabwe        5.325148e+06                 3.073219e+06   \n",
       "\n",
       "                People_fully_vaccinated  \n",
       "Country_Region                           \n",
       "Afghanistan                4.307440e+05  \n",
       "Albania                    7.825137e+05  \n",
       "Algeria                    4.174623e+06  \n",
       "Andorra                    4.300800e+04  \n",
       "Angola                     1.006732e+06  \n",
       "...                                 ...  \n",
       "Venezuela                  5.983049e+06  \n",
       "Vietnam                    8.981400e+06  \n",
       "World                      2.550572e+09  \n",
       "Zambia                     4.125252e+05  \n",
       "Zimbabwe                   2.251929e+06  \n",
       "\n",
       "[165 rows x 3 columns]"
      ]
     },
     "execution_count": 486,
     "metadata": {},
     "output_type": "execute_result"
    }
   ],
   "source": [
    "# run this to see the result, and don't change this cell -- it is used by the tests\n",
    "tots = robust_totals(vacs)\n",
    "tots"
   ]
  },
  {
   "cell_type": "code",
   "execution_count": 487,
   "metadata": {
    "deletable": false,
    "editable": false
   },
   "outputs": [
    {
     "data": {
      "text/html": [
       "<p><strong><pre style='display: inline;'>q2</pre></strong> passed!</p>"
      ],
      "text/plain": [
       "q2 results: All test cases passed!"
      ]
     },
     "execution_count": 487,
     "metadata": {},
     "output_type": "execute_result"
    }
   ],
   "source": [
    "grader.check(\"q2\")"
   ]
  },
  {
   "cell_type": "markdown",
   "metadata": {},
   "source": [
    "We'd like to compute for each country/region the number of people vaccinated as a percentage of the total population. To this end, we have downloaded a CSV file containing the population of every country/region in the world:"
   ]
  },
  {
   "cell_type": "code",
   "execution_count": 488,
   "metadata": {
    "scrolled": true
   },
   "outputs": [
    {
     "data": {
      "text/html": [
       "<div>\n",
       "<style scoped>\n",
       "    .dataframe tbody tr th:only-of-type {\n",
       "        vertical-align: middle;\n",
       "    }\n",
       "\n",
       "    .dataframe tbody tr th {\n",
       "        vertical-align: top;\n",
       "    }\n",
       "\n",
       "    .dataframe thead th {\n",
       "        text-align: right;\n",
       "    }\n",
       "</style>\n",
       "<table border=\"1\" class=\"dataframe\">\n",
       "  <thead>\n",
       "    <tr style=\"text-align: right;\">\n",
       "      <th></th>\n",
       "      <th>Country (or dependency)</th>\n",
       "      <th>Population (2020)</th>\n",
       "      <th>Yearly Change</th>\n",
       "      <th>Net Change</th>\n",
       "      <th>Density (P/Km²)</th>\n",
       "      <th>Land Area (Km²)</th>\n",
       "      <th>Migrants (net)</th>\n",
       "      <th>Fert. Rate</th>\n",
       "      <th>Med. Age</th>\n",
       "      <th>Urban Pop %</th>\n",
       "      <th>World Share</th>\n",
       "    </tr>\n",
       "  </thead>\n",
       "  <tbody>\n",
       "    <tr>\n",
       "      <th>0</th>\n",
       "      <td>China</td>\n",
       "      <td>1,440,297,825</td>\n",
       "      <td>0.39 %</td>\n",
       "      <td>5540090</td>\n",
       "      <td>153</td>\n",
       "      <td>9,388,211</td>\n",
       "      <td>-348,399.0</td>\n",
       "      <td>1.7</td>\n",
       "      <td>38</td>\n",
       "      <td>61 %</td>\n",
       "      <td>18.47 %</td>\n",
       "    </tr>\n",
       "    <tr>\n",
       "      <th>1</th>\n",
       "      <td>India</td>\n",
       "      <td>1,382,345,085</td>\n",
       "      <td>0.99 %</td>\n",
       "      <td>13586631</td>\n",
       "      <td>464</td>\n",
       "      <td>2,973,190</td>\n",
       "      <td>-532,687.0</td>\n",
       "      <td>2.2</td>\n",
       "      <td>28</td>\n",
       "      <td>35 %</td>\n",
       "      <td>17.70 %</td>\n",
       "    </tr>\n",
       "    <tr>\n",
       "      <th>2</th>\n",
       "      <td>United States</td>\n",
       "      <td>331,341,050</td>\n",
       "      <td>0.59 %</td>\n",
       "      <td>1937734</td>\n",
       "      <td>36</td>\n",
       "      <td>9,147,420</td>\n",
       "      <td>954,806.0</td>\n",
       "      <td>1.8</td>\n",
       "      <td>38</td>\n",
       "      <td>83 %</td>\n",
       "      <td>4.25 %</td>\n",
       "    </tr>\n",
       "    <tr>\n",
       "      <th>3</th>\n",
       "      <td>Indonesia</td>\n",
       "      <td>274,021,604</td>\n",
       "      <td>1.07 %</td>\n",
       "      <td>2898047</td>\n",
       "      <td>151</td>\n",
       "      <td>1,811,570</td>\n",
       "      <td>-98,955.0</td>\n",
       "      <td>2.3</td>\n",
       "      <td>30</td>\n",
       "      <td>56 %</td>\n",
       "      <td>3.51 %</td>\n",
       "    </tr>\n",
       "    <tr>\n",
       "      <th>4</th>\n",
       "      <td>Pakistan</td>\n",
       "      <td>221,612,785</td>\n",
       "      <td>2.00 %</td>\n",
       "      <td>4327022</td>\n",
       "      <td>287</td>\n",
       "      <td>770,880</td>\n",
       "      <td>-233,379.0</td>\n",
       "      <td>3.6</td>\n",
       "      <td>23</td>\n",
       "      <td>35 %</td>\n",
       "      <td>2.83 %</td>\n",
       "    </tr>\n",
       "    <tr>\n",
       "      <th>...</th>\n",
       "      <td>...</td>\n",
       "      <td>...</td>\n",
       "      <td>...</td>\n",
       "      <td>...</td>\n",
       "      <td>...</td>\n",
       "      <td>...</td>\n",
       "      <td>...</td>\n",
       "      <td>...</td>\n",
       "      <td>...</td>\n",
       "      <td>...</td>\n",
       "      <td>...</td>\n",
       "    </tr>\n",
       "    <tr>\n",
       "      <th>230</th>\n",
       "      <td>Montserrat</td>\n",
       "      <td>4,993</td>\n",
       "      <td>0.06 %</td>\n",
       "      <td>3</td>\n",
       "      <td>50</td>\n",
       "      <td>100</td>\n",
       "      <td>NaN</td>\n",
       "      <td>N.A.</td>\n",
       "      <td>N.A.</td>\n",
       "      <td>10 %</td>\n",
       "      <td>0.00 %</td>\n",
       "    </tr>\n",
       "    <tr>\n",
       "      <th>231</th>\n",
       "      <td>Falkland Islands</td>\n",
       "      <td>3,497</td>\n",
       "      <td>3.05 %</td>\n",
       "      <td>103</td>\n",
       "      <td>0</td>\n",
       "      <td>12,170</td>\n",
       "      <td>NaN</td>\n",
       "      <td>N.A.</td>\n",
       "      <td>N.A.</td>\n",
       "      <td>66 %</td>\n",
       "      <td>0.00 %</td>\n",
       "    </tr>\n",
       "    <tr>\n",
       "      <th>232</th>\n",
       "      <td>Niue</td>\n",
       "      <td>1,628</td>\n",
       "      <td>0.68 %</td>\n",
       "      <td>11</td>\n",
       "      <td>6</td>\n",
       "      <td>260</td>\n",
       "      <td>NaN</td>\n",
       "      <td>N.A.</td>\n",
       "      <td>N.A.</td>\n",
       "      <td>46 %</td>\n",
       "      <td>0.00 %</td>\n",
       "    </tr>\n",
       "    <tr>\n",
       "      <th>233</th>\n",
       "      <td>Tokelau</td>\n",
       "      <td>1,360</td>\n",
       "      <td>1.27 %</td>\n",
       "      <td>17</td>\n",
       "      <td>136</td>\n",
       "      <td>10</td>\n",
       "      <td>NaN</td>\n",
       "      <td>N.A.</td>\n",
       "      <td>N.A.</td>\n",
       "      <td>0 %</td>\n",
       "      <td>0.00 %</td>\n",
       "    </tr>\n",
       "    <tr>\n",
       "      <th>234</th>\n",
       "      <td>Holy See</td>\n",
       "      <td>801</td>\n",
       "      <td>0.25 %</td>\n",
       "      <td>2</td>\n",
       "      <td>2003</td>\n",
       "      <td>0</td>\n",
       "      <td>NaN</td>\n",
       "      <td>N.A.</td>\n",
       "      <td>N.A.</td>\n",
       "      <td>N.A.</td>\n",
       "      <td>0.00 %</td>\n",
       "    </tr>\n",
       "  </tbody>\n",
       "</table>\n",
       "<p>235 rows × 11 columns</p>\n",
       "</div>"
      ],
      "text/plain": [
       "    Country (or dependency) Population (2020) Yearly Change  Net Change  \\\n",
       "0                     China     1,440,297,825        0.39 %     5540090   \n",
       "1                     India     1,382,345,085        0.99 %    13586631   \n",
       "2             United States       331,341,050        0.59 %     1937734   \n",
       "3                 Indonesia       274,021,604        1.07 %     2898047   \n",
       "4                  Pakistan       221,612,785        2.00 %     4327022   \n",
       "..                      ...               ...           ...         ...   \n",
       "230              Montserrat             4,993        0.06 %           3   \n",
       "231        Falkland Islands             3,497        3.05 %         103   \n",
       "232                    Niue             1,628        0.68 %          11   \n",
       "233                 Tokelau             1,360        1.27 %          17   \n",
       "234                Holy See               801        0.25 %           2   \n",
       "\n",
       "     Density (P/Km²) Land Area (Km²) Migrants (net) Fert. Rate Med. Age  \\\n",
       "0                153       9,388,211     -348,399.0        1.7       38   \n",
       "1                464       2,973,190     -532,687.0        2.2       28   \n",
       "2                 36       9,147,420      954,806.0        1.8       38   \n",
       "3                151       1,811,570      -98,955.0        2.3       30   \n",
       "4                287         770,880     -233,379.0        3.6       23   \n",
       "..               ...             ...            ...        ...      ...   \n",
       "230               50             100            NaN       N.A.     N.A.   \n",
       "231                0          12,170            NaN       N.A.     N.A.   \n",
       "232                6             260            NaN       N.A.     N.A.   \n",
       "233              136              10            NaN       N.A.     N.A.   \n",
       "234             2003               0            NaN       N.A.     N.A.   \n",
       "\n",
       "    Urban Pop % World Share  \n",
       "0          61 %     18.47 %  \n",
       "1          35 %     17.70 %  \n",
       "2          83 %      4.25 %  \n",
       "3          56 %      3.51 %  \n",
       "4          35 %      2.83 %  \n",
       "..          ...         ...  \n",
       "230        10 %      0.00 %  \n",
       "231        66 %      0.00 %  \n",
       "232        46 %      0.00 %  \n",
       "233         0 %      0.00 %  \n",
       "234        N.A.      0.00 %  \n",
       "\n",
       "[235 rows x 11 columns]"
      ]
     },
     "execution_count": 488,
     "metadata": {},
     "output_type": "execute_result"
    }
   ],
   "source": [
    "pops_raw = pd.read_csv('data/populations.csv')\n",
    "pops_raw"
   ]
  },
  {
   "cell_type": "markdown",
   "metadata": {},
   "source": [
    "**Question 3**. Unfortunately, this table's data types require some cleaning. All of the columns except the first are numeric and should either be integers or floats, as appropriate, but many of them are being stored as strings. Additionally, some rows have missing values.\n",
    "\n",
    "Create a function named `fix_dtypes` which accepts a dataframe like `pop_raw` above and returns a data frame with exactly the same columns and rows, but with the data types \"fixed\" to be appropriate for the data contained within. In addition, ensure that all missing values are represented by NaNs. All percentages should be represented as decimals -- e.g., 27% should be 0.27.\n",
    "\n",
    "*Hint*: you can make helper functions! It's OK to loop over the columns of the table. And remember that NaNs *must* be represented as floats, so even if the value in a column look like integers, if the column must contain NaNs then the dtype must be a float type.\n",
    "\n",
    "As always, make sure that your function does not change the dataframe it is called with!"
   ]
  },
  {
   "cell_type": "code",
   "execution_count": 489,
   "metadata": {
    "tags": []
   },
   "outputs": [],
   "source": [
    "def fix_dtypes(pop_raw):\n",
    "    temp = pop_raw.copy()\n",
    "    temp = temp.applymap(lambda x: 'NaN' if pd.isnull(x) else x)\n",
    "    cols = temp.columns\n",
    "\n",
    "    def helper(x):\n",
    "        if '%' in str(x):\n",
    "            x = str(x).strip(\"%\")\n",
    "            x = float(x)/100\n",
    "        if ',' in str(x):\n",
    "            x = str(x).replace(\",\", '')\n",
    "        if str(x) == 'N.A.':\n",
    "            x = np.NaN\n",
    "        if str(x).isnumeric():\n",
    "            x = int(x)\n",
    "        if '.' in str(x):\n",
    "            if str(x).replace('.','',1).isnumeric():\n",
    "                x = float(x)\n",
    "        return x\n",
    "\n",
    "    for i in cols:\n",
    "        temp[i] = temp[i].apply(helper)\n",
    "        if temp[i].isnull().values.any() == True:\n",
    "            temp[i].astype(float)\n",
    "\n",
    "    return temp"
   ]
  },
  {
   "cell_type": "code",
   "execution_count": 490,
   "metadata": {
    "scrolled": true
   },
   "outputs": [
    {
     "data": {
      "text/html": [
       "<div>\n",
       "<style scoped>\n",
       "    .dataframe tbody tr th:only-of-type {\n",
       "        vertical-align: middle;\n",
       "    }\n",
       "\n",
       "    .dataframe tbody tr th {\n",
       "        vertical-align: top;\n",
       "    }\n",
       "\n",
       "    .dataframe thead th {\n",
       "        text-align: right;\n",
       "    }\n",
       "</style>\n",
       "<table border=\"1\" class=\"dataframe\">\n",
       "  <thead>\n",
       "    <tr style=\"text-align: right;\">\n",
       "      <th></th>\n",
       "      <th>Country (or dependency)</th>\n",
       "      <th>Population (2020)</th>\n",
       "      <th>Yearly Change</th>\n",
       "      <th>Net Change</th>\n",
       "      <th>Density (P/Km²)</th>\n",
       "      <th>Land Area (Km²)</th>\n",
       "      <th>Migrants (net)</th>\n",
       "      <th>Fert. Rate</th>\n",
       "      <th>Med. Age</th>\n",
       "      <th>Urban Pop %</th>\n",
       "      <th>World Share</th>\n",
       "    </tr>\n",
       "  </thead>\n",
       "  <tbody>\n",
       "    <tr>\n",
       "      <th>0</th>\n",
       "      <td>China</td>\n",
       "      <td>1440297825</td>\n",
       "      <td>0.0039</td>\n",
       "      <td>5540090</td>\n",
       "      <td>153</td>\n",
       "      <td>9388211</td>\n",
       "      <td>-348399.0</td>\n",
       "      <td>1.7</td>\n",
       "      <td>38.0</td>\n",
       "      <td>0.61</td>\n",
       "      <td>0.1847</td>\n",
       "    </tr>\n",
       "    <tr>\n",
       "      <th>1</th>\n",
       "      <td>India</td>\n",
       "      <td>1382345085</td>\n",
       "      <td>0.0099</td>\n",
       "      <td>13586631</td>\n",
       "      <td>464</td>\n",
       "      <td>2973190</td>\n",
       "      <td>-532687.0</td>\n",
       "      <td>2.2</td>\n",
       "      <td>28.0</td>\n",
       "      <td>0.35</td>\n",
       "      <td>0.1770</td>\n",
       "    </tr>\n",
       "    <tr>\n",
       "      <th>2</th>\n",
       "      <td>United States</td>\n",
       "      <td>331341050</td>\n",
       "      <td>0.0059</td>\n",
       "      <td>1937734</td>\n",
       "      <td>36</td>\n",
       "      <td>9147420</td>\n",
       "      <td>954806.0</td>\n",
       "      <td>1.8</td>\n",
       "      <td>38.0</td>\n",
       "      <td>0.83</td>\n",
       "      <td>0.0425</td>\n",
       "    </tr>\n",
       "    <tr>\n",
       "      <th>3</th>\n",
       "      <td>Indonesia</td>\n",
       "      <td>274021604</td>\n",
       "      <td>0.0107</td>\n",
       "      <td>2898047</td>\n",
       "      <td>151</td>\n",
       "      <td>1811570</td>\n",
       "      <td>-98955.0</td>\n",
       "      <td>2.3</td>\n",
       "      <td>30.0</td>\n",
       "      <td>0.56</td>\n",
       "      <td>0.0351</td>\n",
       "    </tr>\n",
       "    <tr>\n",
       "      <th>4</th>\n",
       "      <td>Pakistan</td>\n",
       "      <td>221612785</td>\n",
       "      <td>0.0200</td>\n",
       "      <td>4327022</td>\n",
       "      <td>287</td>\n",
       "      <td>770880</td>\n",
       "      <td>-233379.0</td>\n",
       "      <td>3.6</td>\n",
       "      <td>23.0</td>\n",
       "      <td>0.35</td>\n",
       "      <td>0.0283</td>\n",
       "    </tr>\n",
       "    <tr>\n",
       "      <th>...</th>\n",
       "      <td>...</td>\n",
       "      <td>...</td>\n",
       "      <td>...</td>\n",
       "      <td>...</td>\n",
       "      <td>...</td>\n",
       "      <td>...</td>\n",
       "      <td>...</td>\n",
       "      <td>...</td>\n",
       "      <td>...</td>\n",
       "      <td>...</td>\n",
       "      <td>...</td>\n",
       "    </tr>\n",
       "    <tr>\n",
       "      <th>230</th>\n",
       "      <td>Montserrat</td>\n",
       "      <td>4993</td>\n",
       "      <td>0.0006</td>\n",
       "      <td>3</td>\n",
       "      <td>50</td>\n",
       "      <td>100</td>\n",
       "      <td>NaN</td>\n",
       "      <td>NaN</td>\n",
       "      <td>NaN</td>\n",
       "      <td>0.10</td>\n",
       "      <td>0.0000</td>\n",
       "    </tr>\n",
       "    <tr>\n",
       "      <th>231</th>\n",
       "      <td>Falkland Islands</td>\n",
       "      <td>3497</td>\n",
       "      <td>0.0305</td>\n",
       "      <td>103</td>\n",
       "      <td>0</td>\n",
       "      <td>12170</td>\n",
       "      <td>NaN</td>\n",
       "      <td>NaN</td>\n",
       "      <td>NaN</td>\n",
       "      <td>0.66</td>\n",
       "      <td>0.0000</td>\n",
       "    </tr>\n",
       "    <tr>\n",
       "      <th>232</th>\n",
       "      <td>Niue</td>\n",
       "      <td>1628</td>\n",
       "      <td>0.0068</td>\n",
       "      <td>11</td>\n",
       "      <td>6</td>\n",
       "      <td>260</td>\n",
       "      <td>NaN</td>\n",
       "      <td>NaN</td>\n",
       "      <td>NaN</td>\n",
       "      <td>0.46</td>\n",
       "      <td>0.0000</td>\n",
       "    </tr>\n",
       "    <tr>\n",
       "      <th>233</th>\n",
       "      <td>Tokelau</td>\n",
       "      <td>1360</td>\n",
       "      <td>0.0127</td>\n",
       "      <td>17</td>\n",
       "      <td>136</td>\n",
       "      <td>10</td>\n",
       "      <td>NaN</td>\n",
       "      <td>NaN</td>\n",
       "      <td>NaN</td>\n",
       "      <td>0.00</td>\n",
       "      <td>0.0000</td>\n",
       "    </tr>\n",
       "    <tr>\n",
       "      <th>234</th>\n",
       "      <td>Holy See</td>\n",
       "      <td>801</td>\n",
       "      <td>0.0025</td>\n",
       "      <td>2</td>\n",
       "      <td>2003</td>\n",
       "      <td>0</td>\n",
       "      <td>NaN</td>\n",
       "      <td>NaN</td>\n",
       "      <td>NaN</td>\n",
       "      <td>NaN</td>\n",
       "      <td>0.0000</td>\n",
       "    </tr>\n",
       "  </tbody>\n",
       "</table>\n",
       "<p>235 rows × 11 columns</p>\n",
       "</div>"
      ],
      "text/plain": [
       "    Country (or dependency)  Population (2020)  Yearly Change  Net Change  \\\n",
       "0                     China         1440297825         0.0039     5540090   \n",
       "1                     India         1382345085         0.0099    13586631   \n",
       "2             United States          331341050         0.0059     1937734   \n",
       "3                 Indonesia          274021604         0.0107     2898047   \n",
       "4                  Pakistan          221612785         0.0200     4327022   \n",
       "..                      ...                ...            ...         ...   \n",
       "230              Montserrat               4993         0.0006           3   \n",
       "231        Falkland Islands               3497         0.0305         103   \n",
       "232                    Niue               1628         0.0068          11   \n",
       "233                 Tokelau               1360         0.0127          17   \n",
       "234                Holy See                801         0.0025           2   \n",
       "\n",
       "     Density (P/Km²)  Land Area (Km²) Migrants (net)  Fert. Rate  Med. Age  \\\n",
       "0                153          9388211      -348399.0         1.7      38.0   \n",
       "1                464          2973190      -532687.0         2.2      28.0   \n",
       "2                 36          9147420       954806.0         1.8      38.0   \n",
       "3                151          1811570       -98955.0         2.3      30.0   \n",
       "4                287           770880      -233379.0         3.6      23.0   \n",
       "..               ...              ...            ...         ...       ...   \n",
       "230               50              100            NaN         NaN       NaN   \n",
       "231                0            12170            NaN         NaN       NaN   \n",
       "232                6              260            NaN         NaN       NaN   \n",
       "233              136               10            NaN         NaN       NaN   \n",
       "234             2003                0            NaN         NaN       NaN   \n",
       "\n",
       "     Urban Pop %  World Share  \n",
       "0           0.61       0.1847  \n",
       "1           0.35       0.1770  \n",
       "2           0.83       0.0425  \n",
       "3           0.56       0.0351  \n",
       "4           0.35       0.0283  \n",
       "..           ...          ...  \n",
       "230         0.10       0.0000  \n",
       "231         0.66       0.0000  \n",
       "232         0.46       0.0000  \n",
       "233         0.00       0.0000  \n",
       "234          NaN       0.0000  \n",
       "\n",
       "[235 rows x 11 columns]"
      ]
     },
     "execution_count": 490,
     "metadata": {},
     "output_type": "execute_result"
    }
   ],
   "source": [
    "# run this to see the result, and don't change this cell -- it is used by the tests\n",
    "pops = fix_dtypes(pops_raw)\n",
    "pops"
   ]
  },
  {
   "cell_type": "code",
   "execution_count": 491,
   "metadata": {
    "deletable": false,
    "editable": false
   },
   "outputs": [
    {
     "data": {
      "text/html": [
       "<p><strong><pre style='display: inline;'>q3</pre></strong> passed!</p>"
      ],
      "text/plain": [
       "q3 results: All test cases passed!"
      ]
     },
     "execution_count": 491,
     "metadata": {},
     "output_type": "execute_result"
    }
   ],
   "source": [
    "grader.check(\"q3\")"
   ]
  },
  {
   "cell_type": "markdown",
   "metadata": {},
   "source": [
    "**Question 4**. Remember that our goal is to compute the percentage of people vaccinated in each country/region. Our next step is to take the population numbers from the previous problem and insert them into the table of vaccination numbers. In principle this is a simple `concat` or `merge`, but there's a problem: the names of the countries/regions are not always the same in each table.\n",
    "\n",
    "First, create a function `missing_in_pops` which takes in two tables, the first, like `tots` above, containing the total number of vaccinations per country/region, and the second like `pops` above, containing the population of each country/region. It should return a Python `set` of names that appear in `tots` but not in `pops`.\n",
    "\n",
    "*Hint*: Pandas indexes have a method that checks if each element of the index is a member of some other collection.\n",
    "\n",
    "By running your function, you'll see that there are 11 countries/regions in `tots` that do not appear in `pops`. It turns out that most of these countries *do* appear in `pops`, just under a different name or spelling. Using the power of Google or your domain knowledge, combined with exploring the `tots` table, write a function named `fix_names` that accepts one argument -- a table like `pops` -- and returns a copy of `pops`, but with the \n",
    "\"Country (or dependency)\" column changed so that all countries that appear in `tots` also appear in the result, with a few exceptions listed below. For example, the country \"Burma\" appears in `tots`, but is listed as \"Myanmar\" in `pops`. In the table returned by your function, \"Myanmar\" should be changed to \"Burma\" to match `tots`.\n",
    "\n",
    "As noted above, there are a few exceptions:\n",
    "\n",
    "- Kosovo does not appear in `pops`. You do not need to change an entry in `pops` to match it.\n",
    "- There is a region simply called \"World\". This doesn't appear in `pops`. You do not need to change an entry in `pops` to match it.\n",
    "- There is \"US\" and \"US (Aggregate)\" in `tots` but neither appear in `pops`. You only need to match \"US\", and can leave \"US (Aggregate)\" unmatched."
   ]
  },
  {
   "cell_type": "code",
   "execution_count": 492,
   "metadata": {
    "tags": []
   },
   "outputs": [],
   "source": [
    "def missing_in_pops(tots, pops):\n",
    "    diff = tots.index.difference(pops['Country (or dependency)'].values.tolist())\n",
    "    return set(diff)    "
   ]
  },
  {
   "cell_type": "code",
   "execution_count": 493,
   "metadata": {},
   "outputs": [],
   "source": [
    "def fix_names(pops):\n",
    "    temp = pops.copy()\n",
    "    temp['Country (or dependency)'].loc[temp['Country (or dependency)'] == 'Myanmar'] = 'Burma'\n",
    "    temp['Country (or dependency)'].loc[temp['Country (or dependency)'] == 'South Korea'] = 'Korea, South'\n",
    "    temp['Country (or dependency)'].loc[temp['Country (or dependency)'] == 'United States'] = 'US'\n",
    "    temp['Country (or dependency)'].loc[temp['Country (or dependency)'] == 'Czech Republic (Czechia)'] = 'Czechia'\n",
    "    temp['Country (or dependency)'].loc[temp['Country (or dependency)'] == 'Saint Kitts & Nevi'] = 'Saint Kitts and Nevis'\n",
    "    temp['Country (or dependency)'].loc[temp['Country (or dependency)'] == \"Côte d'Ivoire\"] = \"Cote d'Ivoire\"\n",
    "    temp['Country (or dependency)'].loc[temp['Country (or dependency)'] == 'St. Vincent & Grenadines'] = 'Saint Vincent and the Grenadines'\n",
    "    temp['Country (or dependency)'].loc[temp['Country (or dependency)'] == 'Sao Tome & Principe'] = 'Sao Tome and Principe'\n",
    "\n",
    "    return temp"
   ]
  },
  {
   "cell_type": "code",
   "execution_count": 494,
   "metadata": {},
   "outputs": [
    {
     "data": {
      "text/plain": [
       "{'Burma',\n",
       " \"Cote d'Ivoire\",\n",
       " 'Czechia',\n",
       " 'Korea, South',\n",
       " 'Kosovo',\n",
       " 'Saint Kitts and Nevis',\n",
       " 'Saint Vincent and the Grenadines',\n",
       " 'Sao Tome and Principe',\n",
       " 'US',\n",
       " 'US (Aggregate)',\n",
       " 'World'}"
      ]
     },
     "execution_count": 494,
     "metadata": {},
     "output_type": "execute_result"
    }
   ],
   "source": [
    "# run this to see the result, and don't change this cell -- it is used by the tests\n",
    "missing = missing_in_pops(tots, pops)\n",
    "missing"
   ]
  },
  {
   "cell_type": "code",
   "execution_count": 495,
   "metadata": {
    "scrolled": true
   },
   "outputs": [
    {
     "name": "stderr",
     "output_type": "stream",
     "text": [
      "/opt/homebrew/lib/python3.9/site-packages/pandas/core/indexing.py:1732: SettingWithCopyWarning: \n",
      "A value is trying to be set on a copy of a slice from a DataFrame\n",
      "\n",
      "See the caveats in the documentation: https://pandas.pydata.org/pandas-docs/stable/user_guide/indexing.html#returning-a-view-versus-a-copy\n",
      "  self._setitem_single_block(indexer, value, name)\n"
     ]
    },
    {
     "data": {
      "text/html": [
       "<div>\n",
       "<style scoped>\n",
       "    .dataframe tbody tr th:only-of-type {\n",
       "        vertical-align: middle;\n",
       "    }\n",
       "\n",
       "    .dataframe tbody tr th {\n",
       "        vertical-align: top;\n",
       "    }\n",
       "\n",
       "    .dataframe thead th {\n",
       "        text-align: right;\n",
       "    }\n",
       "</style>\n",
       "<table border=\"1\" class=\"dataframe\">\n",
       "  <thead>\n",
       "    <tr style=\"text-align: right;\">\n",
       "      <th></th>\n",
       "      <th>Country (or dependency)</th>\n",
       "      <th>Population (2020)</th>\n",
       "      <th>Yearly Change</th>\n",
       "      <th>Net Change</th>\n",
       "      <th>Density (P/Km²)</th>\n",
       "      <th>Land Area (Km²)</th>\n",
       "      <th>Migrants (net)</th>\n",
       "      <th>Fert. Rate</th>\n",
       "      <th>Med. Age</th>\n",
       "      <th>Urban Pop %</th>\n",
       "      <th>World Share</th>\n",
       "    </tr>\n",
       "  </thead>\n",
       "  <tbody>\n",
       "    <tr>\n",
       "      <th>0</th>\n",
       "      <td>China</td>\n",
       "      <td>1440297825</td>\n",
       "      <td>0.0039</td>\n",
       "      <td>5540090</td>\n",
       "      <td>153</td>\n",
       "      <td>9388211</td>\n",
       "      <td>-348399.0</td>\n",
       "      <td>1.7</td>\n",
       "      <td>38.0</td>\n",
       "      <td>0.61</td>\n",
       "      <td>0.1847</td>\n",
       "    </tr>\n",
       "    <tr>\n",
       "      <th>1</th>\n",
       "      <td>India</td>\n",
       "      <td>1382345085</td>\n",
       "      <td>0.0099</td>\n",
       "      <td>13586631</td>\n",
       "      <td>464</td>\n",
       "      <td>2973190</td>\n",
       "      <td>-532687.0</td>\n",
       "      <td>2.2</td>\n",
       "      <td>28.0</td>\n",
       "      <td>0.35</td>\n",
       "      <td>0.1770</td>\n",
       "    </tr>\n",
       "    <tr>\n",
       "      <th>2</th>\n",
       "      <td>US</td>\n",
       "      <td>331341050</td>\n",
       "      <td>0.0059</td>\n",
       "      <td>1937734</td>\n",
       "      <td>36</td>\n",
       "      <td>9147420</td>\n",
       "      <td>954806.0</td>\n",
       "      <td>1.8</td>\n",
       "      <td>38.0</td>\n",
       "      <td>0.83</td>\n",
       "      <td>0.0425</td>\n",
       "    </tr>\n",
       "    <tr>\n",
       "      <th>3</th>\n",
       "      <td>Indonesia</td>\n",
       "      <td>274021604</td>\n",
       "      <td>0.0107</td>\n",
       "      <td>2898047</td>\n",
       "      <td>151</td>\n",
       "      <td>1811570</td>\n",
       "      <td>-98955.0</td>\n",
       "      <td>2.3</td>\n",
       "      <td>30.0</td>\n",
       "      <td>0.56</td>\n",
       "      <td>0.0351</td>\n",
       "    </tr>\n",
       "    <tr>\n",
       "      <th>4</th>\n",
       "      <td>Pakistan</td>\n",
       "      <td>221612785</td>\n",
       "      <td>0.0200</td>\n",
       "      <td>4327022</td>\n",
       "      <td>287</td>\n",
       "      <td>770880</td>\n",
       "      <td>-233379.0</td>\n",
       "      <td>3.6</td>\n",
       "      <td>23.0</td>\n",
       "      <td>0.35</td>\n",
       "      <td>0.0283</td>\n",
       "    </tr>\n",
       "    <tr>\n",
       "      <th>...</th>\n",
       "      <td>...</td>\n",
       "      <td>...</td>\n",
       "      <td>...</td>\n",
       "      <td>...</td>\n",
       "      <td>...</td>\n",
       "      <td>...</td>\n",
       "      <td>...</td>\n",
       "      <td>...</td>\n",
       "      <td>...</td>\n",
       "      <td>...</td>\n",
       "      <td>...</td>\n",
       "    </tr>\n",
       "    <tr>\n",
       "      <th>230</th>\n",
       "      <td>Montserrat</td>\n",
       "      <td>4993</td>\n",
       "      <td>0.0006</td>\n",
       "      <td>3</td>\n",
       "      <td>50</td>\n",
       "      <td>100</td>\n",
       "      <td>NaN</td>\n",
       "      <td>NaN</td>\n",
       "      <td>NaN</td>\n",
       "      <td>0.10</td>\n",
       "      <td>0.0000</td>\n",
       "    </tr>\n",
       "    <tr>\n",
       "      <th>231</th>\n",
       "      <td>Falkland Islands</td>\n",
       "      <td>3497</td>\n",
       "      <td>0.0305</td>\n",
       "      <td>103</td>\n",
       "      <td>0</td>\n",
       "      <td>12170</td>\n",
       "      <td>NaN</td>\n",
       "      <td>NaN</td>\n",
       "      <td>NaN</td>\n",
       "      <td>0.66</td>\n",
       "      <td>0.0000</td>\n",
       "    </tr>\n",
       "    <tr>\n",
       "      <th>232</th>\n",
       "      <td>Niue</td>\n",
       "      <td>1628</td>\n",
       "      <td>0.0068</td>\n",
       "      <td>11</td>\n",
       "      <td>6</td>\n",
       "      <td>260</td>\n",
       "      <td>NaN</td>\n",
       "      <td>NaN</td>\n",
       "      <td>NaN</td>\n",
       "      <td>0.46</td>\n",
       "      <td>0.0000</td>\n",
       "    </tr>\n",
       "    <tr>\n",
       "      <th>233</th>\n",
       "      <td>Tokelau</td>\n",
       "      <td>1360</td>\n",
       "      <td>0.0127</td>\n",
       "      <td>17</td>\n",
       "      <td>136</td>\n",
       "      <td>10</td>\n",
       "      <td>NaN</td>\n",
       "      <td>NaN</td>\n",
       "      <td>NaN</td>\n",
       "      <td>0.00</td>\n",
       "      <td>0.0000</td>\n",
       "    </tr>\n",
       "    <tr>\n",
       "      <th>234</th>\n",
       "      <td>Holy See</td>\n",
       "      <td>801</td>\n",
       "      <td>0.0025</td>\n",
       "      <td>2</td>\n",
       "      <td>2003</td>\n",
       "      <td>0</td>\n",
       "      <td>NaN</td>\n",
       "      <td>NaN</td>\n",
       "      <td>NaN</td>\n",
       "      <td>NaN</td>\n",
       "      <td>0.0000</td>\n",
       "    </tr>\n",
       "  </tbody>\n",
       "</table>\n",
       "<p>235 rows × 11 columns</p>\n",
       "</div>"
      ],
      "text/plain": [
       "    Country (or dependency)  Population (2020)  Yearly Change  Net Change  \\\n",
       "0                     China         1440297825         0.0039     5540090   \n",
       "1                     India         1382345085         0.0099    13586631   \n",
       "2                        US          331341050         0.0059     1937734   \n",
       "3                 Indonesia          274021604         0.0107     2898047   \n",
       "4                  Pakistan          221612785         0.0200     4327022   \n",
       "..                      ...                ...            ...         ...   \n",
       "230              Montserrat               4993         0.0006           3   \n",
       "231        Falkland Islands               3497         0.0305         103   \n",
       "232                    Niue               1628         0.0068          11   \n",
       "233                 Tokelau               1360         0.0127          17   \n",
       "234                Holy See                801         0.0025           2   \n",
       "\n",
       "     Density (P/Km²)  Land Area (Km²) Migrants (net)  Fert. Rate  Med. Age  \\\n",
       "0                153          9388211      -348399.0         1.7      38.0   \n",
       "1                464          2973190      -532687.0         2.2      28.0   \n",
       "2                 36          9147420       954806.0         1.8      38.0   \n",
       "3                151          1811570       -98955.0         2.3      30.0   \n",
       "4                287           770880      -233379.0         3.6      23.0   \n",
       "..               ...              ...            ...         ...       ...   \n",
       "230               50              100            NaN         NaN       NaN   \n",
       "231                0            12170            NaN         NaN       NaN   \n",
       "232                6              260            NaN         NaN       NaN   \n",
       "233              136               10            NaN         NaN       NaN   \n",
       "234             2003                0            NaN         NaN       NaN   \n",
       "\n",
       "     Urban Pop %  World Share  \n",
       "0           0.61       0.1847  \n",
       "1           0.35       0.1770  \n",
       "2           0.83       0.0425  \n",
       "3           0.56       0.0351  \n",
       "4           0.35       0.0283  \n",
       "..           ...          ...  \n",
       "230         0.10       0.0000  \n",
       "231         0.66       0.0000  \n",
       "232         0.46       0.0000  \n",
       "233         0.00       0.0000  \n",
       "234          NaN       0.0000  \n",
       "\n",
       "[235 rows x 11 columns]"
      ]
     },
     "execution_count": 495,
     "metadata": {},
     "output_type": "execute_result"
    }
   ],
   "source": [
    "# run this to see the result, and don't change this cell -- it is used by the tests\n",
    "pops_fixed = fix_names(pops)\n",
    "pops_fixed"
   ]
  },
  {
   "cell_type": "code",
   "execution_count": 496,
   "metadata": {
    "deletable": false,
    "editable": false
   },
   "outputs": [
    {
     "data": {
      "text/html": [
       "<p><strong><pre style='display: inline;'>q4</pre></strong> passed!</p>"
      ],
      "text/plain": [
       "q4 results: All test cases passed!"
      ]
     },
     "execution_count": 496,
     "metadata": {},
     "output_type": "execute_result"
    }
   ],
   "source": [
    "grader.check(\"q4\")"
   ]
  },
  {
   "cell_type": "markdown",
   "metadata": {},
   "source": [
    "**Question 5**. Create a function named `top_k_fully_vaccinated` that accepts three arguments: a dataframe like `tots`, a dataframe like `pops_fixed`, and a number, `k`, and returns a pandas Series of the $k$ ten vaccination rates (number of fully vaccinated divided by total population) of any country/region, sorted in descending order. The index of the Series should be the country/region name, and the rates should be decimal numbers between 0 and 1."
   ]
  },
  {
   "cell_type": "code",
   "execution_count": 497,
   "metadata": {
    "tags": []
   },
   "outputs": [],
   "source": [
    "def top_k_fully_vaccinated(tots, pops_fixed, k):\n",
    "    tots_copy = tots.copy()\n",
    "    pf_copy = pops_fixed.copy()\n",
    "    temp = pf_copy.merge(tots_copy.reset_index(), right_on = \"Country_Region\", left_on = \"Country (or dependency)\")\n",
    "    temp[\"pfv\"] = temp[\"People_fully_vaccinated\"] / temp[\"Population (2020)\"]\n",
    "    \n",
    "    sol = temp.nlargest(k, \"pfv\")\n",
    "    locations = sol[\"Country (or dependency)\"]\n",
    "    vals = sol[\"pfv\"].values\n",
    "    return pd.Series(index = locations, data = vals)"
   ]
  },
  {
   "cell_type": "code",
   "execution_count": 498,
   "metadata": {},
   "outputs": [
    {
     "data": {
      "text/plain": [
       "Country (or dependency)\n",
       "Malta                   0.951735\n",
       "Portugal                0.847342\n",
       "United Arab Emirates    0.827612\n",
       "Iceland                 0.806412\n",
       "Spain                   0.780399\n",
       "Singapore               0.776914\n",
       "Qatar                   0.767765\n",
       "Denmark                 0.752568\n",
       "Ireland                 0.742408\n",
       "Uruguay                 0.739208\n",
       "dtype: float64"
      ]
     },
     "execution_count": 498,
     "metadata": {},
     "output_type": "execute_result"
    }
   ],
   "source": [
    "# run this to see the result, and don't change this cell -- it is used by the tests\n",
    "top_k = top_k_fully_vaccinated(tots, pops_fixed, 10)\n",
    "top_k"
   ]
  },
  {
   "cell_type": "code",
   "execution_count": 499,
   "metadata": {
    "deletable": false,
    "editable": false
   },
   "outputs": [
    {
     "data": {
      "text/html": [
       "<p><strong><pre style='display: inline;'>q5</pre></strong> passed!</p>"
      ],
      "text/plain": [
       "q5 results: All test cases passed!"
      ]
     },
     "execution_count": 499,
     "metadata": {},
     "output_type": "execute_result"
    }
   ],
   "source": [
    "grader.check(\"q5\")"
   ]
  },
  {
   "cell_type": "markdown",
   "metadata": {},
   "source": [
    "# Part 2: Vaccine effectiveness and misleading statistics\n",
    "\n",
    "There has naturally been much interest in the effectiveness of COVID-19 vaccines. In particular, recent reports suggest that the effectiveness of vaccines -- and the Pfizer vaccine in particular -- may *wane* over time. While this is true, the public perception of declining vaccine effectiveness has been affected by what is often a poor use of statistics by media outlets.\n",
    "\n",
    "For example, take the following blurb from [this article](https://www.cbc.ca/news/world/israel-covid-delta-variant-booster-1.6159472) on the Canadian Broadcasting Corporation's website (emphasis added):\n",
    "\n",
    "> Meanwhile, Israeli health officials reported what appeared to be a waning efficacy of the vaccine, including among those who had been double vaccinated. **Data showed that of the serious cases being admitted to hospital, around 60 per cent of patients were people who had been fully vaccinated**, though most were over 60 or with underlying health conditions.\n",
    "\n",
    "This stat sounds terrible -- if you're sick in a hospital bed with COVID-19, you're actually more likely to be vaccinated than not! If you're not a data scientist, you might come away with the conclusion that the vaccine is no longer effective against serious illness, or -- even worse -- that getting the vaccine will *increase* your risk of sickness. Of course, this statistic by itself is actually meaningless. For instance, imagine a world in which 100% of people are vaccinated. Then 100% of people admitted to the hospital will be vaccinated, too!\n",
    "\n",
    "What we really care about is not the probability of being vaccinated if you're hospitalized, but the probability of being hospitalized if you're vaccinated. More than that, what we care most about is how this probability relates to the probability of severe illness if you're *unvaccinated*. To put it more concretely, let's say that 1 in 100 vaccinated people are hospitalized, while 10 in 100 unvaccinated people are hospitalized. This means that unvaccinated people are 10x more likely to be hospitalized than unhospitalized. To put it another way, if those 10 hospitalized unvaccinated people had been vaccinated, we'd expect that 9 of them would not have developed severe illness. That is, the vaccine would have prevented 90% of the severe illnesses, and we might therefore say that it is 90% effective against severe illness.\n",
    "\n",
    "This is the intuition behind the definition of *vaccine effectiveness*; (see the CDC's [page](https://www.cdc.gov/csels/dsepd/ss1978/lesson3/section6.html) for more information). That is, to compute a vaccine's effectiveness, we need to know two things:\n",
    "\n",
    "1. the proportion of vaccinated people who developed severe illness (i.e., the probability of severe illness given vaccination). Call this $p_v$.\n",
    "2. the proportion of unvaccinated people who developed severe illness (i.e., the probability of severe illness given not vaccinated). Call this $p_u$.\n",
    "\n",
    "Then:\n",
    "\n",
    "$$\n",
    "\\text{effectiveness} = 1 - \\frac{p_v}{p_u} = \\frac{p_u - p_v}{p_u}\n",
    "$$\n",
    "\n",
    "What this formula calculates, in words, is the proportion of unvaccinated people with severe illness who would (we expect) not have severe illness if they were vaccinated. For instance, if no one who is vaccinated gets severely sick, then $p_v = 0$ and the effectiveness is 100%. On the other hand, if the vaccine is no better than being unvaccinated, $p_v = p_u$ and the effectiveness is 0%.\n",
    "\n",
    "\n",
    "Many news articles report effectiveness numbers, and this is certainly better than reporting the percentage of hospital patients that are vaccinated. Note, though, that there are different types of effectiveness -- effectiveness against severe illness, effectiveness against symptomatic illness, effectiveness against death -- and articles often are vague about which they are using. But even then, effectiveness can *still* be misleading due to statistical quirks, as we'll now see.\n",
    "\n",
    "For this investigation, we'll download a data set of vaccine effectiveness in Israel through mid-summer 2021. The proportions of illness and vaccinations in the data set are real. Israel was mostly vaccinated using the Pfizer vaccine, and was one of the first places where lots of data on the Delta variant was gathered."
   ]
  },
  {
   "cell_type": "code",
   "execution_count": 500,
   "metadata": {},
   "outputs": [],
   "source": [
    "# download Israeli covid vaccinations data from the ☁️\n",
    "if not pathlib.Path('./data/israel.csv').exists():\n",
    "    urllib.request.urlretrieve(\n",
    "        'https://f000.backblazeb2.com/file/dsc-data/covid-israel/israel.csv',\n",
    "        './data/israel.csv'\n",
    "    )"
   ]
  },
  {
   "cell_type": "code",
   "execution_count": 501,
   "metadata": {},
   "outputs": [
    {
     "data": {
      "text/html": [
       "<div>\n",
       "<style scoped>\n",
       "    .dataframe tbody tr th:only-of-type {\n",
       "        vertical-align: middle;\n",
       "    }\n",
       "\n",
       "    .dataframe tbody tr th {\n",
       "        vertical-align: top;\n",
       "    }\n",
       "\n",
       "    .dataframe thead th {\n",
       "        text-align: right;\n",
       "    }\n",
       "</style>\n",
       "<table border=\"1\" class=\"dataframe\">\n",
       "  <thead>\n",
       "    <tr style=\"text-align: right;\">\n",
       "      <th></th>\n",
       "      <th>Age</th>\n",
       "      <th>Vaccinated</th>\n",
       "      <th>Severe Sickness</th>\n",
       "    </tr>\n",
       "  </thead>\n",
       "  <tbody>\n",
       "    <tr>\n",
       "      <th>0</th>\n",
       "      <td>23</td>\n",
       "      <td>1</td>\n",
       "      <td>0</td>\n",
       "    </tr>\n",
       "    <tr>\n",
       "      <th>1</th>\n",
       "      <td>60</td>\n",
       "      <td>1</td>\n",
       "      <td>0</td>\n",
       "    </tr>\n",
       "    <tr>\n",
       "      <th>2</th>\n",
       "      <td>43</td>\n",
       "      <td>1</td>\n",
       "      <td>0</td>\n",
       "    </tr>\n",
       "    <tr>\n",
       "      <th>3</th>\n",
       "      <td>40</td>\n",
       "      <td>1</td>\n",
       "      <td>0</td>\n",
       "    </tr>\n",
       "    <tr>\n",
       "      <th>4</th>\n",
       "      <td>71</td>\n",
       "      <td>1</td>\n",
       "      <td>0</td>\n",
       "    </tr>\n",
       "    <tr>\n",
       "      <th>...</th>\n",
       "      <td>...</td>\n",
       "      <td>...</td>\n",
       "      <td>...</td>\n",
       "    </tr>\n",
       "    <tr>\n",
       "      <th>6937537</th>\n",
       "      <td>14</td>\n",
       "      <td>1</td>\n",
       "      <td>0</td>\n",
       "    </tr>\n",
       "    <tr>\n",
       "      <th>6937538</th>\n",
       "      <td>30</td>\n",
       "      <td>1</td>\n",
       "      <td>0</td>\n",
       "    </tr>\n",
       "    <tr>\n",
       "      <th>6937539</th>\n",
       "      <td>18</td>\n",
       "      <td>0</td>\n",
       "      <td>0</td>\n",
       "    </tr>\n",
       "    <tr>\n",
       "      <th>6937540</th>\n",
       "      <td>45</td>\n",
       "      <td>1</td>\n",
       "      <td>0</td>\n",
       "    </tr>\n",
       "    <tr>\n",
       "      <th>6937541</th>\n",
       "      <td>27</td>\n",
       "      <td>1</td>\n",
       "      <td>0</td>\n",
       "    </tr>\n",
       "  </tbody>\n",
       "</table>\n",
       "<p>6937542 rows × 3 columns</p>\n",
       "</div>"
      ],
      "text/plain": [
       "        Age  Vaccinated  Severe Sickness\n",
       "0        23           1                0\n",
       "1        60           1                0\n",
       "2        43           1                0\n",
       "3        40           1                0\n",
       "4        71           1                0\n",
       "...      ..         ...              ...\n",
       "6937537  14           1                0\n",
       "6937538  30           1                0\n",
       "6937539  18           0                0\n",
       "6937540  45           1                0\n",
       "6937541  27           1                0\n",
       "\n",
       "[6937542 rows x 3 columns]"
      ]
     },
     "execution_count": 501,
     "metadata": {},
     "output_type": "execute_result"
    }
   ],
   "source": [
    "israel_raw = pd.read_csv('data/israel.csv')\n",
    "israel_raw"
   ]
  },
  {
   "cell_type": "markdown",
   "metadata": {},
   "source": [
    "Each row in the data set is a person. Some are vaccinated (marked with a 1 in the \"Vaccinated\" column), and some became severely ill (marked with a 1 in the \"Severe Sickness\" column).\n",
    "\n",
    "As always, we first check that the data is clean."
   ]
  },
  {
   "cell_type": "code",
   "execution_count": 502,
   "metadata": {},
   "outputs": [
    {
     "name": "stdout",
     "output_type": "stream",
     "text": [
      "<class 'pandas.core.frame.DataFrame'>\n",
      "RangeIndex: 6937542 entries, 0 to 6937541\n",
      "Data columns (total 3 columns):\n",
      " #   Column           Dtype \n",
      "---  ------           ----- \n",
      " 0   Age              object\n",
      " 1   Vaccinated       int64 \n",
      " 2   Severe Sickness  int64 \n",
      "dtypes: int64(2), object(1)\n",
      "memory usage: 158.8+ MB\n"
     ]
    }
   ],
   "source": [
    "israel_raw.info()"
   ]
  },
  {
   "cell_type": "markdown",
   "metadata": {},
   "source": [
    "**Question 6**. *(Checkpoint Question)* If you look at the types of each column in `israel_raw`, you'll see that the \"Age\" column has a dtype of `object`. If you investigate further, you will see that a special value has been used to indicate that some ages are missing. Write a function named `clean_israel_data` that accepts a data frame like `israel_raw` and returns a *new* dataframe where the missing values are replaced by NaNs and the \"Age\" column's data type is `float`. Furthermore, the \"Vaccinated\" and \"Severe Sickness\" columns should be stored as bools. The shape of the returned data frame should be the same as `israel_raw`, and, as usual, your function should not modify the input argument."
   ]
  },
  {
   "cell_type": "code",
   "execution_count": 503,
   "metadata": {
    "tags": []
   },
   "outputs": [],
   "source": [
    "def clean_israel_data(israel_raw):\n",
    "    sol = israel_raw.copy()\n",
    "    sol = sol.replace({\"-\": np.NaN, 1: True, 0: False})\n",
    "    sol[\"Age\"] = sol[\"Age\"].astype(float)\n",
    "    return sol"
   ]
  },
  {
   "cell_type": "code",
   "execution_count": 504,
   "metadata": {},
   "outputs": [
    {
     "data": {
      "text/html": [
       "<div>\n",
       "<style scoped>\n",
       "    .dataframe tbody tr th:only-of-type {\n",
       "        vertical-align: middle;\n",
       "    }\n",
       "\n",
       "    .dataframe tbody tr th {\n",
       "        vertical-align: top;\n",
       "    }\n",
       "\n",
       "    .dataframe thead th {\n",
       "        text-align: right;\n",
       "    }\n",
       "</style>\n",
       "<table border=\"1\" class=\"dataframe\">\n",
       "  <thead>\n",
       "    <tr style=\"text-align: right;\">\n",
       "      <th></th>\n",
       "      <th>Age</th>\n",
       "      <th>Vaccinated</th>\n",
       "      <th>Severe Sickness</th>\n",
       "    </tr>\n",
       "  </thead>\n",
       "  <tbody>\n",
       "    <tr>\n",
       "      <th>0</th>\n",
       "      <td>23.0</td>\n",
       "      <td>True</td>\n",
       "      <td>False</td>\n",
       "    </tr>\n",
       "    <tr>\n",
       "      <th>1</th>\n",
       "      <td>60.0</td>\n",
       "      <td>True</td>\n",
       "      <td>False</td>\n",
       "    </tr>\n",
       "    <tr>\n",
       "      <th>2</th>\n",
       "      <td>43.0</td>\n",
       "      <td>True</td>\n",
       "      <td>False</td>\n",
       "    </tr>\n",
       "    <tr>\n",
       "      <th>3</th>\n",
       "      <td>40.0</td>\n",
       "      <td>True</td>\n",
       "      <td>False</td>\n",
       "    </tr>\n",
       "    <tr>\n",
       "      <th>4</th>\n",
       "      <td>71.0</td>\n",
       "      <td>True</td>\n",
       "      <td>False</td>\n",
       "    </tr>\n",
       "    <tr>\n",
       "      <th>...</th>\n",
       "      <td>...</td>\n",
       "      <td>...</td>\n",
       "      <td>...</td>\n",
       "    </tr>\n",
       "    <tr>\n",
       "      <th>6937537</th>\n",
       "      <td>14.0</td>\n",
       "      <td>True</td>\n",
       "      <td>False</td>\n",
       "    </tr>\n",
       "    <tr>\n",
       "      <th>6937538</th>\n",
       "      <td>30.0</td>\n",
       "      <td>True</td>\n",
       "      <td>False</td>\n",
       "    </tr>\n",
       "    <tr>\n",
       "      <th>6937539</th>\n",
       "      <td>18.0</td>\n",
       "      <td>False</td>\n",
       "      <td>False</td>\n",
       "    </tr>\n",
       "    <tr>\n",
       "      <th>6937540</th>\n",
       "      <td>45.0</td>\n",
       "      <td>True</td>\n",
       "      <td>False</td>\n",
       "    </tr>\n",
       "    <tr>\n",
       "      <th>6937541</th>\n",
       "      <td>27.0</td>\n",
       "      <td>True</td>\n",
       "      <td>False</td>\n",
       "    </tr>\n",
       "  </tbody>\n",
       "</table>\n",
       "<p>6937542 rows × 3 columns</p>\n",
       "</div>"
      ],
      "text/plain": [
       "          Age  Vaccinated  Severe Sickness\n",
       "0        23.0        True            False\n",
       "1        60.0        True            False\n",
       "2        43.0        True            False\n",
       "3        40.0        True            False\n",
       "4        71.0        True            False\n",
       "...       ...         ...              ...\n",
       "6937537  14.0        True            False\n",
       "6937538  30.0        True            False\n",
       "6937539  18.0       False            False\n",
       "6937540  45.0        True            False\n",
       "6937541  27.0        True            False\n",
       "\n",
       "[6937542 rows x 3 columns]"
      ]
     },
     "execution_count": 504,
     "metadata": {},
     "output_type": "execute_result"
    }
   ],
   "source": [
    "# run this to see the result, and don't change this cell -- it is used by the tests\n",
    "israel = clean_israel_data(israel_raw)\n",
    "israel"
   ]
  },
  {
   "cell_type": "code",
   "execution_count": 505,
   "metadata": {
    "deletable": false,
    "editable": false
   },
   "outputs": [
    {
     "data": {
      "text/html": [
       "<p><strong><pre style='display: inline;'>q6</pre></strong> passed!</p>"
      ],
      "text/plain": [
       "q6 results: All test cases passed!"
      ]
     },
     "execution_count": 505,
     "metadata": {},
     "output_type": "execute_result"
    }
   ],
   "source": [
    "grader.check(\"q6\")"
   ]
  },
  {
   "cell_type": "markdown",
   "metadata": {},
   "source": [
    "We now need to decide what to do with the missing values. Can we simply drop those rows? First, let's look at whether the missing values might be MCAR, NMAR, missing by design, etc. We'll first check to see if the distribution of the other columns differs depending on whether the ages are missing or not:"
   ]
  },
  {
   "cell_type": "code",
   "execution_count": 506,
   "metadata": {},
   "outputs": [
    {
     "data": {
      "text/html": [
       "<div>\n",
       "<style scoped>\n",
       "    .dataframe tbody tr th:only-of-type {\n",
       "        vertical-align: middle;\n",
       "    }\n",
       "\n",
       "    .dataframe tbody tr th {\n",
       "        vertical-align: top;\n",
       "    }\n",
       "\n",
       "    .dataframe thead th {\n",
       "        text-align: right;\n",
       "    }\n",
       "</style>\n",
       "<table border=\"1\" class=\"dataframe\">\n",
       "  <thead>\n",
       "    <tr style=\"text-align: right;\">\n",
       "      <th></th>\n",
       "      <th>Age</th>\n",
       "      <th>Vaccinated</th>\n",
       "      <th>Severe Sickness</th>\n",
       "    </tr>\n",
       "    <tr>\n",
       "      <th>Age</th>\n",
       "      <th></th>\n",
       "      <th></th>\n",
       "      <th></th>\n",
       "    </tr>\n",
       "  </thead>\n",
       "  <tbody>\n",
       "    <tr>\n",
       "      <th>False</th>\n",
       "      <td>41.036</td>\n",
       "      <td>0.812204</td>\n",
       "      <td>0.000074</td>\n",
       "    </tr>\n",
       "    <tr>\n",
       "      <th>True</th>\n",
       "      <td>NaN</td>\n",
       "      <td>0.805164</td>\n",
       "      <td>0.000000</td>\n",
       "    </tr>\n",
       "  </tbody>\n",
       "</table>\n",
       "</div>"
      ],
      "text/plain": [
       "          Age  Vaccinated  Severe Sickness\n",
       "Age                                       \n",
       "False  41.036    0.812204         0.000074\n",
       "True      NaN    0.805164         0.000000"
      ]
     },
     "execution_count": 506,
     "metadata": {},
     "output_type": "execute_result"
    }
   ],
   "source": [
    "israel.groupby(israel['Age'].isna()).mean()"
   ]
  },
  {
   "cell_type": "markdown",
   "metadata": {},
   "source": [
    "**Question 7**. Because the vaccination rate and severe sickness rate appear to be about the same, whether or not \"Age\" is missing, we hypothesize that \"Age\" is MCAR (missing completely at random). To check, write a function named `mcar_permutation_tests` that accepts two arguments -- a dataframe like `israel` and a number `n_permutations` of permutations -- and runs the two permutation tests described below. Your function should return a 2-tuple where the first entry is an array of the simulated test statistics for the first permutation test, and the second entry is an array of simulated test statistics for the second permutation test.\n",
    "\n",
    "The first permutation test should check the null hypothesis that values in the \"Vaccinated\" column for rows where the \"Age\" was missing were drawn from the same distribution as the values in rows where \"Age\" was not missing. The alternative hypothesis should be that they were drawn from *different* distributions. As your test statistic, use the difference in group means. The second permutation test should do the same, but for the \"Severe Sickness\" column.\n",
    "\n",
    "*Note*: your code should finish in lest than two minutes when called with `n_permutations=100`.\n",
    "\n",
    "Lastly, create a function named `missingness_type` that takes no arguments and returns a single integer corresponding to the option below that you think describes the type of missingess in this data:\n",
    "\n",
    "1. MCAR (Missing completely at random)\n",
    "2. MAR (Missing at random)\n",
    "3. NMAR (Not missing at random)\n",
    "4. Missing by design"
   ]
  },
  {
   "cell_type": "code",
   "execution_count": 507,
   "metadata": {
    "tags": []
   },
   "outputs": [],
   "source": [
    "def mcar_permutation_tests(israel, n_permutations):\n",
    "    temp = israel.copy()\n",
    "    test1 = np.array([])\n",
    "    test2 = np.array([])\n",
    "    for i in range(n_permutations):\n",
    "        sampled = temp[\"Age\"].sample(frac = 1, replace = False).reset_index(drop = True)\n",
    "        shuffled = temp.assign(**{\"Age\": sampled})\n",
    "        \n",
    "        group_shuffle = shuffled.groupby(shuffled[\"Age\"].isna()).mean()\n",
    "        test1 = np.append(test1, group_shuffle.iloc[:,1][0] - group_shuffle.iloc[:,1][1])\n",
    "        test2 = np.append(test2, group_shuffle.iloc[:,2][0] - group_shuffle.iloc[:,2][1])\n",
    "    \n",
    "    return (test1, test2)\n",
    "    "
   ]
  },
  {
   "cell_type": "code",
   "execution_count": 508,
   "metadata": {
    "tags": []
   },
   "outputs": [],
   "source": [
    "def missingness_type():\n",
    "    return 1"
   ]
  },
  {
   "cell_type": "code",
   "execution_count": 509,
   "metadata": {},
   "outputs": [],
   "source": [
    "# run this to see the result, and don't change this cell -- it is used by the tests\n",
    "test_stats_vax, test_stats_sick = mcar_permutation_tests(israel, 100)"
   ]
  },
  {
   "cell_type": "code",
   "execution_count": 510,
   "metadata": {
    "deletable": false,
    "editable": false
   },
   "outputs": [
    {
     "data": {
      "text/html": [
       "<p><strong><pre style='display: inline;'>q7</pre></strong> passed!</p>"
      ],
      "text/plain": [
       "q7 results: All test cases passed!"
      ]
     },
     "execution_count": 510,
     "metadata": {},
     "output_type": "execute_result"
    }
   ],
   "source": [
    "grader.check(\"q7\")"
   ]
  },
  {
   "cell_type": "markdown",
   "metadata": {},
   "source": [
    "Let's proceed by simply dropping the rows with missing values:"
   ]
  },
  {
   "cell_type": "code",
   "execution_count": 511,
   "metadata": {},
   "outputs": [],
   "source": [
    "vax = israel.dropna()"
   ]
  },
  {
   "cell_type": "markdown",
   "metadata": {},
   "source": [
    "**Question 8**. *(Checkpoint Question)* Write a function, `effectiveness`, that accepts a dataframe like `vax` above, and returns the effectiveness of the vaccine against severe illness."
   ]
  },
  {
   "cell_type": "code",
   "execution_count": 512,
   "metadata": {
    "tags": []
   },
   "outputs": [],
   "source": [
    "def effectiveness(vax):\n",
    "    if vax[vax[\"Vaccinated\"] == True].shape[0] == 0:\n",
    "        return np.NaN\n",
    "\n",
    "    if vax[vax[\"Vaccinated\"] == False].shape[0] == 0:\n",
    "        return np.NaN\n",
    "\n",
    "    pv = vax[(vax[\"Vaccinated\"] == True) & (vax[\"Severe Sickness\"] == True)].shape[0] / vax[vax[\"Vaccinated\"] == True].shape[0]\n",
    "    pu = vax[(vax[\"Vaccinated\"] == False) & (vax[\"Severe Sickness\"] == True)].shape[0] / vax[vax[\"Vaccinated\"] == False].shape[0]\n",
    "\n",
    "    if pu == 0.0:\n",
    "        return np.NaN\n",
    "    else:\n",
    "        return (1 - pv/pu)"
   ]
  },
  {
   "cell_type": "code",
   "execution_count": 513,
   "metadata": {},
   "outputs": [
    {
     "data": {
      "text/plain": [
       "0.6747820515830074"
      ]
     },
     "execution_count": 513,
     "metadata": {},
     "output_type": "execute_result"
    }
   ],
   "source": [
    "# run this to see the result, and don't change this cell -- it is used by the tests\n",
    "eff_overall = effectiveness(vax)\n",
    "eff_overall"
   ]
  },
  {
   "cell_type": "code",
   "execution_count": 514,
   "metadata": {
    "deletable": false,
    "editable": false
   },
   "outputs": [
    {
     "data": {
      "text/html": [
       "<p><strong><pre style='display: inline;'>q8</pre></strong> passed!</p>"
      ],
      "text/plain": [
       "q8 results: All test cases passed!"
      ]
     },
     "execution_count": 514,
     "metadata": {},
     "output_type": "execute_result"
    }
   ],
   "source": [
    "grader.check(\"q8\")"
   ]
  },
  {
   "cell_type": "markdown",
   "metadata": {},
   "source": [
    "If you coded your function right, you should see a vaccine effectiveness in the 60s. This is OK, but not great! It means that the vaccine is only around 60-70% effective at preventing severe illness overall.\n",
    "\n",
    "But remember Simpson's Paradox, which roughly says that sometimes a result that appears in aggregated data disappears when we look at disaggregated data. So let's disaggregate the data and perform the same calculation. That is, let's compute the effectiveness of the vaccine within each of several age groups. For convenience, here is a list of the age groups we'll consider:"
   ]
  },
  {
   "cell_type": "code",
   "execution_count": 515,
   "metadata": {},
   "outputs": [],
   "source": [
    "AGE_GROUPS = [\n",
    "    '12-15',\n",
    "    '16-19',\n",
    "    '20-29',\n",
    "    '30-39',\n",
    "    '40-49',\n",
    "    '50-59',\n",
    "    '60-69',\n",
    "    '70-79',\n",
    "    '80-89',\n",
    "    '90-'\n",
    "]"
   ]
  },
  {
   "cell_type": "markdown",
   "metadata": {},
   "source": [
    "Each string above lists an age group. For example, the age group `12-15` should contain anyone aged 12, 13, 14, or 15. The last age group, '90-', denotes everyone who is 90 or above."
   ]
  },
  {
   "cell_type": "markdown",
   "metadata": {},
   "source": [
    "**Question 9**. Write a function named `stratified_effectiveness` that accepts one argument -- a dataframe like `vax` -- and returns the effectiveness of the vaccine within each of the age groups in `AGE_GROUPS`. The return value of the function should be a Series of the same length as `AGE_GROUPS`, with the index of the series being the age group as a string."
   ]
  },
  {
   "cell_type": "code",
   "execution_count": 516,
   "metadata": {},
   "outputs": [
    {
     "data": {
      "text/html": [
       "<div>\n",
       "<style scoped>\n",
       "    .dataframe tbody tr th:only-of-type {\n",
       "        vertical-align: middle;\n",
       "    }\n",
       "\n",
       "    .dataframe tbody tr th {\n",
       "        vertical-align: top;\n",
       "    }\n",
       "\n",
       "    .dataframe thead th {\n",
       "        text-align: right;\n",
       "    }\n",
       "</style>\n",
       "<table border=\"1\" class=\"dataframe\">\n",
       "  <thead>\n",
       "    <tr style=\"text-align: right;\">\n",
       "      <th></th>\n",
       "      <th>Age</th>\n",
       "      <th>Vaccinated</th>\n",
       "      <th>Severe Sickness</th>\n",
       "    </tr>\n",
       "  </thead>\n",
       "  <tbody>\n",
       "    <tr>\n",
       "      <th>0</th>\n",
       "      <td>23.0</td>\n",
       "      <td>True</td>\n",
       "      <td>False</td>\n",
       "    </tr>\n",
       "    <tr>\n",
       "      <th>1</th>\n",
       "      <td>60.0</td>\n",
       "      <td>True</td>\n",
       "      <td>False</td>\n",
       "    </tr>\n",
       "    <tr>\n",
       "      <th>2</th>\n",
       "      <td>43.0</td>\n",
       "      <td>True</td>\n",
       "      <td>False</td>\n",
       "    </tr>\n",
       "    <tr>\n",
       "      <th>3</th>\n",
       "      <td>40.0</td>\n",
       "      <td>True</td>\n",
       "      <td>False</td>\n",
       "    </tr>\n",
       "    <tr>\n",
       "      <th>4</th>\n",
       "      <td>71.0</td>\n",
       "      <td>True</td>\n",
       "      <td>False</td>\n",
       "    </tr>\n",
       "    <tr>\n",
       "      <th>...</th>\n",
       "      <td>...</td>\n",
       "      <td>...</td>\n",
       "      <td>...</td>\n",
       "    </tr>\n",
       "    <tr>\n",
       "      <th>6937537</th>\n",
       "      <td>14.0</td>\n",
       "      <td>True</td>\n",
       "      <td>False</td>\n",
       "    </tr>\n",
       "    <tr>\n",
       "      <th>6937538</th>\n",
       "      <td>30.0</td>\n",
       "      <td>True</td>\n",
       "      <td>False</td>\n",
       "    </tr>\n",
       "    <tr>\n",
       "      <th>6937539</th>\n",
       "      <td>18.0</td>\n",
       "      <td>False</td>\n",
       "      <td>False</td>\n",
       "    </tr>\n",
       "    <tr>\n",
       "      <th>6937540</th>\n",
       "      <td>45.0</td>\n",
       "      <td>True</td>\n",
       "      <td>False</td>\n",
       "    </tr>\n",
       "    <tr>\n",
       "      <th>6937541</th>\n",
       "      <td>27.0</td>\n",
       "      <td>True</td>\n",
       "      <td>False</td>\n",
       "    </tr>\n",
       "  </tbody>\n",
       "</table>\n",
       "<p>6928170 rows × 3 columns</p>\n",
       "</div>"
      ],
      "text/plain": [
       "          Age  Vaccinated  Severe Sickness\n",
       "0        23.0        True            False\n",
       "1        60.0        True            False\n",
       "2        43.0        True            False\n",
       "3        40.0        True            False\n",
       "4        71.0        True            False\n",
       "...       ...         ...              ...\n",
       "6937537  14.0        True            False\n",
       "6937538  30.0        True            False\n",
       "6937539  18.0       False            False\n",
       "6937540  45.0        True            False\n",
       "6937541  27.0        True            False\n",
       "\n",
       "[6928170 rows x 3 columns]"
      ]
     },
     "execution_count": 516,
     "metadata": {},
     "output_type": "execute_result"
    }
   ],
   "source": [
    "vax"
   ]
  },
  {
   "cell_type": "code",
   "execution_count": 517,
   "metadata": {
    "tags": []
   },
   "outputs": [],
   "source": [
    "def stratified_effectiveness(vax):\n",
    "    complete = vax.copy()\n",
    "    sol = list()\n",
    "    ages = list()\n",
    "    for i in AGE_GROUPS:\n",
    "        min_val = int(i[:i.index(\"-\")])\n",
    "        \n",
    "        if i[-1] != \"-\":\n",
    "            ages.append((min_val, int(i[i.index(\"-\") + 1:])))\n",
    "        else:\n",
    "            ages.append((min_val, float(\"inf\")))\n",
    "    \n",
    "    for i in ages:\n",
    "        temp = complete[(complete[\"Age\"] >= i[0]) & (i[1] >= complete[\"Age\"])]\n",
    "        sol.append(effectiveness(temp))\n",
    "        \n",
    "    return pd.Series(sol, index = AGE_GROUPS)\n",
    "\n",
    "#stratified_effectiveness(vax)"
   ]
  },
  {
   "cell_type": "code",
   "execution_count": 518,
   "metadata": {},
   "outputs": [
    {
     "data": {
      "text/plain": [
       "12-15    1.000000\n",
       "16-19    1.000000\n",
       "20-29    1.000000\n",
       "30-39    0.966591\n",
       "40-49    0.941211\n",
       "50-59    0.926886\n",
       "60-69    0.886400\n",
       "70-79    0.895772\n",
       "80-89    0.810277\n",
       "90-      0.924404\n",
       "dtype: float64"
      ]
     },
     "execution_count": 518,
     "metadata": {},
     "output_type": "execute_result"
    }
   ],
   "source": [
    "# run this to see the result, and don't change this cell -- it is used by the tests\n",
    "s_eff = stratified_effectiveness(vax)\n",
    "s_eff"
   ]
  },
  {
   "cell_type": "code",
   "execution_count": 519,
   "metadata": {
    "deletable": false,
    "editable": false
   },
   "outputs": [
    {
     "data": {
      "text/html": [
       "<p><strong><pre style='display: inline;'>q9</pre></strong> passed!</p>"
      ],
      "text/plain": [
       "q9 results: All test cases passed!"
      ]
     },
     "execution_count": 519,
     "metadata": {},
     "output_type": "execute_result"
    }
   ],
   "source": [
    "grader.check(\"q9\")"
   ]
  },
  {
   "cell_type": "markdown",
   "metadata": {},
   "source": [
    "If done correctly, you should notice that the effectiveness of the vaccine within each age group is higher than the overall effectiveness. In fact, the effectiveness of every age group is above 80%, and most age groups are around 90% or more.\n",
    "\n",
    "This is an instance of Simpson's Paradox. This result might seem strange, or even impossible -- how can *every one* of the age groups see a higher effectiveness rate than the overall effectiveness rate? We'll take a deeper look at this in the next question, but for now let's consider a slightly different scenario where we can give dosages of a vaccine on a scale, so that some people can receive more vaccine than others. We expect that the higher a dosage someone receives, the less sick they become. But suppose we plot the data and we see something like this:\n",
    "\n",
    "<img src=\"./data/simpsons-aggregated.svg\">\n",
    "\n",
    "It actually looks like the more dosage someone receives, the more sick they get! But suppose we were to *disaggregate* the data into two age groups -- old and young. That is, let's look at the same plot, but now mark young people as red and older people as purple. We might see this:\n",
    "\n",
    "<img src=\"./data/simpsons.svg\">\n",
    "\n",
    "Now we see a different story: the larger the dosage, the less the sickness within each age group. Therefore, while the overall trend is a *positive* relationship between dosage and sickness, the within-group trends are all negative, as we'd hope. The reason for this difference comes from the fact that, for each dosage level, the sickness rate of older people is greater than the sickness rate for younger people.\n",
    "\n",
    "If our data gives different answers depending on how we aggregate it, which answer should we use? In this case, we don't care about overall effectiveness -- we care about how effective the vaccine will be for an *individual*. The data shows that, no matter what your age, unvaccinated people are ten times as likely to develop severe illness than vaccinated people, and it shows that the vaccine's effectiveness against severe illness is still quite strong."
   ]
  },
  {
   "cell_type": "markdown",
   "metadata": {},
   "source": [
    "The plots above may help to understand Simpson's Paradox a little bit more, but it may still be unclear how each age group's effectiveness rate can be higher than the overall effectiveness rate. To explore this in more depth, we'll build a calculator that takes in several parameters and calculates three effectivenesses: the overall, aggregate effectiveness, the effectiveness among young people, and the effectiveness among old people. For simplicity, we'll assume that there are just as many old people as young people.\n",
    "\n",
    "To calculate these effectivenesses, you need to know six numbers:\n",
    "\n",
    "1. The percentage of young people that are vaccinated.\n",
    "2. The percentage of old people that are vaccinated.\n",
    "3. The probability that a young vaccinated person will be hospitalized\n",
    "4. The probability that a young *un*vaccinated person will be hospitalized\n",
    "5. The probability that an old vaccinated person will be hospitalized\n",
    "6. The probability that an old *un*vaccinated person will be hospitalized\n",
    "\n",
    "Given these six pieces of information, you can calculate the overall effectiveness, the effectiveness in young people, and the effectiveness in old people. One approach is to use the probability theory you learned in DSC 40A (specifically, your knowledge of conditional probabilities). Another approach is to fix concrete numbers -- say, assume that there are 1000 old people and 1000 young people -- and calculate the effectivenesses with these concrete numbers. For instance, if you want to calculated the effectiveness of the vaccine in young people, you newed to know how many young vaccinated people are severely ill and how many young unvaccinated people are severely ill. If you're told that 20% of young people are vaccinated, and that a young vaccinated person has a 10% chance of severe illness, then it means that 200 young people are vaccinated and 10% of them (20 people) are severely ill. You can do the same to find the number of young unvaccinated people that are severely ill, and then combine this information to compute effectiveness in young people.\n",
    "\n",
    "*Hint*: working with concrete numbers like this *is* using probability theory, just with extra steps. But it might be less abstract and easier to reason about."
   ]
  },
  {
   "cell_type": "markdown",
   "metadata": {},
   "source": [
    "**Question 10**.  *(Checkpoint Question)* Create a function that takes in the six numbers above and outputs the effectivenesses. This will allow you to experiment with Simpson's Paradox by plugging in different values and seeing what happens. Create a function named `effectiveness_calculator` that accepts 6 arguments:\n",
    "\n",
    "1. `young_vaccinated_pct`: The percentage of young people that are vaccinated.\n",
    "2. `old_vaccinated_pct`: The percentage of old people that are vaccinated.\n",
    "3. `young_risk_vaccinated`: The probability that a young vaccinated person will be hospitalized\n",
    "4. `young_risk_unvaccinated`: The probability that a young *un*vaccinated person will be hospitalized\n",
    "5. `old_risk_vaccinated`: The probability that an old vaccinated person will be hospitalized\n",
    "6. `old_risk_unvaccinated`: The probability that an old *un*vaccinated person will be hospitalized\n",
    "\n",
    "It should return a `dict` with three keys: `Overall`, `Young`, and `Old`, whose values are the overall effectiveness, the effectiveness within young people, and the effectiveness within old people, respectively.\n",
    "\n",
    "*Note*: all percentages and probabilities should be decimals between 0 and 1."
   ]
  },
  {
   "cell_type": "code",
   "execution_count": 520,
   "metadata": {
    "tags": []
   },
   "outputs": [],
   "source": [
    "def effectiveness_calculator(young_vaccinated_pct, old_vaccinated_pct, young_risk_vaccinated, young_risk_unvaccinated, old_risk_vaccinated, old_risk_unvaccinated):\n",
    "    young = (young_risk_unvaccinated - young_risk_vaccinated) / young_risk_unvaccinated\n",
    "    old = (old_risk_unvaccinated - old_risk_vaccinated) / old_risk_unvaccinated\n",
    "    vax_risk = (young_risk_vaccinated * young_vaccinated_pct + old_vaccinated_pct * old_risk_vaccinated)\n",
    "    unvax_risk = (young_risk_unvaccinated * (1 - young_vaccinated_pct) + (1 - old_vaccinated_pct) * old_risk_unvaccinated) / (old_vaccinated_pct + young_vaccinated_pct)\n",
    "    overall = (unvax_risk - vax_risk) / unvax_risk\n",
    "    \n",
    "    return {'Overall': overall, 'Young': young, 'Old': old}"
   ]
  },
  {
   "cell_type": "code",
   "execution_count": 521,
   "metadata": {},
   "outputs": [
    {
     "data": {
      "text/plain": [
       "{'Overall': 0.5118226600985222, 'Young': 0.95, 'Old': 0.8}"
      ]
     },
     "execution_count": 521,
     "metadata": {},
     "output_type": "execute_result"
    }
   ],
   "source": [
    "# run this to see the result, and don't change this cell -- it is used by the tests\n",
    "eff_example = effectiveness_calculator(\n",
    "    young_vaccinated_pct=.01,\n",
    "    old_vaccinated_pct=.99,\n",
    "    young_risk_vaccinated=.01,\n",
    "    young_risk_unvaccinated=.20,\n",
    "    old_risk_vaccinated=.10,\n",
    "    old_risk_unvaccinated=.50\n",
    ")\n",
    "eff_example"
   ]
  },
  {
   "cell_type": "code",
   "execution_count": 522,
   "metadata": {
    "deletable": false,
    "editable": false
   },
   "outputs": [
    {
     "data": {
      "text/html": [
       "<p><strong><pre style='display: inline;'>q10</pre></strong> passed!</p>"
      ],
      "text/plain": [
       "q10 results: All test cases passed!"
      ]
     },
     "execution_count": 522,
     "metadata": {},
     "output_type": "execute_result"
    }
   ],
   "source": [
    "grader.check(\"q10\")"
   ]
  },
  {
   "cell_type": "markdown",
   "metadata": {},
   "source": [
    "It might be helpful to think about the result of your effectiveness calculator. In the example above, we have constructed an extreme situation where essentially all older people are vaccinated, but almost no younger people are. Therefore, when calculating the overall vaccine effectiveness, we're using the probability of illness given vaccination -- which is essentially the probability of severe illness if you're old -- and comparing it to the probability of severe illness if you're unvaccinated, which is essentially the probability of severe illness if you're young.\n",
    "\n",
    "In fact, it is possible to create an example where the overall effectiveness is negative (taking the vaccine is worse than not taking it!), but where the effectiveness within groups is above 80%. The next question asks you to do just this."
   ]
  },
  {
   "cell_type": "markdown",
   "metadata": {},
   "source": [
    "**Question 11**. Create a function named `extreme_example` that accepts no arguments and returns a dictionary whose keys are the arguments to the function `effectiveness_calculator` above. When your function is called and the dictionary is passed to `effectiveness_calculator`, it should return an Overall effectiveness that is negative and a Young and Old effectiveness of >80% each."
   ]
  },
  {
   "cell_type": "code",
   "execution_count": 523,
   "metadata": {
    "tags": []
   },
   "outputs": [],
   "source": [
    "def extreme_example():\n",
    "    keys = [\"young_vaccinated_pct\", \"old_vaccinated_pct\", \"young_risk_vaccinated\", \"young_risk_unvaccinated\", \"old_risk_vaccinated\", \"old_risk_unvaccinated\"]\n",
    "    #vals = [0.90, 0.90, 0.05, 0.70, 0.10, 0.80]\n",
    "    vals = [0.90, 0.90, 0.05, 0.80, 0.10, 0.80]\n",
    "    return {keys[i]: vals[i] for i in range(len(keys))}"
   ]
  },
  {
   "cell_type": "code",
   "execution_count": 524,
   "metadata": {},
   "outputs": [
    {
     "data": {
      "text/plain": [
       "{'Overall': -0.5187500000000003, 'Young': 0.9375, 'Old': 0.875}"
      ]
     },
     "execution_count": 524,
     "metadata": {},
     "output_type": "execute_result"
    }
   ],
   "source": [
    "# run this to see the result, and don't change this cell -- it is used by the tests\n",
    "eff_extreme = effectiveness_calculator(**extreme_example())\n",
    "eff_extreme"
   ]
  },
  {
   "cell_type": "code",
   "execution_count": 525,
   "metadata": {
    "deletable": false,
    "editable": false
   },
   "outputs": [
    {
     "data": {
      "text/html": [
       "<p><strong><pre style='display: inline;'>q11</pre></strong> passed!</p>"
      ],
      "text/plain": [
       "q11 results: All test cases passed!"
      ]
     },
     "execution_count": 525,
     "metadata": {},
     "output_type": "execute_result"
    }
   ],
   "source": [
    "grader.check(\"q11\")"
   ]
  },
  {
   "cell_type": "markdown",
   "metadata": {},
   "source": [
    "# Congratulations, you finished the project!\n",
    "\n",
    "### Before you submit:\n",
    "* Be sure you run the doctests on all your code with `python -m doctest project.py`\n",
    "\n",
    "### To submit:\n",
    "* **Upload the .py file to gradescope**"
   ]
  },
  {
   "cell_type": "markdown",
   "metadata": {
    "deletable": false,
    "editable": false
   },
   "source": [
    "---\n",
    "\n",
    "To double-check your work, the cell below will rerun all of the autograder tests."
   ]
  },
  {
   "cell_type": "code",
   "execution_count": 526,
   "metadata": {
    "deletable": false,
    "editable": false
   },
   "outputs": [
    {
     "data": {
      "text/plain": [
       "q1 results: All test cases passed!\n",
       "\n",
       "q10 results: All test cases passed!\n",
       "\n",
       "q11 results: All test cases passed!\n",
       "\n",
       "q2 results: All test cases passed!\n",
       "\n",
       "q3 results: All test cases passed!\n",
       "\n",
       "q4 results: All test cases passed!\n",
       "\n",
       "q5 results: All test cases passed!\n",
       "\n",
       "q6 results: All test cases passed!\n",
       "\n",
       "q7 results: All test cases passed!\n",
       "\n",
       "q8 results: All test cases passed!\n",
       "\n",
       "q9 results: All test cases passed!"
      ]
     },
     "execution_count": 526,
     "metadata": {},
     "output_type": "execute_result"
    }
   ],
   "source": [
    "grader.check_all()"
   ]
  }
 ],
 "metadata": {
  "kernelspec": {
   "display_name": "Python 3 (ipykernel)",
   "language": "python",
   "name": "python3"
  },
  "language_info": {
   "codemirror_mode": {
    "name": "ipython",
    "version": 3
   },
   "file_extension": ".py",
   "mimetype": "text/x-python",
   "name": "python",
   "nbconvert_exporter": "python",
   "pygments_lexer": "ipython3",
   "version": "3.9.7"
  },
  "otter": {
   "tests": {
    "q1": {
     "name": "q1",
     "points": null,
     "suites": [
      {
       "cases": [
        {
         "code": ">>> is_monotonic(np.array([3, 6, 2, 8]))\nFalse",
         "hidden": false,
         "locked": false,
         "points": 0.5
        },
        {
         "code": ">>> isinstance(mono, pd.DataFrame)\nTrue",
         "hidden": false,
         "locked": false,
         "points": 0.25
        },
        {
         "code": ">>> mono.shape\n(165, 3)",
         "hidden": false,
         "locked": false,
         "points": 0.25
        },
        {
         "code": ">>> mono.loc['Venezuela', 'Doses_admin_monotonic'] == False\nTrue",
         "hidden": false,
         "locked": false,
         "points": 1
        }
       ],
       "scored": true,
       "setup": "",
       "teardown": "",
       "type": "doctest"
      }
     ]
    },
    "q10": {
     "name": "q10",
     "points": null,
     "suites": [
      {
       "cases": [
        {
         "code": ">>> isinstance(eff_example, dict)\nTrue",
         "hidden": false,
         "locked": false,
         "points": 0.25
        },
        {
         "code": ">>> eff_example.keys() == {'Overall', 'Young', 'Old'}\nTrue",
         "hidden": false,
         "locked": false,
         "points": 0.25
        },
        {
         "code": ">>> .4 < eff_example['Overall'] < .6\nTrue",
         "hidden": false,
         "locked": false,
         "points": 0.5
        },
        {
         "code": ">>> test_eff = effectiveness_calculator(young_vaccinated_pct=.5, old_vaccinated_pct=.5, young_risk_vaccinated=.01, young_risk_unvaccinated=.20, old_risk_vaccinated=.01, old_risk_unvaccinated=.20)\n>>> test_eff['Overall'] == test_eff['Young'] == test_eff['Old'] == 0.95\nTrue",
         "hidden": false,
         "locked": false,
         "points": 1
        }
       ],
       "scored": true,
       "setup": "",
       "teardown": "",
       "type": "doctest"
      }
     ]
    },
    "q11": {
     "name": "q11",
     "points": null,
     "suites": [
      {
       "cases": [
        {
         "code": ">>> isinstance(eff_extreme, dict)\nTrue",
         "hidden": false,
         "locked": false,
         "points": 0.25
        },
        {
         "code": ">>> keys = {'old_risk_unvaccinated', 'old_risk_vaccinated', 'old_vaccinated_pct', 'young_risk_unvaccinated', 'young_risk_vaccinated','young_vaccinated_pct'}\n>>> extreme_example().keys() == keys\nTrue",
         "hidden": false,
         "locked": false,
         "points": 0.25
        },
        {
         "code": ">>> eff_extreme.keys() == {'Overall', 'Young', 'Old'}\nTrue",
         "hidden": false,
         "locked": false,
         "points": 0.25
        },
        {
         "code": ">>> eff_extreme['Overall'] < 0\nTrue",
         "hidden": false,
         "locked": false,
         "points": 0.5
        }
       ],
       "scored": true,
       "setup": "",
       "teardown": "",
       "type": "doctest"
      }
     ]
    },
    "q2": {
     "name": "q2",
     "points": null,
     "suites": [
      {
       "cases": [
        {
         "code": ">>> isinstance(tots, pd.DataFrame)\nTrue",
         "hidden": false,
         "locked": false,
         "points": 0.25
        },
        {
         "code": ">>> tots.shape\n(165, 3)",
         "hidden": false,
         "locked": false,
         "points": 0.25
        },
        {
         "code": ">>> int(tots.loc['Venezuela', 'Doses_admin'])\n15714857",
         "hidden": false,
         "locked": false,
         "points": 1
        },
        {
         "code": ">>> int(tots.loc['Venezuela', 'People_partially_vaccinated'])\n9731808",
         "hidden": false,
         "locked": false,
         "points": 1
        }
       ],
       "scored": true,
       "setup": "",
       "teardown": "",
       "type": "doctest"
      }
     ]
    },
    "q3": {
     "name": "q3",
     "points": null,
     "suites": [
      {
       "cases": [
        {
         "code": ">>> isinstance(pops, pd.DataFrame)\nTrue",
         "hidden": false,
         "locked": false,
         "points": 0.25
        },
        {
         "code": ">>> pops.shape\n(235, 11)",
         "hidden": false,
         "locked": false,
         "points": 0.25
        },
        {
         "code": ">>> pops.loc[pops['Country (or dependency)'] == 'Montserrat', 'Population (2020)'].iloc[0]\n4993",
         "hidden": false,
         "locked": false,
         "points": 1
        }
       ],
       "scored": true,
       "setup": "",
       "teardown": "",
       "type": "doctest"
      }
     ]
    },
    "q4": {
     "name": "q4",
     "points": null,
     "suites": [
      {
       "cases": [
        {
         "code": ">>> len(missing)\n11",
         "hidden": false,
         "locked": false,
         "points": 0.25
        },
        {
         "code": ">>> isinstance(missing, set)\nTrue",
         "hidden": false,
         "locked": false,
         "points": 0.25
        },
        {
         "code": ">>> isinstance(pops_fixed, pd.DataFrame)\nTrue",
         "hidden": false,
         "locked": false,
         "points": 0.25
        },
        {
         "code": ">>> pops_fixed.shape\n(235, 11)",
         "hidden": false,
         "locked": false,
         "points": 0.75
        },
        {
         "code": ">>> ex_tots = pd.DataFrame({\n...             'Doses_admin': [1, 2, 3],\n...             'People_partially_vaccinated': [1, 2, 3],\n...             'People_fully_vaccinated': [1, 2, 3]\n...         },\n...         index = ['China', 'Angola', 'Republic of Data Science']\n...     )\n>>> missing_in_pops(ex_tots, pops)\n{'Republic of Data Science'}",
         "hidden": false,
         "locked": false,
         "points": 1
        },
        {
         "code": ">>> 'Burma' in pops_fixed['Country (or dependency)'].values\nTrue",
         "hidden": false,
         "locked": false,
         "points": 0.5
        },
        {
         "code": ">>> 'Myanmar' in pops_fixed['Country (or dependency)'].values\nFalse",
         "hidden": false,
         "locked": false,
         "points": 0.5
        }
       ],
       "scored": true,
       "setup": "",
       "teardown": "",
       "type": "doctest"
      }
     ]
    },
    "q5": {
     "name": "q5",
     "points": null,
     "suites": [
      {
       "cases": [
        {
         "code": ">>> top_k.shape\n(10,)",
         "hidden": false,
         "locked": false,
         "points": 0.25
        },
        {
         "code": ">>> isinstance(top_k, pd.Series)\nTrue",
         "hidden": false,
         "locked": false,
         "points": 0.25
        },
        {
         "code": ">>> top_k.index[0]\n'Malta'",
         "hidden": false,
         "locked": false,
         "points": 0.5
        },
        {
         "code": ">>> tots_sample = pd.read_csv('data/tots_sample_for_tests.csv').set_index('Country_Region')\n>>> top_k_fully_vaccinated(tots_sample, pops, 3).index[2]\n'Oman'",
         "hidden": false,
         "locked": false,
         "points": 1
        }
       ],
       "scored": true,
       "setup": "",
       "teardown": "",
       "type": "doctest"
      }
     ]
    },
    "q6": {
     "name": "q6",
     "points": null,
     "suites": [
      {
       "cases": [
        {
         "code": ">>> isinstance(israel, pd.DataFrame)\nTrue",
         "hidden": false,
         "locked": false,
         "points": 0.25
        },
        {
         "code": ">>> israel.shape\n(6937542, 3)",
         "hidden": false,
         "locked": false,
         "points": 0.25
        },
        {
         "code": ">>> str(israel.dtypes['Age'])\n'float64'",
         "hidden": false,
         "locked": false,
         "points": 1
        }
       ],
       "scored": true,
       "setup": "",
       "teardown": "",
       "type": "doctest"
      }
     ]
    },
    "q7": {
     "name": "q7",
     "points": null,
     "suites": [
      {
       "cases": [
        {
         "code": ">>> isinstance(test_stats_vax, np.ndarray) and isinstance(test_stats_sick, np.ndarray)\nTrue",
         "hidden": false,
         "locked": false,
         "points": 0.25
        },
        {
         "code": ">>> len(test_stats_vax) == len(test_stats_sick) == 100\nTrue",
         "hidden": false,
         "locked": false,
         "points": 0.5
        },
        {
         "code": ">>> missingness_type() in {1, 2, 3, 4}\nTrue",
         "hidden": false,
         "locked": false,
         "points": 0.25
        }
       ],
       "scored": true,
       "setup": "",
       "teardown": "",
       "type": "doctest"
      }
     ]
    },
    "q8": {
     "name": "q8",
     "points": null,
     "suites": [
      {
       "cases": [
        {
         "code": ">>> isinstance(eff_overall, float)\nTrue",
         "hidden": false,
         "locked": false,
         "points": 0.25
        },
        {
         "code": ">>> .6 < eff_overall < .7\nTrue",
         "hidden": false,
         "locked": false,
         "points": 0.25
        },
        {
         "code": ">>> .65 < eff_overall < .7\nTrue",
         "hidden": false,
         "locked": false,
         "points": 0.5
        },
        {
         "code": ">>> example_vax = pd.DataFrame({'Age': [15, 20, 25, 30, 35, 40], 'Vaccinated': [True, True, True, False, False, False], 'Severe Sickness': [True, False, False, False, True, True]})\n>>> effectiveness(example_vax)\n0.5",
         "hidden": false,
         "locked": false,
         "points": 1
        }
       ],
       "scored": true,
       "setup": "",
       "teardown": "",
       "type": "doctest"
      }
     ]
    },
    "q9": {
     "name": "q9",
     "points": null,
     "suites": [
      {
       "cases": [
        {
         "code": ">>> isinstance(s_eff, pd.Series)\nTrue",
         "hidden": false,
         "locked": false,
         "points": 0.25
        },
        {
         "code": ">>> len(s_eff)\n10",
         "hidden": false,
         "locked": false,
         "points": 0.25
        },
        {
         "code": ">>> s_eff.loc['12-15'] == 1.0\nTrue",
         "hidden": false,
         "locked": false,
         "points": 0.5
        }
       ],
       "scored": true,
       "setup": "",
       "teardown": "",
       "type": "doctest"
      }
     ]
    }
   }
  }
 },
 "nbformat": 4,
 "nbformat_minor": 4
}
