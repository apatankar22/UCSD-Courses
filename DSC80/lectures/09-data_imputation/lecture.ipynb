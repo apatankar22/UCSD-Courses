{
 "cells": [
  {
   "cell_type": "code",
   "execution_count": 1,
   "metadata": {
    "slideshow": {
     "slide_type": "slide"
    }
   },
   "outputs": [],
   "source": [
    "%matplotlib inline\n",
    "import pandas as pd\n",
    "import numpy as np\n",
    "import matplotlib.pyplot as plt\n",
    "import seaborn as sns\n",
    "import util"
   ]
  },
  {
   "cell_type": "markdown",
   "metadata": {
    "slideshow": {
     "slide_type": "slide"
    }
   },
   "source": [
    "# Data Imputation"
   ]
  },
  {
   "cell_type": "markdown",
   "metadata": {
    "slideshow": {
     "slide_type": "slide"
    }
   },
   "source": [
    "## Outline\n",
    "* Review: How are data missing?\n",
    "* Single Valued Imputation\n",
    "* Probabilistic Imputation (drawing from the distribution)"
   ]
  },
  {
   "cell_type": "markdown",
   "metadata": {
    "slideshow": {
     "slide_type": "slide"
    }
   },
   "source": [
    "### Review: Permutation Tests\n",
    "\n",
    "* Given two observed groups of data, are they from different distributions?\n",
    "* **Example**: Given a list of people's heights, are heights of the men vs. women significantly different?\n",
    "* Permutation test assesses the likelihood the difference in average height of each gender is significantly different."
   ]
  },
  {
   "cell_type": "code",
   "execution_count": 2,
   "metadata": {},
   "outputs": [
    {
     "data": {
      "text/html": [
       "<div>\n",
       "<style scoped>\n",
       "    .dataframe tbody tr th:only-of-type {\n",
       "        vertical-align: middle;\n",
       "    }\n",
       "\n",
       "    .dataframe tbody tr th {\n",
       "        vertical-align: top;\n",
       "    }\n",
       "\n",
       "    .dataframe thead th {\n",
       "        text-align: right;\n",
       "    }\n",
       "</style>\n",
       "<table border=\"1\" class=\"dataframe\">\n",
       "  <thead>\n",
       "    <tr style=\"text-align: right;\">\n",
       "      <th></th>\n",
       "      <th>family</th>\n",
       "      <th>father</th>\n",
       "      <th>mother</th>\n",
       "      <th>children</th>\n",
       "      <th>number</th>\n",
       "      <th>gender</th>\n",
       "      <th>child</th>\n",
       "    </tr>\n",
       "  </thead>\n",
       "  <tbody>\n",
       "    <tr>\n",
       "      <th>0</th>\n",
       "      <td>1</td>\n",
       "      <td>78.5</td>\n",
       "      <td>67.0</td>\n",
       "      <td>4</td>\n",
       "      <td>1</td>\n",
       "      <td>male</td>\n",
       "      <td>73.2</td>\n",
       "    </tr>\n",
       "    <tr>\n",
       "      <th>1</th>\n",
       "      <td>1</td>\n",
       "      <td>78.5</td>\n",
       "      <td>67.0</td>\n",
       "      <td>4</td>\n",
       "      <td>2</td>\n",
       "      <td>female</td>\n",
       "      <td>69.2</td>\n",
       "    </tr>\n",
       "    <tr>\n",
       "      <th>2</th>\n",
       "      <td>1</td>\n",
       "      <td>78.5</td>\n",
       "      <td>67.0</td>\n",
       "      <td>4</td>\n",
       "      <td>3</td>\n",
       "      <td>female</td>\n",
       "      <td>69.0</td>\n",
       "    </tr>\n",
       "    <tr>\n",
       "      <th>3</th>\n",
       "      <td>1</td>\n",
       "      <td>78.5</td>\n",
       "      <td>67.0</td>\n",
       "      <td>4</td>\n",
       "      <td>4</td>\n",
       "      <td>female</td>\n",
       "      <td>69.0</td>\n",
       "    </tr>\n",
       "    <tr>\n",
       "      <th>4</th>\n",
       "      <td>2</td>\n",
       "      <td>75.5</td>\n",
       "      <td>66.5</td>\n",
       "      <td>4</td>\n",
       "      <td>1</td>\n",
       "      <td>male</td>\n",
       "      <td>73.5</td>\n",
       "    </tr>\n",
       "  </tbody>\n",
       "</table>\n",
       "</div>"
      ],
      "text/plain": [
       "  family  father  mother  children  number  gender  child\n",
       "0      1    78.5    67.0         4       1    male   73.2\n",
       "1      1    78.5    67.0         4       2  female   69.2\n",
       "2      1    78.5    67.0         4       3  female   69.0\n",
       "3      1    78.5    67.0         4       4  female   69.0\n",
       "4      2    75.5    66.5         4       1    male   73.5"
      ]
     },
     "execution_count": 2,
     "metadata": {},
     "output_type": "execute_result"
    }
   ],
   "source": [
    "heights = pd.read_csv('./heights.csv')\n",
    "heights = (\n",
    "    heights\n",
    "    .rename(columns={'childHeight': 'child', 'childNum': 'number'})\n",
    "    .drop('midparentHeight', axis=1)\n",
    ")\n",
    "heights.head()"
   ]
  },
  {
   "cell_type": "code",
   "execution_count": 3,
   "metadata": {},
   "outputs": [
    {
     "data": {
      "image/png": "[encoded data removed]",
      "text/plain": [
       "<Figure size 432x288 with 1 Axes>"
      ]
     },
     "metadata": {
      "needs_background": "light"
     },
     "output_type": "display_data"
    }
   ],
   "source": [
    "heights.groupby('gender').child.plot(kind='kde', legend=True, title='distribution of heights by gender');"
   ]
  },
  {
   "cell_type": "code",
   "execution_count": 4,
   "metadata": {},
   "outputs": [
    {
     "data": {
      "image/png": "[encoded data removed]",
      "text/plain": [
       "<Figure size 432x288 with 1 Axes>"
      ]
     },
     "metadata": {
      "needs_background": "light"
     },
     "output_type": "display_data"
    }
   ],
   "source": [
    "distr, obs = util.permutation_test(heights, 'child',  'gender', util.diff_in_means)\n",
    "\n",
    "pd.Series(distr).plot(kind='hist', title='permutation test: heights by gender')\n",
    "plt.scatter(obs, 1, color='r', s=10);"
   ]
  },
  {
   "cell_type": "markdown",
   "metadata": {
    "slideshow": {
     "slide_type": "slide"
    }
   },
   "source": [
    "### Review: MCAR/MAR/NMAR\n",
    "\n",
    "* **MCAR**: Data is *Missing Completely at Random* if there is no relationship between the missingness of the data and any values, observed or missing.\n",
    "\n",
    "* **MAR**:  Data is *Missing at Random* if there is a systematic relationship between the propensity of missing values and the observed data, but not the missing data. \n",
    "\n",
    "* **NMAR**: Data is *Not Missing at Random* if there is a relationship between the propensity of a value to be missing and its values. "
   ]
  },
  {
   "cell_type": "markdown",
   "metadata": {},
   "source": [
    "### Review: MCAR/MAR/NMAR  + think of examples\n",
    "\n",
    "* **MCAR**: Data is *Missing Completely at Random* if \n",
    "\n",
    "* **MAR**:  Data is *Missing at Random* if \n",
    "\n",
    "* **NMAR**: Data is *Not Missing at Random* if "
   ]
  },
  {
   "cell_type": "markdown",
   "metadata": {
    "slideshow": {
     "slide_type": "slide"
    }
   },
   "source": [
    "### Example: Missingness of child height on father height (`MCAR`)\n",
    "\n",
    "* To determine if the missingness of `child` height is dependent on height of `father`:\n",
    "    - Check if the distribution of `father` heights looks the same when `child` is null vs. not-null.\n",
    "    - Use a permutation test to check this!\n",
    "* To assert that `child` is likely MCAR (unconditionally ignorable), the missingness of `child` height should *not* be dependent on *any* other column."
   ]
  },
  {
   "cell_type": "code",
   "execution_count": 5,
   "metadata": {},
   "outputs": [
    {
     "data": {
      "text/plain": [
       "family      0.0\n",
       "father      0.0\n",
       "mother      0.0\n",
       "children    0.0\n",
       "number      0.0\n",
       "gender      0.0\n",
       "child       0.5\n",
       "dtype: float64"
      ]
     },
     "execution_count": 5,
     "metadata": {},
     "output_type": "execute_result"
    }
   ],
   "source": [
    "# make an MCAR dataset\n",
    "heights_mcar = util.make_mcar(heights, 'child', pct=0.5)\n",
    "heights_mcar.isnull().mean()"
   ]
  },
  {
   "cell_type": "code",
   "execution_count": 6,
   "metadata": {},
   "outputs": [
    {
     "data": {
      "image/png": "[encoded data removed]",
      "text/plain": [
       "<Figure size 432x288 with 1 Axes>"
      ]
     },
     "metadata": {
      "needs_background": "light"
     },
     "output_type": "display_data"
    }
   ],
   "source": [
    "(\n",
    "    heights_mcar\n",
    "    .assign(is_null=heights_mcar.child.isnull())\n",
    "    .groupby('is_null')\n",
    "    .father\n",
    "    .plot(kind='kde', legend=True, title='father heights by child=NULL vs child=NOT NULL')\n",
    ");"
   ]
  },
  {
   "cell_type": "code",
   "execution_count": 7,
   "metadata": {},
   "outputs": [],
   "source": [
    "# run a permutation test\n",
    "# randomly shuffle missing/not missing\n",
    "distr, obs = util.permutation_test(\n",
    "    heights_mcar.assign(is_null=heights_mcar.child.isnull()), \n",
    "    'father',  'is_null', util.ks)"
   ]
  },
  {
   "cell_type": "code",
   "execution_count": 11,
   "metadata": {},
   "outputs": [
    {
     "name": "stdout",
     "output_type": "stream",
     "text": [
      "p-value: 0.294000\n"
     ]
    },
    {
     "data": {
      "image/png": "[encoded data removed]",
      "text/plain": [
       "<Figure size 432x288 with 1 Axes>"
      ]
     },
     "metadata": {
      "needs_background": "light"
     },
     "output_type": "display_data"
    }
   ],
   "source": [
    "pval = (distr >= obs).mean()\n",
    "print('p-value: %f' % pval)\n",
    "pd.Series(distr).plot(kind='hist', title='permutation test for father heights by child=NULL vs child=NOT NULL')\n",
    "plt.scatter(obs, 5, color='r', s=20, zorder=10);"
   ]
  },
  {
   "cell_type": "markdown",
   "metadata": {
    "slideshow": {
     "slide_type": "slide"
    }
   },
   "source": [
    "### Example: Missingness of child height on father height (Conditionally Ignorable: `MAR`)\n",
    "\n",
    "* To determine if the missingness of `child` height is dependent on height of `father`:\n",
    "    - Check if the distribution of `father` heights looks the same when `child` is null vs. not-null.\n",
    "    - Use a permutation test to check this!"
   ]
  },
  {
   "cell_type": "code",
   "execution_count": 12,
   "metadata": {},
   "outputs": [
    {
     "data": {
      "text/plain": [
       "family      0.000000\n",
       "father      0.000000\n",
       "mother      0.000000\n",
       "children    0.000000\n",
       "number      0.000000\n",
       "gender      0.000000\n",
       "child       0.749465\n",
       "dtype: float64"
      ]
     },
     "execution_count": 12,
     "metadata": {},
     "output_type": "execute_result"
    }
   ],
   "source": [
    "# dependency of the missingness on child by father\n",
    "# 75% of the data is missing\n",
    "heights_mar = util.make_mar_on_num(heights, 'child', 'father', pct=0.75)\n",
    "heights_mar.isnull().mean()"
   ]
  },
  {
   "cell_type": "code",
   "execution_count": 13,
   "metadata": {},
   "outputs": [
    {
     "data": {
      "image/png": "[encoded data removed]",
      "text/plain": [
       "<Figure size 432x288 with 1 Axes>"
      ]
     },
     "metadata": {
      "needs_background": "light"
     },
     "output_type": "display_data"
    }
   ],
   "source": [
    "(\n",
    "    heights_mar\n",
    "    .assign(is_null=heights_mar.child.isnull())\n",
    "    .groupby('is_null')\n",
    "    .father\n",
    "    .plot(kind='kde', legend=True, title='father heights by child=NULL vs child=NOT NULL')\n",
    ");\n",
    "# taller fathers are less likely to report the height if their child\n",
    "# when child hight is missing, the mean father hight is higher"
   ]
  },
  {
   "cell_type": "code",
   "execution_count": 14,
   "metadata": {},
   "outputs": [],
   "source": [
    "# if you want to predict a child height from father height\n",
    "# taller fathers tend to have taller children \n",
    "# we will underestimate the height of the children in our predictions\n",
    "# there is a pattern to the missing data: children height is missing more often \n",
    "# when fathers were tall"
   ]
  },
  {
   "cell_type": "code",
   "execution_count": 15,
   "metadata": {},
   "outputs": [],
   "source": [
    "distr, obs = util.permutation_test(\n",
    "    heights_mar.assign(is_null=heights_mar.child.isnull()), \n",
    "    'father',  'is_null', util.ks)"
   ]
  },
  {
   "cell_type": "code",
   "execution_count": 16,
   "metadata": {},
   "outputs": [
    {
     "name": "stdout",
     "output_type": "stream",
     "text": [
      "p-value: 0.000000\n"
     ]
    },
    {
     "data": {
      "image/png": "[encoded data removed]",
      "text/plain": [
       "<Figure size 432x288 with 1 Axes>"
      ]
     },
     "metadata": {
      "needs_background": "light"
     },
     "output_type": "display_data"
    }
   ],
   "source": [
    "pval = (distr >= obs).mean()\n",
    "print('p-value: %f' % pval)\n",
    "pd.Series(distr).plot(kind='hist', title='permutation test for father heights by child=NULL vs child=NOT NULL')\n",
    "plt.scatter(obs, 0, color='r', s=10);"
   ]
  },
  {
   "cell_type": "markdown",
   "metadata": {
    "slideshow": {
     "slide_type": "slide"
    }
   },
   "source": [
    "# What to do with missing data?\n"
   ]
  },
  {
   "cell_type": "markdown",
   "metadata": {
    "slideshow": {
     "slide_type": "slide"
    }
   },
   "source": [
    "## What to do with missing data?\n",
    "\n",
    "* Given a dataset $Y$ with observed values $Y_{obs}$ and missing values $Y_{mis}$.\n",
    "* $Y$ may appear quite different than $Y_{obs}$:\n",
    "    - The mean and percentile may be different.\n",
    "    - The variance may be different.\n",
    "    - Correlations between variables may be different."
   ]
  },
  {
   "cell_type": "markdown",
   "metadata": {
    "slideshow": {
     "slide_type": "slide"
    }
   },
   "source": [
    "## Example\n",
    "\n",
    "- Survey with optional question: how much do you give to charity?\n",
    "- People who give little are less likely to respond.\n",
    "- Therefore, average response is **biased high**."
   ]
  },
  {
   "cell_type": "markdown",
   "metadata": {
    "slideshow": {
     "slide_type": "slide"
    }
   },
   "source": [
    "## Simple ways of dealing with missing data\n",
    "\n",
    "If the data are ______, `.dropna()` doesn't significantly change the data. E.g., it produces an unbiased estimate of the mean.\n",
    "\n",
    "* MCAR (unconditionally ignorable / missing completely at random)\n",
    "\n",
    "* MAR (conditionally ignorable / missing at random)\n",
    "\n",
    "* NMAR (nonignorable / not missing at random)\n",
    "\n",
    "* None of the above"
   ]
  },
  {
   "cell_type": "markdown",
   "metadata": {
    "slideshow": {
     "slide_type": "slide"
    }
   },
   "source": [
    "## Key Point\n",
    "\n",
    "- How we handle missing data depends on the *type of missingness*.\n",
    "- Filling in missing values without taking the type of missingingness into account will likely bias your dataset.\n",
    "- Diminish the usefulness of your results."
   ]
  },
  {
   "cell_type": "markdown",
   "metadata": {
    "slideshow": {
     "slide_type": "slide"
    }
   },
   "source": [
    "## Ways of dealing with missing data: deletion\n",
    "\n",
    "Using *listwise deletion* (dropping observations (rows)) to remove missing values:\n",
    "* Results in unbiased means only when the data are *MCAR*. (rare)\n",
    "* Removes observations with non-null data in other fields. (bad)\n",
    "    - Improvement: can drop missing data only when computing with the column in question.\n",
    "* Doesn't further bias the observed dataset.\n",
    "\n",
    "Explain to yourself why these are true! (Recall DSC 10)"
   ]
  },
  {
   "cell_type": "code",
   "execution_count": 75,
   "metadata": {},
   "outputs": [],
   "source": [
    "np.random.seed(42)\n",
    "heights_mcar = util.make_mcar(heights, 'child', pct=0.50)\n",
    "heights_mar = util.make_mar_on_cat(heights, 'child', 'gender', pct=0.50)"
   ]
  },
  {
   "cell_type": "code",
   "execution_count": 76,
   "metadata": {},
   "outputs": [
    {
     "data": {
      "text/plain": [
       "66.74593147751597"
      ]
     },
     "execution_count": 76,
     "metadata": {},
     "output_type": "execute_result"
    }
   ],
   "source": [
    "# the \"correct\" mean\n",
    "heights['child'].mean()"
   ]
  },
  {
   "cell_type": "code",
   "execution_count": 77,
   "metadata": {},
   "outputs": [
    {
     "data": {
      "text/plain": [
       "66.64068522483944"
      ]
     },
     "execution_count": 77,
     "metadata": {},
     "output_type": "execute_result"
    }
   ],
   "source": [
    "# the mean of the column with data MCAR\n",
    "heights_mcar['child'].dropna().mean()"
   ]
  },
  {
   "cell_type": "code",
   "execution_count": 78,
   "metadata": {},
   "outputs": [
    {
     "data": {
      "text/plain": [
       "66.64068522483944"
      ]
     },
     "execution_count": 78,
     "metadata": {},
     "output_type": "execute_result"
    }
   ],
   "source": [
    "# .mean() automatically drops NaNs\n",
    "heights_mcar['child'].mean()"
   ]
  },
  {
   "cell_type": "code",
   "execution_count": 79,
   "metadata": {},
   "outputs": [
    {
     "data": {
      "text/plain": [
       "68.51884368308356"
      ]
     },
     "execution_count": 79,
     "metadata": {},
     "output_type": "execute_result"
    }
   ],
   "source": [
    "# the mean with data MAR\n",
    "heights_mar['child'].mean()"
   ]
  },
  {
   "cell_type": "markdown",
   "metadata": {
    "slideshow": {
     "slide_type": "slide"
    }
   },
   "source": [
    "## Ways of dealing with missing data: imputation\n",
    "\n",
    "Imputation is the act of filling in missing data with plausable values.\n",
    "\n",
    "* Should be quick and easy to do\n",
    "* Shouldn't \"change\" the dataset\n",
    "\n",
    "These are hard to satisfy!"
   ]
  },
  {
   "cell_type": "markdown",
   "metadata": {
    "slideshow": {
     "slide_type": "slide"
    }
   },
   "source": [
    "## Three kinds of imputation\n",
    "\n",
    "* imputation with a single value: mean, median, mode\n",
    "* imputation with a single value, using a model: regression, kNN\n",
    "* (probabilistic) imputation by drawing from a distribution\n",
    "\n",
    "Each has upsides and downsides; each works differently with different types of missingness."
   ]
  },
  {
   "cell_type": "markdown",
   "metadata": {
    "slideshow": {
     "slide_type": "slide"
    }
   },
   "source": [
    "# Mean imputation"
   ]
  },
  {
   "cell_type": "markdown",
   "metadata": {
    "slideshow": {
     "slide_type": "slide"
    }
   },
   "source": [
    "## Mean imputation\n",
    "\n",
    "* Imputing a missing value with the mean:\n",
    "    - preserves the mean of the observed data (no matter the type)\n",
    "    - decreases the variance\n",
    "    - biases the mean when not *MCAR*"
   ]
  },
  {
   "cell_type": "markdown",
   "metadata": {
    "slideshow": {
     "slide_type": "slide"
    }
   },
   "source": [
    "## Mean imputation in the `heights` data\n",
    "* Mean imputation of MCAR data\n",
    "    - unbiased estimator of the mean.\n",
    "    - decreases variance."
   ]
  },
  {
   "cell_type": "code",
   "execution_count": 82,
   "metadata": {},
   "outputs": [
    {
     "data": {
      "image/png": "[encoded data removed]",
      "text/plain": [
       "<Figure size 432x288 with 1 Axes>"
      ]
     },
     "metadata": {
      "needs_background": "light"
     },
     "output_type": "display_data"
    }
   ],
   "source": [
    "# counts of child heights\n",
    "plt.hist([heights_mcar.child.dropna(), heights.child])\n",
    "plt.legend(['missing (mcar)', 'full data']);"
   ]
  },
  {
   "cell_type": "code",
   "execution_count": 83,
   "metadata": {},
   "outputs": [],
   "source": [
    "# impute with mean\n",
    "heights_mcar_mfilled = heights_mcar.fillna(heights_mcar.child.mean())"
   ]
  },
  {
   "cell_type": "code",
   "execution_count": 84,
   "metadata": {},
   "outputs": [
    {
     "name": "stdout",
     "output_type": "stream",
     "text": [
      "mean (original): 66.745931\n",
      "mean (missing):  66.640685\n",
      "mean (mean imp): 66.640685\n"
     ]
    }
   ],
   "source": [
    "print(\n",
    "    'mean (original): %f' % heights.child.mean(),\n",
    "    'mean (missing):  %f' % heights_mcar.child.mean(),\n",
    "    'mean (mean imp): %f' % heights_mcar_mfilled.child.mean(),\n",
    "    sep='\\n'\n",
    ")"
   ]
  },
  {
   "cell_type": "code",
   "execution_count": 85,
   "metadata": {},
   "outputs": [
    {
     "name": "stdout",
     "output_type": "stream",
     "text": [
      "std (original): 3.579251\n",
      "std (missing):  3.563299\n",
      "std (mean imp): 2.518282\n"
     ]
    }
   ],
   "source": [
    "# Why is this smaller, given formula for std\n",
    "print(\n",
    "    'std (original): %f' % heights.child.std(),\n",
    "    'std (missing):  %f' % heights_mcar.child.std(),\n",
    "    'std (mean imp): %f' % heights_mcar_mfilled.child.std(),\n",
    "    sep='\\n'\n",
    ")"
   ]
  },
  {
   "cell_type": "markdown",
   "metadata": {
    "slideshow": {
     "slide_type": "slide"
    }
   },
   "source": [
    "### Mean imputation of MCAR data\n",
    "\n",
    "* Unbiased estimator of mean.\n",
    "* Variance is drastically reduced.\n",
    "    - Tricks you into thinking your data are more reliable than they are!"
   ]
  },
  {
   "cell_type": "code",
   "execution_count": 86,
   "metadata": {},
   "outputs": [
    {
     "data": {
      "image/png": "[encoded data removed]",
      "text/plain": [
       "<Figure size 432x288 with 1 Axes>"
      ]
     },
     "metadata": {
      "needs_background": "light"
     },
     "output_type": "display_data"
    }
   ],
   "source": [
    "# counts of child heights\n",
    "plt.hist([heights.child, heights_mcar.child.dropna(), heights_mcar_mfilled.child])\n",
    "plt.legend([ 'full data', 'missing (mcar)', 'imputed']);"
   ]
  },
  {
   "cell_type": "markdown",
   "metadata": {
    "slideshow": {
     "slide_type": "slide"
    }
   },
   "source": [
    "## Mean imputation and MAR data\n",
    "\n",
    "* Naive mean imputation leads to biased estimates of mean across groups, when using MAR data.\n",
    "    - e.g., if missingness depends on gender, different genders will have differently-biased means\n",
    "    - overall mean will be biased towards one group\n",
    "* Since MAR is MCAR within each group, can do group-wise mean imputation.\n",
    "* This won't fix the bias across groups!"
   ]
  },
  {
   "cell_type": "code",
   "execution_count": 106,
   "metadata": {},
   "outputs": [],
   "source": [
    "np.random.seed(42)\n",
    "heights_mar_cat = util.make_mar_on_cat(heights, 'child', 'gender', pct=0.50)"
   ]
  },
  {
   "cell_type": "code",
   "execution_count": 107,
   "metadata": {},
   "outputs": [
    {
     "data": {
      "image/png": "[encoded data removed]",
      "text/plain": [
       "<Figure size 432x288 with 1 Axes>"
      ]
     },
     "metadata": {
      "needs_background": "light"
     },
     "output_type": "display_data"
    }
   ],
   "source": [
    "# The observed vs true distribution\n",
    "plt.hist([heights.child, heights_mar_cat.child]);\n",
    "plt.legend([ 'full data','missing (mar)']);"
   ]
  },
  {
   "cell_type": "code",
   "execution_count": 108,
   "metadata": {},
   "outputs": [],
   "source": [
    "# naive mean imputation\n",
    "heights_mar_cat_mfilled = heights_mar_cat.fillna(heights_mar_cat.child.mean())"
   ]
  },
  {
   "cell_type": "code",
   "execution_count": 109,
   "metadata": {},
   "outputs": [
    {
     "name": "stdout",
     "output_type": "stream",
     "text": [
      "mean (original): 66.745931\n",
      "mean (missing):  64.999358\n",
      "mean (mean imp): 64.999358\n"
     ]
    }
   ],
   "source": [
    "print(\n",
    "    'mean (original): %f' % heights.child.mean(),\n",
    "    'mean (missing):  %f' % heights_mar_cat.child.mean(),\n",
    "    'mean (mean imp): %f' % heights_mar_cat_mfilled.child.mean(),\n",
    "    sep='\\n'\n",
    ")"
   ]
  },
  {
   "cell_type": "code",
   "execution_count": 110,
   "metadata": {},
   "outputs": [
    {
     "name": "stdout",
     "output_type": "stream",
     "text": [
      "std (original): 3.579251\n",
      "std (missing):  3.166655\n",
      "std (mean imp): 2.237963\n"
     ]
    }
   ],
   "source": [
    "print(\n",
    "    'std (original): %f' % heights.child.std(),\n",
    "    'std (missing):  %f' % heights_mar_cat.child.std(),\n",
    "    'std (mean imp): %f' % heights_mar_cat_mfilled.child.std(),\n",
    "    sep='\\n'\n",
    ")"
   ]
  },
  {
   "cell_type": "code",
   "execution_count": 111,
   "metadata": {},
   "outputs": [
    {
     "data": {
      "image/png": "[encoded data removed]",
      "text/plain": [
       "<Figure size 432x288 with 1 Axes>"
      ]
     },
     "metadata": {
      "needs_background": "light"
     },
     "output_type": "display_data"
    }
   ],
   "source": [
    "plt.hist([heights.child, heights_mar_cat.child, heights_mar_cat_mfilled.child]);\n",
    "plt.legend([ 'full data','missing (mar)', 'imputed']);"
   ]
  },
  {
   "cell_type": "code",
   "execution_count": 112,
   "metadata": {},
   "outputs": [
    {
     "data": {
      "text/html": [
       "<div>\n",
       "<style scoped>\n",
       "    .dataframe tbody tr th:only-of-type {\n",
       "        vertical-align: middle;\n",
       "    }\n",
       "\n",
       "    .dataframe tbody tr th {\n",
       "        vertical-align: top;\n",
       "    }\n",
       "\n",
       "    .dataframe thead th {\n",
       "        text-align: right;\n",
       "    }\n",
       "</style>\n",
       "<table border=\"1\" class=\"dataframe\">\n",
       "  <thead>\n",
       "    <tr style=\"text-align: right;\">\n",
       "      <th></th>\n",
       "      <th>full</th>\n",
       "      <th>missing (mar)</th>\n",
       "      <th>naively imputed</th>\n",
       "    </tr>\n",
       "    <tr>\n",
       "      <th>gender</th>\n",
       "      <th></th>\n",
       "      <th></th>\n",
       "      <th></th>\n",
       "    </tr>\n",
       "  </thead>\n",
       "  <tbody>\n",
       "    <tr>\n",
       "      <th>female</th>\n",
       "      <td>64.103974</td>\n",
       "      <td>64.011024</td>\n",
       "      <td>64.168110</td>\n",
       "    </tr>\n",
       "    <tr>\n",
       "      <th>male</th>\n",
       "      <td>69.234096</td>\n",
       "      <td>69.377907</td>\n",
       "      <td>65.782217</td>\n",
       "    </tr>\n",
       "  </tbody>\n",
       "</table>\n",
       "</div>"
      ],
      "text/plain": [
       "             full  missing (mar)  naively imputed\n",
       "gender                                           \n",
       "female  64.103974      64.011024        64.168110\n",
       "male    69.234096      69.377907        65.782217"
      ]
     },
     "execution_count": 112,
     "metadata": {},
     "output_type": "execute_result"
    }
   ],
   "source": [
    "# Biased mean by groups!\n",
    "# How is this connected to simpson's paradox?\n",
    "pd.concat([\n",
    "    heights.groupby('gender').child.mean().rename('full'),\n",
    "    heights_mar_cat.groupby('gender').child.mean().rename('missing (mar)'),\n",
    "    heights_mar_cat_mfilled.groupby('gender').child.mean().rename('naively imputed')\n",
    "], axis=1)"
   ]
  },
  {
   "cell_type": "markdown",
   "metadata": {
    "slideshow": {
     "slide_type": "slide"
    }
   },
   "source": [
    "### Discussion Question\n",
    "\n",
    "* In MAR data, imputation by the mean gives a biased estimate of the mean of each group. \n",
    "* You can obtain an unbiased estimate of means across groups by imputing with the mean within each group.\n",
    "* How would you code this up for `child` heights that are MAR dependent on `gender`?\n",
    "\n",
    "Recall that unconditional mean imputation is given by `heights.child.fillna(heights.child.mean())`"
   ]
  },
  {
   "cell_type": "markdown",
   "metadata": {
    "slideshow": {
     "slide_type": "slide"
    }
   },
   "source": [
    "## Conclusions: imputation with single values\n",
    "* Imputing missing data in a column with the mean of the column:\n",
    "    - faithfully reproduces the mean of the observed dataset,\n",
    "    - reduces the variance,\n",
    "    - biases relationships of the column with other columns (if not MCAR).\n",
    "    \n",
    "* Similar with other statistics (median, mode)."
   ]
  },
  {
   "cell_type": "markdown",
   "metadata": {
    "slideshow": {
     "slide_type": "slide"
    }
   },
   "source": [
    "### Discussion Question\n",
    "\n",
    "* Consider the income reporting in the US Census. \n",
    "* Suppose we impute missing salaries with the mean overall income.\n",
    "* Is there more bias in:\n",
    "    - (low-paying) service jobs or \n",
    "    - (high-paying) executive jobs?\n",
    "    \n",
    "Hint: what does the distribution of incomes look like? Where is the mean/median?"
   ]
  },
  {
   "cell_type": "markdown",
   "metadata": {
    "slideshow": {
     "slide_type": "slide"
    }
   },
   "source": [
    "# Imputing using distributions"
   ]
  },
  {
   "cell_type": "markdown",
   "metadata": {
    "slideshow": {
     "slide_type": "slide"
    }
   },
   "source": [
    "## Imputing missing values using distributions\n",
    "* We can *probalistically* impute missing data from a distribution.\n",
    "    - Fill in missing data by drawing from the distribution of *non-missing* data.\n",
    "    - I.e., we need to fill in this missing value. Idea: just randomly choose an observed value.\n",
    "* Recall: using `.sample`, we can draw from an (empirical) distribution."
   ]
  },
  {
   "cell_type": "markdown",
   "metadata": {
    "slideshow": {
     "slide_type": "slide"
    }
   },
   "source": [
    "### Imputing `heights_mcar` data by drawing from a distribution.\n",
    "\n",
    "Steps:\n",
    "* Sample values of child heights from the observed heights.\n",
    "* Fill in missing child heights by using these draws from the observed heights."
   ]
  },
  {
   "cell_type": "code",
   "execution_count": 116,
   "metadata": {},
   "outputs": [],
   "source": [
    "num_null = heights_mcar.child.isnull().sum() # number of nulls\n",
    "fill_values = heights_mcar.child.dropna().sample(num_null, replace=True)  # draw fill vals from distribution\n",
    "fill_values.index = heights_mcar.loc[heights_mcar.child.isnull()].index  # align the index\n",
    "heights_mcar_dfilled = heights_mcar.fillna({'child': fill_values.to_dict()})  # fill the vals"
   ]
  },
  {
   "cell_type": "code",
   "execution_count": 117,
   "metadata": {},
   "outputs": [
    {
     "name": "stdout",
     "output_type": "stream",
     "text": [
      "mean (original):  66.745931\n",
      "mean (missing):   66.640685\n",
      "mean (distr imp): 66.633619\n"
     ]
    }
   ],
   "source": [
    "print(\n",
    "    'mean (original):  %f' % heights.child.mean(),\n",
    "    'mean (missing):   %f' % heights_mcar.child.mean(),\n",
    "    'mean (distr imp): %f' % heights_mcar_dfilled.child.mean(),\n",
    "    sep='\\n'\n",
    ")"
   ]
  },
  {
   "cell_type": "code",
   "execution_count": 118,
   "metadata": {},
   "outputs": [
    {
     "name": "stdout",
     "output_type": "stream",
     "text": [
      "std (original):  3.579251\n",
      "std (missing):   3.563299\n",
      "std (distr imp): 3.537244\n"
     ]
    }
   ],
   "source": [
    "print(\n",
    "    'std (original):  %f' % heights.child.std(),\n",
    "    'std (missing):   %f' % heights_mcar.child.std(),\n",
    "    'std (distr imp): %f' % heights_mcar_dfilled.child.std(),\n",
    "    sep='\\n'\n",
    ")"
   ]
  },
  {
   "cell_type": "code",
   "execution_count": 119,
   "metadata": {},
   "outputs": [
    {
     "data": {
      "image/png": "[encoded data removed]",
      "text/plain": [
       "<Figure size 432x288 with 1 Axes>"
      ]
     },
     "metadata": {
      "needs_background": "light"
     },
     "output_type": "display_data"
    }
   ],
   "source": [
    "plt.hist([heights.child, heights_mcar.child, heights_mcar_dfilled.child], density=True);\n",
    "plt.legend([ 'full data','missing (mcar)', 'distr imputed']);"
   ]
  },
  {
   "cell_type": "markdown",
   "metadata": {
    "slideshow": {
     "slide_type": "slide"
    }
   },
   "source": [
    "## Observations\n",
    "* We only drew missing values from observed values. What if a missing value was previously unobserved?\n",
    "    - better to bin the data and draw from bins instead! \n",
    "    - use `np.histogram` to bin data.\n",
    "\n",
    "* How does this generalize to categoricals?"
   ]
  },
  {
   "cell_type": "markdown",
   "metadata": {
    "slideshow": {
     "slide_type": "slide"
    }
   },
   "source": [
    "## Observations\n",
    "\n",
    "* We created an imputed dataset using randomness to preserve variance\n",
    "* Our imputation could have been different, had we run it again\n",
    "* *Multiple imputation*: generate multiple imputed datasets and aggregate each result!\n",
    "    - Should remind you of bootstrap estimation."
   ]
  },
  {
   "cell_type": "markdown",
   "metadata": {
    "slideshow": {
     "slide_type": "slide"
    }
   },
   "source": [
    "## Multiple Imputation (Donald Rubin)\n",
    "\n",
    "Multiple imputation is a 3 step process:\n",
    "\n",
    "<div class=\"image-txt-container\">\n",
    "\n",
    "* **Imputation**: Impute a missing data multiple times (m times)\n",
    "* **Analysis**: Analyze each complete dataset separetly (m sets)\n",
    "* **Pooling**: Combine multiple analysis result. M estimates result in the final estimate.\n",
    "\n",
    "<img src=\"imgs/mult_imp.png\" width=\"50%\">\n",
    "\n",
    "</div>\n"
   ]
  },
  {
   "cell_type": "markdown",
   "metadata": {
    "slideshow": {
     "slide_type": "slide"
    }
   },
   "source": [
    "### Multiple Imputation: steps\n",
    "\n",
    "0. Start with observed and incomplete data. \n",
    "1. Create several **imputed** versions of the data by drawing from a distribution of plausible values.\n",
    "    - The imputed datasets are identical for the observed data entries, \n",
    "    - they differ in the imputed values. \n",
    "    - The differences reflect our **uncertainty** about what value to impute.\n",
    "\n",
    "2. Then we estimate the parameters of interest from **each** imputed dataset.\n",
    "3. The last step is to pool the m parameter estimates into one estimate and to estimate its variance."
   ]
  },
  {
   "cell_type": "code",
   "execution_count": 120,
   "metadata": {},
   "outputs": [],
   "source": [
    "# heights_mcar is our incomplete data\n",
    "\n",
    "def create_imputed(col):\n",
    "    num_null = col.isnull().sum()\n",
    "    fill_values = col.dropna().sample(num_null, replace=True)\n",
    "    fill_values.index = col.loc[col.isnull()].index\n",
    "    return col.fillna(fill_values.to_dict())\n"
   ]
  },
  {
   "cell_type": "code",
   "execution_count": 121,
   "metadata": {},
   "outputs": [
    {
     "data": {
      "text/plain": [
       "0    73.2\n",
       "1    69.2\n",
       "2    66.0\n",
       "3    70.5\n",
       "4    73.5\n",
       "Name: child, dtype: float64"
      ]
     },
     "execution_count": 121,
     "metadata": {},
     "output_type": "execute_result"
    }
   ],
   "source": [
    "create_imputed(heights_mcar.child).head()"
   ]
  },
  {
   "cell_type": "code",
   "execution_count": 122,
   "metadata": {},
   "outputs": [
    {
     "data": {
      "text/html": [
       "<div>\n",
       "<style scoped>\n",
       "    .dataframe tbody tr th:only-of-type {\n",
       "        vertical-align: middle;\n",
       "    }\n",
       "\n",
       "    .dataframe tbody tr th {\n",
       "        vertical-align: top;\n",
       "    }\n",
       "\n",
       "    .dataframe thead th {\n",
       "        text-align: right;\n",
       "    }\n",
       "</style>\n",
       "<table border=\"1\" class=\"dataframe\">\n",
       "  <thead>\n",
       "    <tr style=\"text-align: right;\">\n",
       "      <th></th>\n",
       "      <th>0</th>\n",
       "      <th>1</th>\n",
       "      <th>2</th>\n",
       "      <th>3</th>\n",
       "      <th>4</th>\n",
       "      <th>5</th>\n",
       "      <th>6</th>\n",
       "      <th>7</th>\n",
       "      <th>8</th>\n",
       "      <th>9</th>\n",
       "      <th>...</th>\n",
       "      <th>90</th>\n",
       "      <th>91</th>\n",
       "      <th>92</th>\n",
       "      <th>93</th>\n",
       "      <th>94</th>\n",
       "      <th>95</th>\n",
       "      <th>96</th>\n",
       "      <th>97</th>\n",
       "      <th>98</th>\n",
       "      <th>99</th>\n",
       "    </tr>\n",
       "  </thead>\n",
       "  <tbody>\n",
       "    <tr>\n",
       "      <th>0</th>\n",
       "      <td>73.2</td>\n",
       "      <td>73.2</td>\n",
       "      <td>73.2</td>\n",
       "      <td>73.2</td>\n",
       "      <td>73.2</td>\n",
       "      <td>73.2</td>\n",
       "      <td>73.2</td>\n",
       "      <td>73.2</td>\n",
       "      <td>73.2</td>\n",
       "      <td>73.2</td>\n",
       "      <td>...</td>\n",
       "      <td>73.2</td>\n",
       "      <td>73.2</td>\n",
       "      <td>73.2</td>\n",
       "      <td>73.2</td>\n",
       "      <td>73.2</td>\n",
       "      <td>73.2</td>\n",
       "      <td>73.2</td>\n",
       "      <td>73.2</td>\n",
       "      <td>73.2</td>\n",
       "      <td>73.2</td>\n",
       "    </tr>\n",
       "    <tr>\n",
       "      <th>1</th>\n",
       "      <td>69.2</td>\n",
       "      <td>69.2</td>\n",
       "      <td>69.2</td>\n",
       "      <td>69.2</td>\n",
       "      <td>69.2</td>\n",
       "      <td>69.2</td>\n",
       "      <td>69.2</td>\n",
       "      <td>69.2</td>\n",
       "      <td>69.2</td>\n",
       "      <td>69.2</td>\n",
       "      <td>...</td>\n",
       "      <td>69.2</td>\n",
       "      <td>69.2</td>\n",
       "      <td>69.2</td>\n",
       "      <td>69.2</td>\n",
       "      <td>69.2</td>\n",
       "      <td>69.2</td>\n",
       "      <td>69.2</td>\n",
       "      <td>69.2</td>\n",
       "      <td>69.2</td>\n",
       "      <td>69.2</td>\n",
       "    </tr>\n",
       "    <tr>\n",
       "      <th>2</th>\n",
       "      <td>68.0</td>\n",
       "      <td>65.0</td>\n",
       "      <td>63.0</td>\n",
       "      <td>70.0</td>\n",
       "      <td>68.5</td>\n",
       "      <td>74.0</td>\n",
       "      <td>70.0</td>\n",
       "      <td>71.0</td>\n",
       "      <td>69.0</td>\n",
       "      <td>73.0</td>\n",
       "      <td>...</td>\n",
       "      <td>68.0</td>\n",
       "      <td>70.0</td>\n",
       "      <td>62.0</td>\n",
       "      <td>65.0</td>\n",
       "      <td>67.0</td>\n",
       "      <td>65.5</td>\n",
       "      <td>71.0</td>\n",
       "      <td>70.2</td>\n",
       "      <td>72.7</td>\n",
       "      <td>65.0</td>\n",
       "    </tr>\n",
       "    <tr>\n",
       "      <th>3</th>\n",
       "      <td>64.0</td>\n",
       "      <td>62.0</td>\n",
       "      <td>70.0</td>\n",
       "      <td>69.0</td>\n",
       "      <td>63.0</td>\n",
       "      <td>64.5</td>\n",
       "      <td>63.0</td>\n",
       "      <td>64.5</td>\n",
       "      <td>66.5</td>\n",
       "      <td>62.0</td>\n",
       "      <td>...</td>\n",
       "      <td>67.0</td>\n",
       "      <td>69.0</td>\n",
       "      <td>60.0</td>\n",
       "      <td>65.0</td>\n",
       "      <td>66.0</td>\n",
       "      <td>73.0</td>\n",
       "      <td>72.0</td>\n",
       "      <td>60.0</td>\n",
       "      <td>64.0</td>\n",
       "      <td>66.0</td>\n",
       "    </tr>\n",
       "    <tr>\n",
       "      <th>4</th>\n",
       "      <td>73.5</td>\n",
       "      <td>73.5</td>\n",
       "      <td>73.5</td>\n",
       "      <td>73.5</td>\n",
       "      <td>73.5</td>\n",
       "      <td>73.5</td>\n",
       "      <td>73.5</td>\n",
       "      <td>73.5</td>\n",
       "      <td>73.5</td>\n",
       "      <td>73.5</td>\n",
       "      <td>...</td>\n",
       "      <td>73.5</td>\n",
       "      <td>73.5</td>\n",
       "      <td>73.5</td>\n",
       "      <td>73.5</td>\n",
       "      <td>73.5</td>\n",
       "      <td>73.5</td>\n",
       "      <td>73.5</td>\n",
       "      <td>73.5</td>\n",
       "      <td>73.5</td>\n",
       "      <td>73.5</td>\n",
       "    </tr>\n",
       "  </tbody>\n",
       "</table>\n",
       "<p>5 rows × 100 columns</p>\n",
       "</div>"
      ],
      "text/plain": [
       "     0     1     2     3     4     5     6     7     8     9   ...    90  \\\n",
       "0  73.2  73.2  73.2  73.2  73.2  73.2  73.2  73.2  73.2  73.2  ...  73.2   \n",
       "1  69.2  69.2  69.2  69.2  69.2  69.2  69.2  69.2  69.2  69.2  ...  69.2   \n",
       "2  68.0  65.0  63.0  70.0  68.5  74.0  70.0  71.0  69.0  73.0  ...  68.0   \n",
       "3  64.0  62.0  70.0  69.0  63.0  64.5  63.0  64.5  66.5  62.0  ...  67.0   \n",
       "4  73.5  73.5  73.5  73.5  73.5  73.5  73.5  73.5  73.5  73.5  ...  73.5   \n",
       "\n",
       "     91    92    93    94    95    96    97    98    99  \n",
       "0  73.2  73.2  73.2  73.2  73.2  73.2  73.2  73.2  73.2  \n",
       "1  69.2  69.2  69.2  69.2  69.2  69.2  69.2  69.2  69.2  \n",
       "2  70.0  62.0  65.0  67.0  65.5  71.0  70.2  72.7  65.0  \n",
       "3  69.0  60.0  65.0  66.0  73.0  72.0  60.0  64.0  66.0  \n",
       "4  73.5  73.5  73.5  73.5  73.5  73.5  73.5  73.5  73.5  \n",
       "\n",
       "[5 rows x 100 columns]"
      ]
     },
     "execution_count": 122,
     "metadata": {},
     "output_type": "execute_result"
    }
   ],
   "source": [
    "mult_imp = pd.concat([create_imputed(heights_mcar.child).rename(k) for k in range(100)], axis=1)\n",
    "mult_imp.head()"
   ]
  },
  {
   "cell_type": "code",
   "execution_count": 123,
   "metadata": {},
   "outputs": [
    {
     "data": {
      "image/png": "[encoded data removed]",
      "text/plain": [
       "<Figure size 432x288 with 1 Axes>"
      ]
     },
     "metadata": {
      "needs_background": "light"
     },
     "output_type": "display_data"
    }
   ],
   "source": [
    "# plot 15 random imputations\n",
    "mult_imp.sample(15, axis=1).plot(kind='kde', alpha=0.5, legend=False);"
   ]
  },
  {
   "cell_type": "code",
   "execution_count": 126,
   "metadata": {},
   "outputs": [
    {
     "data": {
      "image/png": "[encoded data removed]",
      "text/plain": [
       "<Figure size 432x288 with 1 Axes>"
      ]
     },
     "metadata": {
      "needs_background": "light"
     },
     "output_type": "display_data"
    }
   ],
   "source": [
    "# sampling distribution of imputed means\n",
    "mult_imp.mean().plot(kind='hist', bins=20);"
   ]
  },
  {
   "cell_type": "code",
   "execution_count": 127,
   "metadata": {},
   "outputs": [
    {
     "data": {
      "image/png": "[encoded data removed]",
      "text/plain": [
       "<Figure size 432x288 with 1 Axes>"
      ]
     },
     "metadata": {
      "needs_background": "light"
     },
     "output_type": "display_data"
    }
   ],
   "source": [
    "# doesn't decrease the standard deviations of imputed data\n",
    "mult_imp.std().plot(kind='hist', bins=50)\n",
    "std_incomplete = heights_mcar.child.std()\n",
    "plt.plot([std_incomplete, std_incomplete], [0,8]);"
   ]
  },
  {
   "cell_type": "markdown",
   "metadata": {
    "slideshow": {
     "slide_type": "slide"
    }
   },
   "source": [
    "### Discussion Question\n",
    "\n",
    "* Suppose we *average* all the multiple imputed heights and impute data using that average.\n",
    "* Does the variance of the imputed data:\n",
    "    - Remain the same?\n",
    "    - Decrease?"
   ]
  },
  {
   "cell_type": "code",
   "execution_count": 128,
   "metadata": {},
   "outputs": [],
   "source": [
    "imputed = mult_imp.mean(axis=1)"
   ]
  },
  {
   "cell_type": "code",
   "execution_count": 129,
   "metadata": {},
   "outputs": [
    {
     "name": "stdout",
     "output_type": "stream",
     "text": [
      "std (original):  3.579251\n",
      "std (missing):   3.563299\n",
      "std (distr imp): 2.530819\n"
     ]
    }
   ],
   "source": [
    "print(\n",
    "    'std (original):  %f' % heights.child.std(),\n",
    "    'std (missing):   %f' % heights_mcar.child.std(),\n",
    "    'std (distr imp): %f' % imputed.std(),\n",
    "    sep='\\n'\n",
    ")"
   ]
  },
  {
   "cell_type": "code",
   "execution_count": 130,
   "metadata": {},
   "outputs": [
    {
     "data": {
      "image/png": "[encoded data removed]",
      "text/plain": [
       "<Figure size 432x288 with 1 Axes>"
      ]
     },
     "metadata": {
      "needs_background": "light"
     },
     "output_type": "display_data"
    }
   ],
   "source": [
    "plt.hist([heights.child, heights_mcar.child, imputed], density=True);\n",
    "plt.legend([ 'full data','missing (mcar)', 'distr imputed']);"
   ]
  },
  {
   "cell_type": "markdown",
   "metadata": {
    "slideshow": {
     "slide_type": "skip"
    }
   },
   "source": [
    "## Missingness, conditional on multiple variables\n",
    "* Use multiple imputation, as in previous example\n",
    "* Impute from a distribution for each variable\n",
    "* Do an analysis per imputation; aggregate the analyses."
   ]
  },
  {
   "cell_type": "markdown",
   "metadata": {
    "slideshow": {
     "slide_type": "slide"
    }
   },
   "source": [
    "## Summary of Imputation Techniques\n",
    "\n",
    "* Listwise deletion\n",
    "* Mean imputation\n",
    "* Conditional (groupwise) mean imputation\n",
    "* Probabilistic imputation\n",
    "* Multiple imputation"
   ]
  },
  {
   "cell_type": "markdown",
   "metadata": {
    "slideshow": {
     "slide_type": "slide"
    }
   },
   "source": [
    "## Summary: listwise deletion\n",
    "\n",
    "* Procedure: `.dropna()`\n",
    "* If MCAR, doesn't change statistics of the data\n",
    "* If MCAR and small, may have high variance"
   ]
  },
  {
   "cell_type": "markdown",
   "metadata": {
    "slideshow": {
     "slide_type": "slide"
    }
   },
   "source": [
    "## Summary: (single value) mean imputation \n",
    "\n",
    "* Procedure: `.fillna(dataframe[col].mean())`\n",
    "* If MCAR, gives unbiased estimate of mean; variance is too low.\n",
    "* Analogue for categorical data: imputation with the mode."
   ]
  },
  {
   "cell_type": "markdown",
   "metadata": {
    "slideshow": {
     "slide_type": "slide"
    }
   },
   "source": [
    "## Summary: conditional mean imputation\n",
    "\n",
    "* Procedure: for a column `c1`, conditional on a second column `c2`:\n",
    "```\n",
    "means = dataframe.groupby('c2').mean().to_dict()\n",
    "imputed = dataframe['c1'].apply(lambda x: means[x] if pd.isnull(x) else x)\n",
    "```\n",
    "* If MAR, gives unbiased estimate of mean; variance is too low.\n",
    "* Increases correlations between the columns.\n",
    "* If dependent on *more than one* column: use linear regression to predict missing value."
   ]
  },
  {
   "cell_type": "markdown",
   "metadata": {
    "slideshow": {
     "slide_type": "slide"
    }
   },
   "source": [
    "## Summary: probabilistic imputation\n",
    "\n",
    "* Procedure: draw from empirical distribution of observed data to fill missing values.\n",
    "* If MCAR, gives unbiased estimate of mean and variance.\n",
    "* Extending to MAR case: draw from *conditional empirical distributions*\n",
    "    - if conditional on a single categorical column `c2`: \n",
    "    - apply MCAR procedure to the groups of `dataframe.groupby(c2)`"
   ]
  },
  {
   "cell_type": "markdown",
   "metadata": {
    "slideshow": {
     "slide_type": "slide"
    }
   },
   "source": [
    "## Summary: multiple imputation\n",
    "\n",
    "* Procedure:\n",
    "    - Apply probabilistic imputation multiple times, resulting in $N$ imputed datasets.\n",
    "    - Do analyses separately on the $N$ imputed datasets (e.g. compute correlation coefficient).\n",
    "    - Plot the distribution of the results of these analyses!\n",
    "* If a column is missing conditional on multiple columns, your \"multiple imputations\" should include probabilistic imputations for each!"
   ]
  },
  {
   "cell_type": "markdown",
   "metadata": {
    "slideshow": {
     "slide_type": "slide"
    }
   },
   "source": [
    "## What about MAR?\n",
    "\n",
    "- Missing value depends on other columns.\n",
    "- Idea: try to predict it.\n",
    "- We'll cover this when we talk about models in a few weeks."
   ]
  },
  {
   "cell_type": "markdown",
   "metadata": {
    "slideshow": {
     "slide_type": "skip"
    }
   },
   "source": [
    "## Summary of Imputation Techniques\n",
    "\n",
    "\n",
    "|---|Unbiased|---|---|Standard Error|\n",
    "|---|---|---|---|---|\n",
    "|---|Mean|Regression weights|Correlation|---|\n",
    "|Listwise deletion|MCAR|MCAR|MCAR|Large|\n",
    "|Mean|MCAR|---|---|Small|\n",
    "|Regressions|MAR|MAR|---|Small|\n",
    "|Probabilistic|MAR|MAR|MAR|Large|\n",
    "|Multiple|MAR|MAR|MAR|Good|\n"
   ]
  }
 ],
 "metadata": {
  "celltoolbar": "Slideshow",
  "kernelspec": {
   "display_name": "Python 3",
   "language": "python",
   "name": "python3"
  },
  "language_info": {
   "codemirror_mode": {
    "name": "ipython",
    "version": 3
   },
   "file_extension": ".py",
   "mimetype": "text/x-python",
   "name": "python",
   "nbconvert_exporter": "python",
   "pygments_lexer": "ipython3",
   "version": "3.8.5"
  },
  "livereveal": {
   "scroll": true,
   "transition": "none"
  }
 },
 "nbformat": 4,
 "nbformat_minor": 2
}
